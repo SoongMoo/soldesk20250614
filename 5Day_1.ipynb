{
 "cells": [
  {
   "cell_type": "code",
   "execution_count": null,
   "id": "f915f8c7-cfac-456b-8ec1-10041b5b612a",
   "metadata": {},
   "outputs": [],
   "source": [
    "import numpy as np\n",
    "xarr = np.array([1.1, 1.2, 1.3, 1.4, 1.5])\n",
    "print(xarr)\n",
    "yarr = np.array([2.1, 2.2, 2.3, 2.4, 2.5])\n",
    "print(yarr)\n",
    "cond = np.array([True, False, True, True, False])\n",
    "print(cond)"
   ]
  },
  {
   "cell_type": "code",
   "execution_count": 6,
   "id": "9b775626-914b-4d44-9aea-57e3f7e925a2",
   "metadata": {},
   "outputs": [
    {
     "data": {
      "text/plain": [
       "array([1.1, 2.2, 1.3, 1.4, 2.5])"
      ]
     },
     "execution_count": 6,
     "metadata": {},
     "output_type": "execute_result"
    }
   ],
   "source": [
    "result = np.where(cond, xarr, yarr)\n",
    "result"
   ]
  },
  {
   "cell_type": "code",
   "execution_count": 7,
   "id": "08f531e1-d25c-48a6-b78b-7f5e464c2aed",
   "metadata": {},
   "outputs": [
    {
     "name": "stdout",
     "output_type": "stream",
     "text": [
      "[0.22733602 0.31675834 0.79736546]\n",
      "[6 6 9 3 8]\n"
     ]
    }
   ],
   "source": [
    "rng = np.random.default_rng(seed=12345)\n",
    "print(rng.random(3))  # 0~1 사이 난수 3개\n",
    "print(rng.integers(low=0, high=10, size=5)) # 정수 # 0~9 사이 정수 5개"
   ]
  },
  {
   "cell_type": "code",
   "execution_count": 10,
   "id": "b40cae4a-d4f5-4cc6-bc04-5c4894c1b676",
   "metadata": {},
   "outputs": [
    {
     "name": "stdout",
     "output_type": "stream",
     "text": [
      "[[-1.22867499  0.25755777  0.31290292 -0.13081169]\n",
      " [ 1.26998312 -0.09296246 -0.06615089 -1.10821447]\n",
      " [ 0.13595685  1.34707776  0.06114402  0.0709146 ]\n",
      " [ 0.43365454  0.27748366  0.53025239  0.53672097]]\n",
      "[[False  True  True False]\n",
      " [ True False False False]\n",
      " [ True  True  True  True]\n",
      " [ True  True  True  True]]\n"
     ]
    },
    {
     "data": {
      "text/plain": [
       "array([[-2,  2,  2, -2],\n",
       "       [ 2, -2, -2, -2],\n",
       "       [ 2,  2,  2,  2],\n",
       "       [ 2,  2,  2,  2]])"
      ]
     },
     "execution_count": 10,
     "metadata": {},
     "output_type": "execute_result"
    }
   ],
   "source": [
    "arr = rng.standard_normal((4, 4)) # standard_normal:평균이 0 표준편차 1\n",
    "print(arr)\n",
    "print(arr > 0)\n",
    "result = np.where(arr>0 ,  2  ,  -2  )\n",
    "result"
   ]
  },
  {
   "cell_type": "code",
   "execution_count": 18,
   "id": "528b4935-e262-426f-98df-d34f9bf20859",
   "metadata": {},
   "outputs": [
    {
     "name": "stdout",
     "output_type": "stream",
     "text": [
      "[[ 0.2262628   0.68618251  1.21500461  0.21605944]\n",
      " [-0.96482356 -0.5566078  -2.29838764 -0.73208213]\n",
      " [ 0.7364691   0.46571672 -0.10787605 -0.34143629]\n",
      " [ 1.58453379  0.28224121  0.90954639  0.39507157]\n",
      " [-0.66937652  1.55536898 -1.23813903 -1.19617346]]\n",
      "0.008377731597032645\n",
      "0.008377731597032645\n",
      "0.1675546319406529\n",
      "0.1675546319406529\n",
      "1.584533793470381\n",
      "1.584533793470381\n",
      "-2.298387640184483\n",
      "-2.298387640184483\n"
     ]
    }
   ],
   "source": [
    "arr = rng.standard_normal((5, 4))\n",
    "print(arr)\n",
    "print(np.mean(arr))\n",
    "print(arr.mean())\n",
    "print(np.sum(arr))\n",
    "print(arr.sum())\n",
    "print(np.max(arr))\n",
    "print(arr.max())\n",
    "print(np.min(arr))\n",
    "print(arr.min())"
   ]
  },
  {
   "cell_type": "code",
   "execution_count": 25,
   "id": "d8307765-9352-4984-9b15-0e2c5466d2c9",
   "metadata": {},
   "outputs": [
    {
     "name": "stdout",
     "output_type": "stream",
     "text": [
      "[ 0.58587734 -1.13797528  0.18821837  0.79284824 -0.38708001]\n",
      "[ 1.21500461 -0.5566078   0.7364691   1.58453379  1.55536898]\n",
      "[ 0.18261312  0.48658032 -0.30397034 -0.33171217]\n",
      "[1.58453379 1.55536898 1.21500461 0.39507157]\n"
     ]
    }
   ],
   "source": [
    "print(arr.mean(axis = 1)) # 행의 평균\n",
    "print(arr.max(axis = 1)) # 행\n",
    "print(arr.mean(axis = 0)) # 열의 평균\n",
    "print(arr.max(axis = 0)) # 열"
   ]
  },
  {
   "cell_type": "code",
   "execution_count": 29,
   "id": "a804c69a-8abf-45d2-a72e-dde7411dab30",
   "metadata": {},
   "outputs": [
    {
     "name": "stdout",
     "output_type": "stream",
     "text": [
      "[ 0  1  3  6 10 15 21 28]\n",
      "[ 0  1  3  6 10 15 21 28 36]\n",
      "[[0 1 2]\n",
      " [3 4 5]\n",
      " [6 7 8]]\n",
      "[[ 0  1  3]\n",
      " [ 3  7 12]\n",
      " [ 6 13 21]]\n",
      "[[ 0  1  2]\n",
      " [ 3  5  7]\n",
      " [ 9 12 15]]\n"
     ]
    }
   ],
   "source": [
    "arr = np.array([0, 1, 2, 3, 4, 5, 6, 7])\n",
    "print(arr.cumsum()) \n",
    "arr = np.array([[0, 1, 2], [3, 4, 5], [6, 7, 8]])\n",
    "print(arr.cumsum()) \n",
    "print(arr)\n",
    "print(arr.cumsum(axis = 1)) \n",
    "print(arr.cumsum(axis = 0)) "
   ]
  },
  {
   "cell_type": "code",
   "execution_count": null,
   "id": "4aef488c-83c2-42dc-b490-b608f2eb52a8",
   "metadata": {},
   "outputs": [],
   "source": []
  },
  {
   "cell_type": "code",
   "execution_count": 35,
   "id": "8a1670a7-5dd2-4be6-8d9e-aa1a0a4d4187",
   "metadata": {},
   "outputs": [
    {
     "name": "stdout",
     "output_type": "stream",
     "text": [
      "[-0.62369215  0.4874809   0.75900369 -1.47967223  0.12119508  1.18862963\n",
      " -0.33343944  0.64909124 -0.02683202  1.02504738  1.84822504 -1.10302841\n",
      " -0.29038879  0.3915681  -0.63517949 -0.83004605 -0.34976637 -0.2730431\n",
      " -0.65794397  0.32687149  0.80647751  0.74527326  0.67935654  1.19250597\n",
      " -1.36682791 -0.1166102   0.18902024  0.52577135 -1.61611005  1.88072206\n",
      " -0.89060977  0.26406507  0.73730631  1.08683733 -0.68642576 -0.54180993\n",
      "  0.3711998   0.58745912  0.91219985 -0.05582628 -0.69384958 -1.33469428\n",
      "  1.74643808 -1.37337178  0.70120973  0.28006584  0.76438737  0.95651254\n",
      "  1.35260228 -0.05576757  0.40012833 -1.95141827  0.04876546 -0.90445654\n",
      " -0.15026613  1.2414271   0.11071174  1.09518667 -0.19669954  0.40445788\n",
      " -0.40899651 -2.54134859 -0.70903455 -0.26158445  0.16263188  0.00800948\n",
      " -0.1207063   0.95423778  0.63158305 -0.39150714  0.87854272 -1.97955644\n",
      " -0.27577231 -0.14027614  1.3107048  -0.52850065 -1.46383938  0.18565497\n",
      "  1.70252885 -0.19954437 -0.08885672 -0.19460859  0.06272996  1.3143108\n",
      "  1.97533222  0.48325531 -0.0918163   1.86629965  0.11242688  0.07961558\n",
      " -0.34378116 -0.30118634  0.25540511 -0.27267542  0.43315286  0.10716798\n",
      "  0.57130149 -0.36581114 -0.18409698  0.25963468]\n",
      "[False  True  True False  True  True False  True False  True  True False\n",
      " False  True False False False False False  True  True  True  True  True\n",
      " False False  True  True False  True False  True  True  True False False\n",
      "  True  True  True False False False  True False  True  True  True  True\n",
      "  True False  True False  True False False  True  True  True False  True\n",
      " False False False False  True  True False  True  True False  True False\n",
      " False False  True False False  True  True False False False  True  True\n",
      "  True  True False  True  True  True False False  True False  True  True\n",
      "  True False False  True]\n",
      "54\n",
      "46\n",
      "46\n"
     ]
    }
   ],
   "source": [
    "arr = rng.standard_normal(100)\n",
    "print(arr)\n",
    "print(arr > 0) # boolean : 팬시index : True (1), False (0)\n",
    "# 양수가 몇개일까요?\n",
    "print((arr > 0).sum())\n",
    "print((~(arr > 0)).sum())\n",
    "print((arr <= 0).sum())"
   ]
  },
  {
   "cell_type": "code",
   "execution_count": 41,
   "id": "43c9fdf5-521b-4290-8607-4f611a10251c",
   "metadata": {},
   "outputs": [
    {
     "name": "stdout",
     "output_type": "stream",
     "text": [
      "[ 1.2088434   0.23018634 -0.55780214 -1.14851471  0.38197102  0.7043656 ]\n",
      "[-1.14851471 -0.55780214  0.23018634  0.38197102  0.7043656   1.2088434 ]\n"
     ]
    }
   ],
   "source": [
    "arr = rng.standard_normal(6)\n",
    "print(arr)\n",
    "arr.sort()\n",
    "print(arr)"
   ]
  },
  {
   "cell_type": "code",
   "execution_count": 44,
   "id": "5b09d88d-4e20-4e3d-8ddc-0dcc9bdb1244",
   "metadata": {},
   "outputs": [
    {
     "name": "stdout",
     "output_type": "stream",
     "text": [
      "[[ 0.05808985  0.19741306  1.02838433]\n",
      " [ 0.51934022 -0.69504001  0.59370641]\n",
      " [ 0.93322266  0.34644167  0.8773103 ]\n",
      " [ 0.58894385 -0.23223774 -0.14278637]\n",
      " [ 0.61756154 -0.54985719  1.15527732]]\n",
      "[[ 0.05808985  0.19741306  1.02838433]\n",
      " [-0.69504001  0.51934022  0.59370641]\n",
      " [ 0.34644167  0.8773103   0.93322266]\n",
      " [-0.23223774 -0.14278637  0.58894385]\n",
      " [-0.54985719  0.61756154  1.15527732]]\n",
      "[[ 0.05808985  0.19741306  1.02838433]\n",
      " [-0.69504001  0.51934022  0.59370641]\n",
      " [ 0.34644167  0.8773103   0.93322266]\n",
      " [-0.23223774 -0.14278637  0.58894385]\n",
      " [-0.54985719  0.61756154  1.15527732]]\n",
      "[[-0.69504001 -0.14278637  0.58894385]\n",
      " [-0.54985719  0.19741306  0.59370641]\n",
      " [-0.23223774  0.51934022  0.93322266]\n",
      " [ 0.05808985  0.61756154  1.02838433]\n",
      " [ 0.34644167  0.8773103   1.15527732]]\n"
     ]
    }
   ],
   "source": [
    "arr = rng.standard_normal((5, 3))\n",
    "print(arr)\n",
    "arr.sort()\n",
    "print(arr)\n",
    "arr.sort(axis=1) #  행\n",
    "print(arr)\n",
    "arr.sort(axis=0) #  행\n",
    "print(arr)"
   ]
  },
  {
   "cell_type": "code",
   "execution_count": 45,
   "id": "7f3c243f-394f-48de-9b63-8567375ee218",
   "metadata": {},
   "outputs": [
    {
     "name": "stdout",
     "output_type": "stream",
     "text": [
      "['Bob' 'Joe' 'Will']\n",
      "[1 2 3 4]\n"
     ]
    }
   ],
   "source": [
    "names = np.array([\"Bob\", \"Will\", \"Joe\", \"Bob\", \"Will\", \"Joe\", \"Joe\"])\n",
    "print(np.unique(names))\n",
    "\n",
    "ints = np.array([3, 3, 3, 2, 2, 1, 1, 4, 4])\n",
    "print(np.unique(ints))"
   ]
  },
  {
   "cell_type": "code",
   "execution_count": 50,
   "id": "a08ae442-e34e-44ec-8009-734ab701ec30",
   "metadata": {},
   "outputs": [
    {
     "name": "stdout",
     "output_type": "stream",
     "text": [
      "['Bob', 'Joe', 'Will']\n"
     ]
    }
   ],
   "source": [
    "unique_sorted_names = list(map(str, np.unique(names)))\n",
    "print(unique_sorted_names)"
   ]
  },
  {
   "cell_type": "code",
   "execution_count": 51,
   "id": "c313e004-7981-4a85-855e-29bd36d947ac",
   "metadata": {},
   "outputs": [],
   "source": [
    "arr = np.arange(10)\n",
    "np.save(\"some_array\", arr)"
   ]
  },
  {
   "cell_type": "code",
   "execution_count": 52,
   "id": "3df6993b-901f-4a83-8f32-534faacd6dfb",
   "metadata": {},
   "outputs": [
    {
     "data": {
      "text/plain": [
       "array([0, 1, 2, 3, 4, 5, 6, 7, 8, 9])"
      ]
     },
     "execution_count": 52,
     "metadata": {},
     "output_type": "execute_result"
    }
   ],
   "source": [
    "result = np.load(\"some_array.npy\")\n",
    "result"
   ]
  },
  {
   "cell_type": "code",
   "execution_count": 53,
   "id": "826d836c-c2b1-4396-b80d-6c4afe6af582",
   "metadata": {},
   "outputs": [
    {
     "name": "stdout",
     "output_type": "stream",
     "text": [
      "[0 1 2 3 4 5 6 7 8 9]\n",
      "[0 1 2 3 4 5 6 7 8 9]\n"
     ]
    }
   ],
   "source": [
    "np.savez(\"array_archive.npz\", a=arr, b=arr)\n",
    "arch = np.load(\"array_archive.npz\")\n",
    "print(arch[\"a\"])\n",
    "print(arch[\"b\"])"
   ]
  }
 ],
 "metadata": {
  "kernelspec": {
   "display_name": "Python 3 (ipykernel)",
   "language": "python",
   "name": "python3"
  },
  "language_info": {
   "codemirror_mode": {
    "name": "ipython",
    "version": 3
   },
   "file_extension": ".py",
   "mimetype": "text/x-python",
   "name": "python",
   "nbconvert_exporter": "python",
   "pygments_lexer": "ipython3",
   "version": "3.13.5"
  }
 },
 "nbformat": 4,
 "nbformat_minor": 5
}
