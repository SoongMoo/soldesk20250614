{
 "cells": [
  {
   "cell_type": "code",
   "execution_count": 8,
   "id": "aa63e2d2-d1e9-47db-9c4b-9dd6fef26811",
   "metadata": {},
   "outputs": [
    {
     "name": "stdout",
     "output_type": "stream",
     "text": [
      "['나는', '파이썬을', '가르치는', '이숭무입니다']\n",
      "나는\n",
      "['당신은', '파이썬을', '가르치는', '이숭무입니다']\n",
      "다르다\n"
     ]
    }
   ],
   "source": [
    "# 자료형 : 어떠한 형태의 자료인지를 알기 위해서 사용하는 것\n",
    "# 기본자료형 : 리터널 : 자연수\n",
    "#                      자연어\n",
    "#             부울(boolean) : 참/거짓 : True/False \n",
    "# 파이썬 자료형 : \n",
    "#                리스트 : 요소를 변경 할 수 있는 자료형\n",
    "#                튜플 : 요소를 변경 할 수 없는 자료형\n",
    "#                딕셔너리 : {키:값,....}\n",
    "#                집합 : 교집합, 합집합, 차집합\n",
    "str1 = \"나는 파이썬을 가르치는 이숭무입니다\"\n",
    "l = str1.split()\n",
    "print(l)\n",
    "print(l[0])\n",
    "l[0] = \"당신은\"\n",
    "print(l)\n",
    "\n",
    "userid = \"    highland0 \"\n",
    "if userid == \"highland0\":\n",
    "    print(\"같다\")\n",
    "else:\n",
    "    print(\"다르다\")"
   ]
  },
  {
   "cell_type": "code",
   "execution_count": 9,
   "id": "6dc4f3e1-204b-487d-81ef-ff6a5f8aca12",
   "metadata": {},
   "outputs": [
    {
     "name": "stdout",
     "output_type": "stream",
     "text": [
      "나무를 1번찍었습니다\n",
      "나무를 2번찍었습니다\n",
      "나무를 3번찍었습니다\n",
      "나무를 4번찍었습니다\n",
      "나무를 5번찍었습니다\n",
      "나무를 6번찍었습니다\n",
      "나무를 7번찍었습니다\n",
      "나무를 8번찍었습니다\n",
      "나무를 9번찍었습니다\n",
      "나무를 10번찍었습니다\n",
      "나무가 넘어갑니다\n"
     ]
    }
   ],
   "source": [
    "# 조건식 : if, if~else, if ~ elif ~ elif ~ .... ~ else\n",
    "# 반복문 : while \n",
    "print(\"나무를 1번찍었습니다\")\n",
    "print(\"나무를 2번찍었습니다\")\n",
    "print(\"나무를 3번찍었습니다\")\n",
    "print(\"나무를 4번찍었습니다\")\n",
    "print(\"나무를 5번찍었습니다\")\n",
    "print(\"나무를 6번찍었습니다\")\n",
    "print(\"나무를 7번찍었습니다\")\n",
    "print(\"나무를 8번찍었습니다\")\n",
    "print(\"나무를 9번찍었습니다\")\n",
    "print(\"나무를 10번찍었습니다\")\n",
    "print(\"나무가 넘어갑니다\")"
   ]
  },
  {
   "cell_type": "code",
   "execution_count": 10,
   "id": "189d3aa2-9cf2-40cd-812e-bd2521512105",
   "metadata": {},
   "outputs": [
    {
     "name": "stdout",
     "output_type": "stream",
     "text": [
      "나무를 1번찍었습니다\n",
      "나무를 2번찍었습니다\n",
      "나무를 3번찍었습니다\n",
      "나무를 4번찍었습니다\n",
      "나무를 5번찍었습니다\n",
      "나무를 6번찍었습니다\n",
      "나무를 7번찍었습니다\n",
      "나무를 8번찍었습니다\n",
      "나무를 9번찍었습니다\n",
      "나무를 10번찍었습니다\n",
      "나무가 넘어갑니다\n"
     ]
    }
   ],
   "source": [
    "i = 1 # \n",
    "while i <= 10: # True 일때까지만 반복\n",
    "    print(\"나무를 %d번찍었습니다\" % i)\n",
    "    i = i + 1\n",
    "\n",
    "print(\"나무가 넘어갑니다\")"
   ]
  },
  {
   "cell_type": "code",
   "execution_count": 21,
   "id": "9be63a31-a1e6-4cf4-ab6f-708ec96d90bb",
   "metadata": {},
   "outputs": [
    {
     "name": "stdin",
     "output_type": "stream",
     "text": [
      "시작곱 숫자를 입력하세요 :  2\n",
      "마지막곱 숫자를 입력하세요 :  5\n",
      "단 숫자를 입력하세요 :  7\n"
     ]
    },
    {
     "name": "stdout",
     "output_type": "stream",
     "text": [
      "7 * 2 = 14 \n",
      "7 * 3 = 21 \n",
      "7 * 4 = 28 \n",
      "7 * 5 = 35 \n"
     ]
    }
   ],
   "source": [
    "# 8단\n",
    "'''\n",
    "8 * 1 = 8\n",
    "8 * 2 = 16\n",
    "8 * 3 = 24\n",
    "8 * 4 = 32\n",
    "8 * 5 = 40\n",
    "8 * 6 = 48\n",
    "8 * 7 = 56\n",
    "8 * 8 = 64\n",
    "8 * 9 = 72\n",
    "'''\n",
    "startgop = int(input(\"시작곱 숫자를 입력하세요 : \"))\n",
    "endgop = int(input(\"마지막곱 숫자를 입력하세요 : \"))\n",
    "dan =  int(input(\"단 숫자를 입력하세요 : \"))\n",
    "while startgop <= endgop:\n",
    "    print( \"%d * %d = %d \" % (dan, startgop , dan * startgop ))\n",
    "    startgop = startgop + 1"
   ]
  },
  {
   "cell_type": "code",
   "execution_count": 73,
   "id": "4bc249fc-c7be-46ce-8fd7-bec9473f8412",
   "metadata": {},
   "outputs": [
    {
     "name": "stdout",
     "output_type": "stream",
     "text": [
      "3\n",
      "4\n",
      "4\n",
      "[1, 2, 3, 5, 6, 7, 8, 9]\n"
     ]
    }
   ],
   "source": [
    "import random  # 모듈 : 변수, 함수, 클래스, 객체\n",
    "idx = random.randint(0, 8) # 0,1,2,3,4,5,6,7,8\n",
    "print(idx)\n",
    "l = [1,2,3,4,5,6,7,8,9]\n",
    "#    0,1,2,3,4,5,6,7,8  : index\n",
    "print(l[idx]) # l[2]\n",
    "# 복원추출 : 주사위\n",
    "# 비복원 추출 : 로또\n",
    "result = l.pop(4)\n",
    "print(result)\n",
    "result = l.pop(2)\n",
    "print(result)\n",
    "print(l)"
   ]
  },
  {
   "cell_type": "code",
   "execution_count": 104,
   "id": "3d6b50c2-8f3b-4c52-860f-963d3a5e8b89",
   "metadata": {},
   "outputs": [
    {
     "name": "stdout",
     "output_type": "stream",
     "text": [
      "[18, 4, 24, 35, 40, 26]\n"
     ]
    }
   ],
   "source": [
    "import random\n",
    "lotto = []\n",
    "start = 1\n",
    "while start <= 45:\n",
    "    lotto.append(start) # 1 ~ 45추가\n",
    "    start += 1 # start = start + 1\n",
    "#print(lotto)\n",
    "size = len(lotto) # 45\n",
    "\n",
    "l = []\n",
    "i = 1\n",
    "while i <= 6:\n",
    "    size -= 1                # 0 ~ 44, 0 ~ 43, 0 ~ 42\n",
    "    idx = random.randint(0, size) # index번호 받아 옴\n",
    "    result = lotto.pop(idx) # index에 해당한 번호 추출 44, 43,42,41,40,...\n",
    "    #print(\"lotto 남아 있는 번호 \"+ str(lotto))\n",
    "    i += 1\n",
    "    l.append(result)\n",
    "print(l)"
   ]
  },
  {
   "cell_type": "code",
   "execution_count": 88,
   "id": "72a977ea-b5cd-4309-9a34-2a05ed69373f",
   "metadata": {},
   "outputs": [
    {
     "name": "stdout",
     "output_type": "stream",
     "text": [
      " 6 * 1 = 6\n",
      " 6 * 2 = 12\n",
      " 6 * 3 = 18\n",
      " 6 * 4 = 24\n",
      " 6 * 5 = 30\n",
      " 6 * 6 = 36\n",
      " 6 * 7 = 42\n",
      " 6 * 8 = 48\n",
      " 6 * 9 = 54\n",
      " 7 * 1 = 7\n",
      " 7 * 2 = 14\n",
      " 7 * 3 = 21\n",
      " 7 * 4 = 28\n",
      " 7 * 5 = 35\n",
      " 7 * 6 = 42\n",
      " 7 * 7 = 49\n",
      " 7 * 8 = 56\n",
      " 7 * 9 = 63\n",
      " 8 * 1 = 8\n",
      " 8 * 2 = 16\n",
      " 8 * 3 = 24\n",
      " 8 * 4 = 32\n",
      " 8 * 5 = 40\n",
      " 8 * 6 = 48\n",
      " 8 * 7 = 56\n",
      " 8 * 8 = 64\n",
      " 8 * 9 = 72\n"
     ]
    }
   ],
   "source": [
    "# 6단\n",
    "startgop = 1\n",
    "while startgop <= 9:\n",
    "    print(f\" 6 * {startgop} = { 6 * startgop}\")\n",
    "    startgop += 1\n",
    "# 7단\n",
    "startgop = 1\n",
    "while startgop <= 9:\n",
    "    print(f\" 7 * {startgop} = { 7 * startgop}\")\n",
    "    startgop += 1\n",
    "# 8단\n",
    "startgop = 1\n",
    "while startgop <= 9:\n",
    "    print(f\" 8 * {startgop} = { 8 * startgop}\")\n",
    "    startgop += 1"
   ]
  },
  {
   "cell_type": "code",
   "execution_count": 87,
   "id": "fcbbb3de-ede0-4bd4-b425-33c7474029d2",
   "metadata": {},
   "outputs": [
    {
     "name": "stdout",
     "output_type": "stream",
     "text": [
      " 6 * 1 = 6\n",
      " 6 * 2 = 12\n",
      " 6 * 3 = 18\n",
      " 6 * 4 = 24\n",
      " 6 * 5 = 30\n",
      " 6 * 6 = 36\n",
      " 6 * 7 = 42\n",
      " 6 * 8 = 48\n",
      " 6 * 9 = 54\n",
      " 7 * 1 = 7\n",
      " 7 * 2 = 14\n",
      " 7 * 3 = 21\n",
      " 7 * 4 = 28\n",
      " 7 * 5 = 35\n",
      " 7 * 6 = 42\n",
      " 7 * 7 = 49\n",
      " 7 * 8 = 56\n",
      " 7 * 9 = 63\n",
      " 8 * 1 = 8\n",
      " 8 * 2 = 16\n",
      " 8 * 3 = 24\n",
      " 8 * 4 = 32\n",
      " 8 * 5 = 40\n",
      " 8 * 6 = 48\n",
      " 8 * 7 = 56\n",
      " 8 * 8 = 64\n",
      " 8 * 9 = 72\n"
     ]
    }
   ],
   "source": [
    "# 2중 반복문 : 반복문이 반복이 될 때 반복문을 반복문 안에서 실행\n",
    "stratdan = 6 \n",
    "while stratdan <= 8:\n",
    "    startgop = 1\n",
    "    while startgop <= 9:\n",
    "        print(f\" {stratdan} * {startgop} = { stratdan * startgop}\")\n",
    "        startgop += 1\n",
    "    stratdan += 1"
   ]
  },
  {
   "cell_type": "code",
   "execution_count": 91,
   "id": "f3cc7114-d167-40ad-b906-48ed63f2dcac",
   "metadata": {},
   "outputs": [
    {
     "name": "stdin",
     "output_type": "stream",
     "text": [
      "시작단을 입력하세요 :  2\n",
      "마지막단을 입력하세요 :  6\n",
      "시작곱을 입력하세요 :  4\n",
      "마지막곱을 입력하세요 :  7\n"
     ]
    },
    {
     "name": "stdout",
     "output_type": "stream",
     "text": [
      " 2 * 4 = 8\n",
      " 2 * 5 = 10\n",
      " 2 * 6 = 12\n",
      " 2 * 7 = 14\n",
      " 3 * 4 = 12\n",
      " 3 * 5 = 15\n",
      " 3 * 6 = 18\n",
      " 3 * 7 = 21\n",
      " 4 * 4 = 16\n",
      " 4 * 5 = 20\n",
      " 4 * 6 = 24\n",
      " 4 * 7 = 28\n",
      " 5 * 4 = 20\n",
      " 5 * 5 = 25\n",
      " 5 * 6 = 30\n",
      " 5 * 7 = 35\n",
      " 6 * 4 = 24\n",
      " 6 * 5 = 30\n",
      " 6 * 6 = 36\n",
      " 6 * 7 = 42\n"
     ]
    }
   ],
   "source": [
    "stratdan = int(input(\"시작단을 입력하세요 : \"))\n",
    "enddan = int(input(\"마지막단을 입력하세요 : \"))\n",
    "start = int(input(\"시작곱을 입력하세요 : \"))\n",
    "end = int(input(\"마지막곱을 입력하세요 : \"))\n",
    "while stratdan <= enddan:\n",
    "    startgop = start\n",
    "    while startgop <= end:\n",
    "        print(f\" {stratdan} * {startgop} = { stratdan * startgop}\")\n",
    "        startgop += 1\n",
    "    stratdan += 1"
   ]
  },
  {
   "cell_type": "code",
   "execution_count": 109,
   "id": "3f62b8f2-72c0-4dff-be1a-6bbc20f73256",
   "metadata": {},
   "outputs": [
    {
     "name": "stdin",
     "output_type": "stream",
     "text": [
      "구매 수량을 입력하세요 :  5\n"
     ]
    },
    {
     "name": "stdout",
     "output_type": "stream",
     "text": [
      "[31, 9, 29, 14, 42, 30]\n",
      "[30, 41, 2, 24, 4, 44]\n",
      "[24, 20, 34, 8, 1, 21]\n",
      "[6, 5, 35, 34, 4, 41]\n",
      "[4, 39, 15, 22, 14, 41]\n"
     ]
    }
   ],
   "source": [
    "import random\n",
    "qty = int(input(\"구매 수량을 입력하세요 : \"))\n",
    "lotto = []   \n",
    "cnt = 1\n",
    "while cnt <= qty:\n",
    "    start = 1\n",
    "    while start <= 45:\n",
    "        lotto.append(start) # 1 ~ 45추가\n",
    "        start += 1 # start = start + 1\n",
    "    #print(lotto)\n",
    "    size = len(lotto) # 45\n",
    "    \n",
    "    l = []\n",
    "    i = 1\n",
    "    while i <= 6:\n",
    "        size -= 1                # 0 ~ 44, 0 ~ 43, 0 ~ 42\n",
    "        idx = random.randint(0, size) # index번호 받아 옴\n",
    "        result = lotto.pop(idx) # index에 해당한 번호 추출 44, 43,42,41,40,...\n",
    "        #print(\"lotto 남아 있는 번호 \"+ str(lotto))\n",
    "        i += 1\n",
    "        l.append(result)\n",
    "    print(l)\n",
    "    #print(lotto)\n",
    "    lotto.clear() # lotto = []\n",
    "    cnt += 1"
   ]
  },
  {
   "cell_type": "code",
   "execution_count": 116,
   "id": "852155ea-c1e7-4fe2-a923-4afe63052b57",
   "metadata": {},
   "outputs": [
    {
     "name": "stdout",
     "output_type": "stream",
     "text": [
      " 6 * 1 = 6\n",
      " 6 * 2 = 12\n",
      " 6 * 3 = 18\n",
      " 6 * 4 = 24\n",
      " 6 * 5 = 30\n",
      " 6 * 6 = 36\n",
      " 6 * 7 = 42\n",
      " 6 * 8 = 48\n",
      " 6 * 9 = 54\n",
      "===for===\n",
      " 6 * 1 = 6\n",
      " 6 * 2 = 12\n",
      " 6 * 3 = 18\n",
      " 6 * 4 = 24\n",
      " 6 * 5 = 30\n",
      " 6 * 6 = 36\n",
      " 6 * 7 = 42\n",
      " 6 * 8 = 48\n",
      " 6 * 9 = 54\n",
      " 6 * 1 = 6\n",
      " 6 * 2 = 12\n",
      " 6 * 3 = 18\n",
      " 6 * 4 = 24\n",
      " 6 * 5 = 30\n",
      " 6 * 6 = 36\n",
      " 6 * 7 = 42\n",
      " 6 * 8 = 48\n",
      " 6 * 9 = 54\n",
      " 6 * 0 = 0\n",
      " 6 * 1 = 6\n",
      " 6 * 2 = 12\n",
      " 6 * 3 = 18\n",
      " 6 * 4 = 24\n",
      " 6 * 5 = 30\n",
      " 6 * 6 = 36\n",
      " 6 * 7 = 42\n",
      " 6 * 8 = 48\n",
      " 6 * 9 = 54\n"
     ]
    }
   ],
   "source": [
    "#  제어문 : 조건문 : if, 반복문 : while,  for\n",
    "# 6단\n",
    "i = 1\n",
    "while i <= 9:\n",
    "    print(f\" 6 * {i} = {6 * i}\")\n",
    "    i += 1\n",
    "# for문 ( forEach : 각각 하나)\n",
    "print(\"===for===\")\n",
    "l = [1,2,3,4,5,6,7,8,9]\n",
    "for i in  l:\n",
    "    print(f\" 6 * {i} = {6 * i}\")\n",
    "\n",
    "for i in range(1,  9 + 1):\n",
    "    print(f\" 6 * {i} = {6 * i}\")\n",
    "\n",
    "for i in range(9 + 1):\n",
    "    print(f\" 6 * {i} = {6 * i}\")"
   ]
  },
  {
   "cell_type": "code",
   "execution_count": 122,
   "id": "6e287a52-3e3b-48b3-8698-5a3cdbea1db9",
   "metadata": {},
   "outputs": [
    {
     "name": "stdout",
     "output_type": "stream",
     "text": [
      " 6 * 1 = 6\n",
      " 6 * 3 = 18\n",
      " 6 * 5 = 30\n",
      " 6 * 7 = 42\n",
      " 6 * 9 = 54\n",
      "==========================================================================================\n",
      " 6 * 1 = 6\n",
      " 6 * 3 = 18\n",
      " 6 * 5 = 30\n",
      " 6 * 7 = 42\n",
      " 6 * 9 = 54\n"
     ]
    }
   ],
   "source": [
    "i = 1\n",
    "while i <= 9:\n",
    "    print(f\" 6 * {i} = {6 * i}\")\n",
    "    i += 2\n",
    "print(\"===\" * 30)\n",
    "for i in range(1, 10, 2):\n",
    "    print(f\" 6 * {i} = {6 * i}\")"
   ]
  },
  {
   "cell_type": "code",
   "execution_count": 126,
   "id": "e197c2ef-4873-4abb-8752-d5f4416c90a6",
   "metadata": {},
   "outputs": [
    {
     "name": "stdout",
     "output_type": "stream",
     "text": [
      "5050\n",
      "===\n",
      "5050\n"
     ]
    }
   ],
   "source": [
    "# 1 ~ 100까지의 합을 구하시오\n",
    "i = 1\n",
    "sum = 0\n",
    "while i <= 100: # 크기를 모를 때\n",
    "    sum = sum + i\n",
    "    i += 1\n",
    "print(sum)\n",
    "print(\"===\")\n",
    "\n",
    "sum = 0\n",
    "for i in range(1, 101): # 크기가 있을 때\n",
    "    sum += i # sum = sum + i\n",
    "print(sum)"
   ]
  },
  {
   "cell_type": "code",
   "execution_count": null,
   "id": "c7030745-31b1-4c05-9b83-6b4c8fd9f641",
   "metadata": {},
   "outputs": [],
   "source": [
    "# break\n",
    "i = 1\n",
    "sum = 0\n",
    "while True:\n",
    "    sum += i\n",
    "    if i == 100:\n",
    "        break\n",
    "    i += 1\n",
    "sum = 0\n",
    "for i  in range(1, 100000000):\n",
    "    sum += i\n",
    "    if i == 100:\n",
    "        break"
   ]
  },
  {
   "cell_type": "code",
   "execution_count": 128,
   "id": "a64aeb8f-606a-4fee-a8b6-0cf0eac5d94d",
   "metadata": {},
   "outputs": [
    {
     "name": "stdout",
     "output_type": "stream",
     "text": [
      " 6 * 1 = 6\n",
      " 6 * 2 = 12\n",
      " 6 * 3 = 18\n",
      " 6 * 4 = 24\n",
      " 6 * 5 = 30\n",
      " 6 * 6 = 36\n",
      " 6 * 7 = 42\n",
      " 6 * 8 = 48\n",
      " 6 * 9 = 54\n"
     ]
    }
   ],
   "source": [
    "# for문으로 6단, 7단 , 8단\n",
    "for gop in range(1, 10):\n",
    "    print(f\" 6 * {gop} = {6 * gop}\")\n",
    "\n",
    "for gop in range(1, 10):\n",
    "    print(f\" 6 * {gop} = {7 * gop}\")\n",
    "\n",
    "for gop in range(1, 10):\n",
    "    print(f\" 8 * {gop} = {8 * gop}\")"
   ]
  },
  {
   "cell_type": "code",
   "execution_count": 129,
   "id": "579eac71-dba0-4d6f-83f0-4b76452faf17",
   "metadata": {},
   "outputs": [
    {
     "name": "stdout",
     "output_type": "stream",
     "text": [
      " 6 * 1 = 6\n",
      " 6 * 2 = 12\n",
      " 6 * 3 = 18\n",
      " 6 * 4 = 24\n",
      " 6 * 5 = 30\n",
      " 6 * 6 = 36\n",
      " 6 * 7 = 42\n",
      " 6 * 8 = 48\n",
      " 6 * 9 = 54\n",
      " 7 * 1 = 7\n",
      " 7 * 2 = 14\n",
      " 7 * 3 = 21\n",
      " 7 * 4 = 28\n",
      " 7 * 5 = 35\n",
      " 7 * 6 = 42\n",
      " 7 * 7 = 49\n",
      " 7 * 8 = 56\n",
      " 7 * 9 = 63\n",
      " 8 * 1 = 8\n",
      " 8 * 2 = 16\n",
      " 8 * 3 = 24\n",
      " 8 * 4 = 32\n",
      " 8 * 5 = 40\n",
      " 8 * 6 = 48\n",
      " 8 * 7 = 56\n",
      " 8 * 8 = 64\n",
      " 8 * 9 = 72\n"
     ]
    }
   ],
   "source": [
    "for dan in range(6, 9):\n",
    "    for gop in range(1, 10):\n",
    "        print(f\" {dan} * {gop} = {dan * gop}\")    "
   ]
  },
  {
   "cell_type": "code",
   "execution_count": 131,
   "id": "dcccaae8-7a09-49ca-a2cb-01d0f84b6e8a",
   "metadata": {},
   "outputs": [
    {
     "name": "stdout",
     "output_type": "stream",
     "text": [
      " 6 * 1 = 6\n",
      " 6 * 2 = 12\n",
      " 6 * 3 = 18\n",
      " 6 * 4 = 24\n",
      " 6 * 5 = 30\n",
      " 6 * 6 = 36\n",
      " 6 * 7 = 42\n",
      " 6 * 8 = 48\n",
      " 6 * 9 = 54\n",
      " 7 * 1 = 7\n",
      " 7 * 2 = 14\n",
      " 7 * 3 = 21\n",
      " 7 * 4 = 28\n",
      " 7 * 5 = 35\n",
      " 7 * 6 = 42\n",
      " 7 * 7 = 49\n",
      " 7 * 8 = 56\n",
      " 7 * 9 = 63\n",
      " 8 * 1 = 8\n",
      " 8 * 2 = 16\n",
      " 8 * 3 = 24\n",
      " 8 * 4 = 32\n",
      " 8 * 5 = 40\n",
      " 8 * 6 = 48\n",
      " 8 * 7 = 56\n",
      " 8 * 8 = 64\n",
      " 8 * 9 = 72\n"
     ]
    }
   ],
   "source": [
    "for dan in range(6, 9):\n",
    "    gop = 1\n",
    "    while gop <= 9:\n",
    "        print(f\" {dan} * {gop} = {dan * gop}\")    \n",
    "        gop += 1"
   ]
  },
  {
   "cell_type": "code",
   "execution_count": 137,
   "id": "43ba70f5-162d-4682-b379-999d14f8dd69",
   "metadata": {},
   "outputs": [
    {
     "name": "stdout",
     "output_type": "stream",
     "text": [
      "2550\n",
      "2550\n",
      "2550\n"
     ]
    }
   ],
   "source": [
    "# continue\n",
    "# 1 ~ 100까지의 합을 구하는데 짝수의 합만 구하시오\n",
    "i = 1\n",
    "sum = 0\n",
    "while i < 101:\n",
    "    if i % 2 == 0:\n",
    "        sum += i\n",
    "    i += 1\n",
    "print(sum)\n",
    "i = 0\n",
    "sum = 0\n",
    "while i < 101:\n",
    "    i += 1\n",
    "    if i % 2 != 0:\n",
    "        continue\n",
    "    sum += i\n",
    "print(sum)\n",
    "sum = 0 \n",
    "for i in range(1, 101):\n",
    "     if i % 2 == 0:\n",
    "         sum += i\n",
    "print(sum)\n",
    "\n",
    "for i in range(1, 101):\n",
    "    if i % 2 != 0:\n",
    "        continue\n",
    "    sum += i"
   ]
  },
  {
   "cell_type": "code",
   "execution_count": 139,
   "id": "2a75496d-ae54-4f2c-abfd-2b375c8c1417",
   "metadata": {},
   "outputs": [
    {
     "name": "stdout",
     "output_type": "stream",
     "text": [
      "[1, 2, 3, 4, 5, 6, 7, 8, 9, 10, 11, 12, 13, 14, 15, 16, 17, 18, 19, 20, 21, 22, 23, 24, 25, 26, 27, 28, 29, 30, 31, 32, 33, 34, 35, 36, 37, 38, 39, 40, 41, 42, 43, 44, 45]\n",
      "[1, 2, 3, 4, 5, 6, 7, 8, 9, 10, 11, 12, 13, 14, 15, 16, 17, 18, 19, 20, 21, 22, 23, 24, 25, 26, 27, 28, 29, 30, 31, 32, 33, 34, 35, 36, 37, 38, 39, 40, 41, 42, 43, 44, 45]\n",
      "[1, 2, 3, 4, 5, 6, 7, 8, 9, 10, 11, 12, 13, 14, 15, 16, 17, 18, 19, 20, 21, 22, 23, 24, 25, 26, 27, 28, 29, 30, 31, 32, 33, 34, 35, 36, 37, 38, 39, 40, 41, 42, 43, 44, 45]\n"
     ]
    }
   ],
   "source": [
    "l = []\n",
    "i = 1\n",
    "while i < 46:\n",
    "    l.append(i)\n",
    "    i += 1\n",
    "print(l)\n",
    "\n",
    "l = []\n",
    "for i in range(1, 46):\n",
    "    l.append(i)\n",
    "print(l)\n",
    "\n",
    "# 리스트 컴프리헨션 : 빈리스트에 append할 때 사용한다.\n",
    "l = [ i for i in range(1, 46) ]\n",
    "print(l)"
   ]
  },
  {
   "cell_type": "code",
   "execution_count": 140,
   "id": "834f45da-6c6c-4e95-9153-bfe74ec589ac",
   "metadata": {},
   "outputs": [
    {
     "name": "stdout",
     "output_type": "stream",
     "text": [
      "[8, 24, 43, 22, 45, 19]\n"
     ]
    }
   ],
   "source": [
    "import random\n",
    "'''\n",
    "lotto = []\n",
    "for start in range(1, 46):\n",
    "    lotto.append(start) \n",
    "'''\n",
    "\n",
    "lotto = [start for start in range(1, 46) ]\n",
    "size = len(lotto) # 45\n",
    "\n",
    "l = []\n",
    "i = 1\n",
    "while i <= 6:\n",
    "    size -= 1                # 0 ~ 44, 0 ~ 43, 0 ~ 42\n",
    "    idx = random.randint(0, size) # index번호 받아 옴\n",
    "    result = lotto.pop(idx) # index에 해당한 번호 추출 44, 43,42,41,40,...\n",
    "    #print(\"lotto 남아 있는 번호 \"+ str(lotto))\n",
    "    i += 1\n",
    "    l.append(result)\n",
    "print(l)"
   ]
  },
  {
   "cell_type": "code",
   "execution_count": 143,
   "id": "1aacbe14-b9e1-4bd0-9f39-e0477f3ac44d",
   "metadata": {},
   "outputs": [
    {
     "name": "stdout",
     "output_type": "stream",
     "text": [
      "[3, 9, 15, 21, 27, 33, 39, 45, 51, 57, 63, 69, 75, 81, 87, 93, 99, 105, 111, 117, 123, 129, 135, 141, 147, 153, 159, 165, 171, 177, 183, 189, 195, 201, 207, 213, 219, 225, 231, 237, 243, 249, 255, 261, 267, 273, 279, 285, 291, 297]\n",
      "[3, 9, 15, 21, 27, 33, 39, 45, 51, 57, 63, 69, 75, 81, 87, 93, 99, 105, 111, 117, 123, 129, 135, 141, 147, 153, 159, 165, 171, 177, 183, 189, 195, 201, 207, 213, 219, 225, 231, 237, 243, 249, 255, 261, 267, 273, 279, 285, 291, 297]\n"
     ]
    }
   ],
   "source": [
    "# 1 ~ 100까지 수 중 홀수만 저장하되 3을 곱합값을 리스트에 저장\n",
    "l = []\n",
    "for i in range(1, 101):\n",
    "    if i % 2 != 0:\n",
    "        l.append(i * 3)\n",
    "print(l)\n",
    "\n",
    "\n",
    "l = [i * 3 for i in range(1, 101) if i % 2 != 0 ]\n",
    "print(l)"
   ]
  },
  {
   "cell_type": "code",
   "execution_count": 147,
   "id": "ddf39423-720c-4a28-8617-e8cf651c9458",
   "metadata": {},
   "outputs": [
    {
     "name": "stdout",
     "output_type": "stream",
     "text": [
      "[2, 4, 6, 8, 10, 12, 14, 16, 18, 3, 6, 9, 12, 15, 18, 21, 24, 27, 4, 8, 12, 16, 20, 24, 28, 32, 36, 5, 10, 15, 20, 25, 30, 35, 40, 45, 6, 12, 18, 24, 30, 36, 42, 48, 54, 7, 14, 21, 28, 35, 42, 49, 56, 63, 8, 16, 24, 32, 40, 48, 56, 64, 72, 9, 18, 27, 36, 45, 54, 63, 72, 81]\n",
      "[2, 4, 6, 8, 10, 12, 14, 16, 18, 3, 6, 9, 12, 15, 18, 21, 24, 27, 4, 8, 12, 16, 20, 24, 28, 32, 36, 5, 10, 15, 20, 25, 30, 35, 40, 45, 6, 12, 18, 24, 30, 36, 42, 48, 54, 7, 14, 21, 28, 35, 42, 49, 56, 63, 8, 16, 24, 32, 40, 48, 56, 64, 72, 9, 18, 27, 36, 45, 54, 63, 72, 81]\n",
      "[4, 8, 12, 16, 6, 12, 18, 24, 8, 16, 24, 32, 10, 20, 30, 40, 12, 24, 36, 48, 14, 28, 42, 56, 16, 32, 48, 64, 18, 36, 54, 72]\n",
      "[4, 8, 12, 16, 6, 12, 18, 24, 8, 16, 24, 32, 10, 20, 30, 40, 12, 24, 36, 48, 14, 28, 42, 56, 16, 32, 48, 64, 18, 36, 54, 72]\n"
     ]
    }
   ],
   "source": [
    "# 2단 9단까지의 곱의 값을 리스트에 저장\n",
    "val = []\n",
    "for dan in range(2, 10):\n",
    "    for gop in range(1, 10):\n",
    "        val.append(dan * gop)\n",
    "print(val)\n",
    "val = [dan * gop for dan in range(2, 10) \n",
    "                 for gop in range(1, 10)]\n",
    "print(val)\n",
    "# 2단부터 9단까지의 값중 짝수만 곱한 값을 리스트에 저장\n",
    "val =[]\n",
    "for dan in range(2, 10):\n",
    "    for gop in range(1, 10):\n",
    "        if gop % 2 == 0:\n",
    "            val.append(dan * gop)\n",
    "print(val)\n",
    "\n",
    "val =[dan * gop for dan in range(2, 10) \n",
    "                for gop in range(1, 10) if gop % 2 == 0 ]\n",
    "print(val)\n",
    "\n",
    "# 2단부터 9단까지의 짝수단의 곱만 리스트에 저장\n",
    "val = []\n",
    "for dan in range(2, 10):\n",
    "    if dan % 2 == 0:\n",
    "        for gop in range(1, 10):\n",
    "            val.append(dan * gop)\n",
    "print(val)\n",
    "val = [dan * gop for dan in range(2, 10) if dan % 2 == 0 \n",
    "                 for gop in range(1, 10) ]\n",
    "print(val)"
   ]
  },
  {
   "cell_type": "code",
   "execution_count": 148,
   "id": "ca336ec2-9e83-4a4e-ac5f-b2cc1855f7f1",
   "metadata": {},
   "outputs": [
    {
     "name": "stdout",
     "output_type": "stream",
     "text": [
      "[3, 4, 6, 8]\n",
      "[3, 4, 6, 8]\n"
     ]
    }
   ],
   "source": [
    "a = [1, 2]\n",
    "b = [3, 4]\n",
    "l = []\n",
    "# a에서 b를 곱한값을 리스트에 저장\n",
    "for i in a:\n",
    "    for j in b:\n",
    "        l.append( i * j)\n",
    "print(l)\n",
    "l = [i * j for i in a\n",
    "           for j in b]\n",
    "print(l)"
   ]
  },
  {
   "cell_type": "code",
   "execution_count": 154,
   "id": "1ef3d3cd-68e2-48a6-8285-3432bf706d8c",
   "metadata": {},
   "outputs": [
    {
     "name": "stdout",
     "output_type": "stream",
     "text": [
      "(1, 2)\n",
      "(3, 4)\n",
      "(5, 6)\n",
      "1 2\n",
      "3\n",
      "3 4\n",
      "7\n",
      "5 6\n",
      "11\n",
      "6\n",
      "15\n",
      "24\n",
      "[1, 2, 3]\n",
      "[4, 5]\n",
      "[6, 7, 8, 9]\n"
     ]
    }
   ],
   "source": [
    "l1 = [(1,2),(3,4),(5,6)]\n",
    "#  t = (1, 2)\n",
    "for t in l1:\n",
    "    print(t)\n",
    "a , b = (1, 2)\n",
    "\n",
    "for a, b in l1:\n",
    "    print(a, b)\n",
    "    print(a + b)\n",
    "\n",
    "l2 = [[1,2,3],[4,5,6],[7,8,9]]\n",
    "for a,b,c in l2:\n",
    "    print(a +  b + c)\n",
    "\n",
    "l3 = [[1,2,3],[4,5],[6,7,8,9]]\n",
    "#for a,b,c, d  in l3:\n",
    "#    print(a,b,c,d) \n",
    "for l in l3:\n",
    "    print(l)\n",
    "\n",
    "#a,b,c,d = 1,2,3"
   ]
  },
  {
   "cell_type": "code",
   "execution_count": 163,
   "id": "ce03b6d9-ea71-47c8-b736-ea381c85430f",
   "metadata": {},
   "outputs": [],
   "source": [
    "# 자료형 \n",
    "# 연산자\n",
    "# 제어문 : 조건문, 반복문\n",
    "# 함수 : x값에 따라 y값의 변화를 구하는 것\n",
    "# f(x) = 3x + 6일 때 x가 3이면 y값은 \n",
    "# y = f(3) = 15\n",
    "def f(x):\n",
    "    return 3 * x + 6"
   ]
  },
  {
   "cell_type": "code",
   "execution_count": 164,
   "id": "9452be18-8321-4ff9-9f53-1a31ca9e6104",
   "metadata": {},
   "outputs": [
    {
     "name": "stdout",
     "output_type": "stream",
     "text": [
      "15\n",
      "21\n"
     ]
    }
   ],
   "source": [
    "y = f(3)\n",
    "print(y)\n",
    "# x = 5일 때  y는\n",
    "y = f(5)\n",
    "print(y)"
   ]
  },
  {
   "cell_type": "code",
   "execution_count": 160,
   "id": "4ee16bf3-7980-473e-ac9a-f57c92a624f6",
   "metadata": {},
   "outputs": [],
   "source": [
    "# f(x1, x2) = 2x1 + 3x2 + 5 일때 x1 = 3,이고 x2=6이라면 y값은\n",
    "# y = f(3, 6)\n",
    "def f(x1, x2): # x1, x2 : 가인자 : 매개변수(parameter)'\n",
    "    return 2 * x1 + 3 * x2 + 5"
   ]
  },
  {
   "cell_type": "code",
   "execution_count": 161,
   "id": "5d40ab1f-e90a-43af-9faa-1f7df3b2a379",
   "metadata": {},
   "outputs": [
    {
     "name": "stdout",
     "output_type": "stream",
     "text": [
      "29\n"
     ]
    }
   ],
   "source": [
    "y =  f(3, 6) # 3, 6 : 실인자 (argument)\n",
    "print(y)"
   ]
  },
  {
   "cell_type": "code",
   "execution_count": 165,
   "id": "d2b89389-7519-4966-af90-34b3e75a6e99",
   "metadata": {},
   "outputs": [
    {
     "data": {
      "text/plain": [
       "'\\ndef 함수명(parameter1, parameter2,..., parameter_n):\\n    명령문1\\n    명령문2\\n    ...\\n    명령문_n\\n    return 결과값\\n\\n변수명 = 함수명(argument1, argument2,...,argument_n)\\nprint(변수명)\\nargument와 parameter는 1 대 1 대응해야 한다.\\n'"
      ]
     },
     "execution_count": 165,
     "metadata": {},
     "output_type": "execute_result"
    }
   ],
   "source": [
    "# 함수구문\n",
    "'''\n",
    "def 함수명(parameter1, parameter2,..., parameter_n):\n",
    "    명령문1\n",
    "    명령문2\n",
    "    ...\n",
    "    명령문_n\n",
    "    return 결과값\n",
    "\n",
    "변수명 = 함수명(argument1, argument2,...,argument_n)\n",
    "print(변수명)\n",
    "argument와 parameter는 1 대 1 대응해야 한다.\n",
    "'''\n",
    "#  복잡하고 긴 코드를 반복 실행해야 하는 명령어를 사용하고 싶을 때 함수를 만들자"
   ]
  },
  {
   "cell_type": "code",
   "execution_count": 166,
   "id": "2f236832-c56c-42c9-bd3b-4ead0350541c",
   "metadata": {},
   "outputs": [
    {
     "name": "stdout",
     "output_type": "stream",
     "text": [
      "6 * 1 = 6\n",
      "6 * 2 = 12\n",
      "6 * 3 = 18\n",
      "6 * 4 = 24\n",
      "6 * 5 = 30\n",
      "6 * 6 = 36\n",
      "6 * 7 = 42\n",
      "6 * 8 = 48\n",
      "6 * 9 = 54\n"
     ]
    }
   ],
   "source": [
    "# 6단\n",
    "for gop in range(1, 10):\n",
    "    print(f\"6 * {gop} = {6 * gop}\")"
   ]
  },
  {
   "cell_type": "code",
   "execution_count": 167,
   "id": "dc345d54-2aaa-4375-b8af-aa30b26c2295",
   "metadata": {},
   "outputs": [],
   "source": [
    "def dna6():\n",
    "    for gop in range(1, 10):\n",
    "        print(f\"6 * {gop} = {6 * gop}\")"
   ]
  },
  {
   "cell_type": "code",
   "execution_count": 170,
   "id": "3df23d51-e34f-47a4-ae49-102557c4492d",
   "metadata": {},
   "outputs": [
    {
     "name": "stdout",
     "output_type": "stream",
     "text": [
      "6 * 1 = 6\n",
      "6 * 2 = 12\n",
      "6 * 3 = 18\n",
      "6 * 4 = 24\n",
      "6 * 5 = 30\n",
      "6 * 6 = 36\n",
      "6 * 7 = 42\n",
      "6 * 8 = 48\n",
      "6 * 9 = 54\n"
     ]
    }
   ],
   "source": [
    "dna6()"
   ]
  },
  {
   "cell_type": "code",
   "execution_count": 173,
   "id": "c239ac4e-ca2c-45b6-a8c2-86a0446f2901",
   "metadata": {},
   "outputs": [],
   "source": [
    "def gugudan(dan):\n",
    "    for gop in range(1, 10):\n",
    "        print(f\"{dan} * {gop} = {dan * gop}\")"
   ]
  },
  {
   "cell_type": "code",
   "execution_count": 175,
   "id": "6e47b1bd-4d31-4e32-be1a-d23b414796f0",
   "metadata": {},
   "outputs": [
    {
     "name": "stdout",
     "output_type": "stream",
     "text": [
      "2 * 1 = 2\n",
      "2 * 2 = 4\n",
      "2 * 3 = 6\n",
      "2 * 4 = 8\n",
      "2 * 5 = 10\n",
      "2 * 6 = 12\n",
      "2 * 7 = 14\n",
      "2 * 8 = 16\n",
      "2 * 9 = 18\n",
      "5 * 1 = 5\n",
      "5 * 2 = 10\n",
      "5 * 3 = 15\n",
      "5 * 4 = 20\n",
      "5 * 5 = 25\n",
      "5 * 6 = 30\n",
      "5 * 7 = 35\n",
      "5 * 8 = 40\n",
      "5 * 9 = 45\n"
     ]
    }
   ],
   "source": [
    "gugudan(2)\n",
    "gugudan(5)"
   ]
  },
  {
   "cell_type": "code",
   "execution_count": 176,
   "id": "48ec2514-c128-4203-901b-eeb8396c2b55",
   "metadata": {},
   "outputs": [],
   "source": [
    "import random\n",
    "def lottofn(qty):\n",
    "    lotto = []   \n",
    "    cnt = 1\n",
    "    while cnt <= qty:\n",
    "        start = 1\n",
    "        while start <= 45:\n",
    "            lotto.append(start) # 1 ~ 45추가\n",
    "            start += 1 # start = start + 1\n",
    "        #print(lotto)\n",
    "        size = len(lotto) # 45\n",
    "        \n",
    "        l = []\n",
    "        i = 1\n",
    "        while i <= 6:\n",
    "            size -= 1                # 0 ~ 44, 0 ~ 43, 0 ~ 42\n",
    "            idx = random.randint(0, size) # index번호 받아 옴\n",
    "            result = lotto.pop(idx) # index에 해당한 번호 추출 44, 43,42,41,40,...\n",
    "            #print(\"lotto 남아 있는 번호 \"+ str(lotto))\n",
    "            i += 1\n",
    "            l.append(result)\n",
    "        print(l)\n",
    "        #print(lotto)\n",
    "        lotto.clear() # lotto = []\n",
    "        cnt += 1"
   ]
  },
  {
   "cell_type": "code",
   "execution_count": 178,
   "id": "3238cc05-35de-42a5-9684-76d9e02a1942",
   "metadata": {},
   "outputs": [
    {
     "name": "stdout",
     "output_type": "stream",
     "text": [
      "[40, 30, 38, 15, 45, 10]\n",
      "[13, 34, 39, 44, 12, 8]\n",
      "[40, 9, 35, 7, 25, 43]\n",
      "[42, 39, 24, 22, 8, 31]\n",
      "[2, 3, 27, 33, 6, 39]\n",
      "[15, 4, 36, 6, 33, 44]\n",
      "[25, 6, 13, 42, 3, 43]\n",
      "[30, 43, 19, 40, 27, 7]\n"
     ]
    }
   ],
   "source": [
    "lottofn(3)\n",
    "lottofn(5)"
   ]
  },
  {
   "cell_type": "code",
   "execution_count": 180,
   "id": "39989349-44cf-46d1-83b5-c6c50d462690",
   "metadata": {},
   "outputs": [
    {
     "name": "stdout",
     "output_type": "stream",
     "text": [
      "7\n"
     ]
    }
   ],
   "source": [
    "# 함수의 4가지유형\n",
    "# 1. 일반 유형 : 매개변수 , 반환값\n",
    "def f(x):\n",
    "    return 3 * x + 5\n",
    "\n",
    "def add(x, y):\n",
    "    return x + y\n",
    "y = add(3, 4)\n",
    "print(y)"
   ]
  },
  {
   "cell_type": "code",
   "execution_count": 182,
   "id": "b44531a4-513e-45f6-af92-2794911d4e98",
   "metadata": {},
   "outputs": [],
   "source": [
    "# 2.매개변수는 있고 반환값이 없음\n",
    "def add(x, y):\n",
    "    print(x + y)"
   ]
  },
  {
   "cell_type": "code",
   "execution_count": 183,
   "id": "7bff1e32-4764-46d1-9aec-1bdf372579b7",
   "metadata": {},
   "outputs": [
    {
     "name": "stdout",
     "output_type": "stream",
     "text": [
      "8\n"
     ]
    }
   ],
   "source": [
    "add(3, 5)"
   ]
  },
  {
   "cell_type": "code",
   "execution_count": 184,
   "id": "f2279c4d-edb8-4208-9066-d3b6fc90d3b8",
   "metadata": {},
   "outputs": [
    {
     "name": "stdout",
     "output_type": "stream",
     "text": [
      "8\n"
     ]
    }
   ],
   "source": [
    "# 3. 매개변수가 없고 반환값이 있는 경우\n",
    "def add():\n",
    "    x = 3\n",
    "    y = 5\n",
    "    return x + y\n",
    "z = add()\n",
    "print(z)"
   ]
  },
  {
   "cell_type": "code",
   "execution_count": 185,
   "id": "dae84eb0-7c65-4b33-a254-bf2de2a0aa8c",
   "metadata": {},
   "outputs": [
    {
     "name": "stdout",
     "output_type": "stream",
     "text": [
      "8\n"
     ]
    }
   ],
   "source": [
    "# 4. 매개변수 x, 반환값 x\n",
    "def add():\n",
    "    x = 3\n",
    "    y = 5\n",
    "    print(x + y)\n",
    "add()"
   ]
  },
  {
   "cell_type": "code",
   "execution_count": 186,
   "id": "de88220e-b03d-4628-950a-63572e8fe888",
   "metadata": {},
   "outputs": [],
   "source": [
    "def dan3():\n",
    "    for gop in range(1, 10):\n",
    "        print(f\"3 * {gop} = {3 * gop}\")"
   ]
  },
  {
   "cell_type": "code",
   "execution_count": 188,
   "id": "15324ba2-224a-4e3c-80b4-b88f9b6ed249",
   "metadata": {},
   "outputs": [
    {
     "name": "stdin",
     "output_type": "stream",
     "text": [
      "시작곱을 입력하세요. :  3\n",
      "마지막 곱을 입력하세요. :  5\n"
     ]
    },
    {
     "name": "stdout",
     "output_type": "stream",
     "text": [
      "3 * 3 = 9\n",
      "3 * 4 = 12\n",
      "3 * 5 = 15\n"
     ]
    }
   ],
   "source": [
    "def dan3(startgop, endgop):\n",
    "    for gop in range(startgop, endgop + 1):\n",
    "        print(f\"3 * {gop} = {3 * gop}\")\n",
    "s = int(input(\"시작곱을 입력하세요. : \"))\n",
    "e = int(input(\"마지막 곱을 입력하세요. : \"))\n",
    "dan3(s, e)"
   ]
  },
  {
   "cell_type": "code",
   "execution_count": 189,
   "id": "054179c3-c314-44e4-b652-c9df15b66c3e",
   "metadata": {},
   "outputs": [
    {
     "name": "stdin",
     "output_type": "stream",
     "text": [
      "시작곱을 입력하세요. :  3\n",
      "마지막 곱을 입력하세요. :  5\n"
     ]
    },
    {
     "name": "stdout",
     "output_type": "stream",
     "text": [
      "3 * 3 = 9\n",
      "3 * 4 = 12\n",
      "3 * 5 = 15\n"
     ]
    }
   ],
   "source": [
    "def dan3():\n",
    "    startgop = int(input(\"시작곱을 입력하세요. : \"))\n",
    "    endgop = int(input(\"마지막 곱을 입력하세요. : \"))\n",
    "    for gop in range(startgop, endgop + 1):\n",
    "        print(f\"3 * {gop} = {3 * gop}\")\n",
    "dan3()"
   ]
  },
  {
   "cell_type": "code",
   "execution_count": 192,
   "id": "5dd8ada2-082c-4a83-92ce-3f18fe234b2a",
   "metadata": {},
   "outputs": [],
   "source": [
    "def calc(x1, x2, opt):\n",
    "    if opt == \"add\":\n",
    "        result = x1 + x2\n",
    "    elif opt == \"sub\":\n",
    "        result = x1 - x2\n",
    "    elif opt == \"mul\":\n",
    "        result = x1 * x2\n",
    "    else:\n",
    "        result = x1 / x2\n",
    "    return result"
   ]
  },
  {
   "cell_type": "code",
   "execution_count": 196,
   "id": "6bb3eb70-137e-49a9-b6b4-8bb0c5bfa920",
   "metadata": {},
   "outputs": [
    {
     "ename": "SyntaxError",
     "evalue": "positional argument follows keyword argument (2157279785.py, line 16)",
     "output_type": "error",
     "traceback": [
      "  \u001b[36mCell\u001b[39m\u001b[36m \u001b[39m\u001b[32mIn[196]\u001b[39m\u001b[32m, line 16\u001b[39m\n\u001b[31m    \u001b[39m\u001b[31my = calc(3 , opt = \"add\" , 5)\u001b[39m\n                                ^\n\u001b[31mSyntaxError\u001b[39m\u001b[31m:\u001b[39m positional argument follows keyword argument\n"
     ]
    }
   ],
   "source": [
    "y = calc(3 , 5, \"add\")\n",
    "print(y)\n",
    "# parameter이름을 이용해서 값을 전달\n",
    "y = calc(3 , 5, opt = \"add\")\n",
    "print(y)\n",
    "\n",
    "y = calc(3 , x2 = 5, opt = \"add\")\n",
    "print(y)\n",
    "\n",
    "y = calc(3 , opt = \"add\" , x2 = 5)\n",
    "print(y)\n",
    "\n",
    "y = calc( opt = \"add\", x1 = 3 , x2 = 5)\n",
    "print(y)\n",
    "\n",
    "#y = calc(3 , opt = \"add\" , 5)\n",
    "#print(y)"
   ]
  },
  {
   "cell_type": "code",
   "execution_count": 198,
   "id": "dcc07099-073d-4119-aa7f-718ad98cb146",
   "metadata": {},
   "outputs": [],
   "source": [
    "del sum"
   ]
  },
  {
   "cell_type": "code",
   "execution_count": 201,
   "id": "11fce5c9-0667-47e4-bcad-0269a9d49a9d",
   "metadata": {},
   "outputs": [
    {
     "name": "stdout",
     "output_type": "stream",
     "text": [
      "15\n",
      "(1, 2, 3, 4, 5)\n",
      "(1, 2, 3, 4, 5)\n"
     ]
    }
   ],
   "source": [
    "'''\n",
    "sum1(1)\n",
    "sum1(1,2,3,4,4,5)\n",
    "sum1(1,2,4,4,5)\n",
    "'''\n",
    "l = [1,2,3,4,5]\n",
    "print(sum(l))\n",
    "t = 1,2,3,4,5\n",
    "print(t)\n",
    "t = (1,2,3,4,5)\n",
    "print(t)"
   ]
  },
  {
   "cell_type": "code",
   "execution_count": 202,
   "id": "d0beeb77-e3a0-416e-902f-37737a20b74f",
   "metadata": {},
   "outputs": [
    {
     "name": "stdout",
     "output_type": "stream",
     "text": [
      "(1, 2, 3, 4, 5)\n",
      "(2, 3)\n",
      "(1, 2, 3, 4)\n"
     ]
    }
   ],
   "source": [
    "def sum1(*t): # *매개변수명 : 튜플\n",
    "    print(t)\n",
    "sum1(1,2,3,4,5)\n",
    "sum1(2,3)\n",
    "sum1(1,2,3,4)"
   ]
  },
  {
   "cell_type": "code",
   "execution_count": 206,
   "id": "59a2b00d-6be7-4f41-b48b-ae9b4b7dfa63",
   "metadata": {},
   "outputs": [
    {
     "name": "stdout",
     "output_type": "stream",
     "text": [
      "21\n",
      "720\n"
     ]
    }
   ],
   "source": [
    "'''\n",
    "add_mul(\"add\", 1,2,3,4,5,6)\n",
    "add_mul(\"mul\", 1,2,3,4)\n",
    "'''            # *para: 튜플\n",
    "def add_mul(opt, *para):\n",
    "    sum2 = 1; \n",
    "    if opt == \"add\":\n",
    "        result = sum(para)\n",
    "    elif opt == \"mul\":\n",
    "        for t in para:\n",
    "            sum2 *= t\n",
    "        result = sum2\n",
    "    return result\n",
    "y = add_mul(\"add\", 1,2,3,4,5,6)\n",
    "print(y)\n",
    "y = add_mul(\"mul\", 1,2,3,4,5,6)\n",
    "print(y)"
   ]
  },
  {
   "cell_type": "code",
   "execution_count": 216,
   "id": "a4e35ea0-e9ac-41ea-8953-91e3a4ca6b2d",
   "metadata": {},
   "outputs": [],
   "source": [
    "def dic2(**para): # argument를 딕셔너리로 받자.\n",
    "    print(para)"
   ]
  },
  {
   "cell_type": "code",
   "execution_count": 214,
   "id": "bfd6e3d3-7cf6-41e0-a7f4-13b59bb1f498",
   "metadata": {},
   "outputs": [
    {
     "name": "stdout",
     "output_type": "stream",
     "text": [
      "{'a': 1}\n",
      "{'a': 2}\n",
      "{'a': 2, 'b': 4}\n"
     ]
    }
   ],
   "source": [
    "dic1 = { \"a\" : 1}\n",
    "print(dic1)\n",
    "dic1[\"a\"] = 2\n",
    "print(dic1)\n",
    "dic1[\"b\"] = 4\n",
    "print(dic1)"
   ]
  },
  {
   "cell_type": "code",
   "execution_count": 217,
   "id": "76771886-c719-4e16-90ca-e8e8cfc198d9",
   "metadata": {},
   "outputs": [
    {
     "name": "stdout",
     "output_type": "stream",
     "text": [
      "{'a': 10, 'b': 20}\n"
     ]
    }
   ],
   "source": [
    "dic2(a = 10, b = 20)"
   ]
  },
  {
   "cell_type": "code",
   "execution_count": 220,
   "id": "6c1e3d1f-4587-4e03-8bb8-150182fa5c6a",
   "metadata": {},
   "outputs": [],
   "source": [
    "# 함수의 리턴값은 언제나 하나이다\n",
    "def add_mul(x1, x2):\n",
    "    return x1 + x2 # 함수 종료 \n",
    "    return x1 * x2"
   ]
  },
  {
   "cell_type": "code",
   "execution_count": 221,
   "id": "7d5c69f6-bcea-4f80-932d-6c0219cdd43a",
   "metadata": {},
   "outputs": [
    {
     "name": "stdout",
     "output_type": "stream",
     "text": [
      "10\n"
     ]
    }
   ],
   "source": [
    "y = add_mul(4 , 6)\n",
    "print(y)"
   ]
  },
  {
   "cell_type": "code",
   "execution_count": 222,
   "id": "40a76bdb-bbda-4c9f-8ab7-071f24b2fcb7",
   "metadata": {},
   "outputs": [
    {
     "name": "stdout",
     "output_type": "stream",
     "text": [
      "(1, 2)\n"
     ]
    }
   ],
   "source": [
    "a = 1, 2 # 튜플"
   ]
  },
  {
   "cell_type": "code",
   "execution_count": 223,
   "id": "73f449a5-713a-4740-979e-6bb9cbb19e71",
   "metadata": {},
   "outputs": [],
   "source": [
    "#           3    4\n",
    "def add_mul(x1, x2):\n",
    "         #     7,     12\n",
    "    return x1 + x2, x1 * x2 # 튜플"
   ]
  },
  {
   "cell_type": "code",
   "execution_count": 226,
   "id": "b4244a42-195f-4b11-999b-a05ca8bc9885",
   "metadata": {},
   "outputs": [
    {
     "name": "stdout",
     "output_type": "stream",
     "text": [
      "(7, 12)\n",
      "7 12\n"
     ]
    }
   ],
   "source": [
    "y = add_mul(3, 4) # 7, 12\n",
    "# y = 7, 12\n",
    "print(y)\n",
    "y = 1, 2\n",
    "a, b = 1, 2\n",
    "a, b = add_mul(3, 4)\n",
    "# a, b =  7, 12\n",
    "print(a, b)"
   ]
  },
  {
   "cell_type": "code",
   "execution_count": 228,
   "id": "46029ddf-54b9-4831-a41e-bfd23209d271",
   "metadata": {},
   "outputs": [],
   "source": [
    "def say_myself(name, old, man):\n",
    "    print(f\"나의 이름은 {name}입니다.\")\n",
    "    print(f\"나의 나이는 {old}입니다.\")\n",
    "    if man:\n",
    "       print(\"나는 남자입니다.\")\n",
    "    else:\n",
    "       print(\"나는 여자입니다.\")"
   ]
  },
  {
   "cell_type": "code",
   "execution_count": 229,
   "id": "d8d7fdd7-0010-4fc2-b763-c2f914487d50",
   "metadata": {},
   "outputs": [
    {
     "name": "stdout",
     "output_type": "stream",
     "text": [
      "나의 이름은 이숭무입니다.\n",
      "나의 나이는 35입니다.\n",
      "나는 남자입니다.\n"
     ]
    }
   ],
   "source": [
    "say_myself(\"이숭무\", 35, True)"
   ]
  },
  {
   "cell_type": "code",
   "execution_count": 230,
   "id": "74d6e9a2-7251-4da7-b279-1724368f056a",
   "metadata": {},
   "outputs": [],
   "source": [
    "#### 매개변수에 초깃값 미리 설정하기 \n",
    "def say_myself(name, old, man = True):\n",
    "    print(f\"나의 이름은 {name}입니다.\")\n",
    "    print(f\"나의 나이는 {old}입니다.\")\n",
    "    if man:\n",
    "       print(\"나는 남자입니다.\")\n",
    "    else:\n",
    "       print(\"나는 여자입니다.\")"
   ]
  },
  {
   "cell_type": "code",
   "execution_count": 233,
   "id": "dcdcac49-20bf-4169-b69e-8598304ec855",
   "metadata": {},
   "outputs": [
    {
     "name": "stdout",
     "output_type": "stream",
     "text": [
      "나의 이름은 이숭무입니다.\n",
      "나의 나이는 35입니다.\n",
      "나는 남자입니다.\n",
      "나의 이름은 오연의입니다.\n",
      "나의 나이는 35입니다.\n",
      "나는 여자입니다.\n"
     ]
    }
   ],
   "source": [
    "say_myself(\"이숭무\", 35)\n",
    "say_myself(\"오연의\", 35,  False)"
   ]
  },
  {
   "cell_type": "code",
   "execution_count": 234,
   "id": "892f1a17-ad1a-4014-916c-587e661d8217",
   "metadata": {},
   "outputs": [],
   "source": [
    "#### 매개변수에 초깃값 미리 설정하기 \n",
    "def say_myself(name, old = 30, man = True):\n",
    "    print(f\"나의 이름은 {name}입니다.\")\n",
    "    print(f\"나의 나이는 {old}입니다.\")\n",
    "    if man:\n",
    "       print(\"나는 남자입니다.\")\n",
    "    else:\n",
    "       print(\"나는 여자입니다.\")"
   ]
  },
  {
   "cell_type": "code",
   "execution_count": 235,
   "id": "5f0270aa-a8fd-4015-b126-88b7ba7c7c54",
   "metadata": {},
   "outputs": [
    {
     "name": "stdout",
     "output_type": "stream",
     "text": [
      "나의 이름은 이숭무입니다.\n",
      "나의 나이는 30입니다.\n",
      "나는 남자입니다.\n",
      "나의 이름은 오연의입니다.\n",
      "나의 나이는 35입니다.\n",
      "나는 여자입니다.\n"
     ]
    }
   ],
   "source": [
    "say_myself(\"이숭무\")\n",
    "say_myself(\"오연의\", 35,  False)"
   ]
  },
  {
   "cell_type": "code",
   "execution_count": 236,
   "id": "648751bf-f711-4b5f-a2bd-6e88d915715c",
   "metadata": {},
   "outputs": [
    {
     "name": "stdout",
     "output_type": "stream",
     "text": [
      "\n"
     ]
    }
   ],
   "source": [
    "'''\n",
    "def say_myself(name, old = 30, man):\n",
    "    print(f\"나의 이름은 {name}입니다.\")\n",
    "    print(f\"나의 나이는 {old}입니다.\")\n",
    "    if man:\n",
    "       print(\"나는 남자입니다.\")\n",
    "    else:\n",
    "       print(\"나는 여자입니다.\")\n",
    "say_myself(\"이숭무\", True)\n",
    "'''\n",
    "print()"
   ]
  },
  {
   "cell_type": "code",
   "execution_count": 238,
   "id": "f491e364-6135-45a8-8a61-9d3d1533c42f",
   "metadata": {},
   "outputs": [
    {
     "name": "stdout",
     "output_type": "stream",
     "text": [
      "8\n"
     ]
    }
   ],
   "source": [
    "### lambda함수 : 함수를 마치 변수처럼 선언해서 사용\n",
    "# 일반 함수\n",
    "def add(a, b):\n",
    "    return a + b\n",
    "y = add(3, 5)\n",
    "print(y)"
   ]
  },
  {
   "cell_type": "code",
   "execution_count": 239,
   "id": "0823f5e1-4c5e-49a7-81c3-523625ba7209",
   "metadata": {},
   "outputs": [
    {
     "name": "stdout",
     "output_type": "stream",
     "text": [
      "8\n"
     ]
    }
   ],
   "source": [
    "# 람다함수\n",
    "add = lambda a, b :  a + b\n",
    "y = add(3, 5)\n",
    "print(y)"
   ]
  },
  {
   "cell_type": "code",
   "execution_count": null,
   "id": "c85fed8b-d14a-456d-95cf-5d801890fffc",
   "metadata": {},
   "outputs": [],
   "source": [
    "# 일반 함수\n",
    "def add(a, b):\n",
    "    print( a + b )\n",
    "add(3, 5)"
   ]
  },
  {
   "cell_type": "code",
   "execution_count": 240,
   "id": "e472bb9e-6cbb-49d0-8301-e5f64071eed2",
   "metadata": {},
   "outputs": [
    {
     "name": "stdout",
     "output_type": "stream",
     "text": [
      "8\n"
     ]
    }
   ],
   "source": [
    "add = lambda  a, b : print( a + b )\n",
    "add(3, 5)"
   ]
  },
  {
   "cell_type": "code",
   "execution_count": null,
   "id": "8d36580e-0271-4db8-958c-197c68d690ff",
   "metadata": {},
   "outputs": [],
   "source": [
    "# 일반함수\n",
    "def calc(opt , a, b):\n",
    "    if opt == \"add\":\n",
    "        return a + b \n",
    "    else:\n",
    "        return a - b\n",
    "        \n",
    "calc(\"add\", 3, 4)"
   ]
  },
  {
   "cell_type": "code",
   "execution_count": 243,
   "id": "9552daf3-085d-4c16-b279-33fd042a17b1",
   "metadata": {},
   "outputs": [
    {
     "data": {
      "text/plain": [
       "7"
      ]
     },
     "execution_count": 243,
     "metadata": {},
     "output_type": "execute_result"
    }
   ],
   "source": [
    "calc = lambda  opt , a, b : a + b if opt == \"add\" else (\n",
    "                            a - b)\n",
    "calc(\"add\", 3, 4)"
   ]
  },
  {
   "cell_type": "code",
   "execution_count": null,
   "id": "cb1cf162-3c13-407e-9ac4-0c784bb76b94",
   "metadata": {},
   "outputs": [],
   "source": [
    "# 일반함수\n",
    "def calc(opt, a, b):\n",
    "    if opt == \"add\":\n",
    "        return a + b\n",
    "    elif opt == \"sub\":\n",
    "        return a - b\n",
    "    elif opt == \"mul\":\n",
    "        return a * b\n",
    "    else:\n",
    "        return a / b"
   ]
  },
  {
   "cell_type": "code",
   "execution_count": 245,
   "id": "4a90be81-0606-4320-8591-8765c2747510",
   "metadata": {},
   "outputs": [
    {
     "name": "stdout",
     "output_type": "stream",
     "text": [
      "200\n"
     ]
    }
   ],
   "source": [
    "calc = lambda opt, a, b : a + b if opt == \"add\" else(\n",
    "                          a - b if opt == \"sub\" else(\n",
    "                          a * b if opt == \"mul\" else(\n",
    "                          a / b    \n",
    "                          )))\n",
    "result = calc(\"mul\", 10, 20)\n",
    "print(result)"
   ]
  },
  {
   "cell_type": "code",
   "execution_count": null,
   "id": "d7a5eb43-3bed-466e-836c-a94ab27e6d27",
   "metadata": {},
   "outputs": [],
   "source": [
    "def add(a, b=4):\n",
    "    return a + b"
   ]
  },
  {
   "cell_type": "code",
   "execution_count": 247,
   "id": "4d29a6f8-e5f1-4166-a160-6df5e3d4a866",
   "metadata": {},
   "outputs": [
    {
     "name": "stdout",
     "output_type": "stream",
     "text": [
      "7\n"
     ]
    }
   ],
   "source": [
    "add = lambda a, b=4 : a + b\n",
    "result = add(3)\n",
    "print(result)"
   ]
  },
  {
   "cell_type": "code",
   "execution_count": null,
   "id": "a0dbec2b-bed6-4efb-9af4-551afa8818f0",
   "metadata": {},
   "outputs": [],
   "source": [
    "#전역변수 : 프로그램 전체에서 사용 가능한 변수, 함수밖에 있는 변수\n",
    "#지역변수 : 함수안에 정의 되어 있는 변수 , 함수안에서만 사용가능한 변수"
   ]
  },
  {
   "cell_type": "code",
   "execution_count": 249,
   "id": "d667ed56-1f68-467b-bc52-b1af7b7c48eb",
   "metadata": {},
   "outputs": [
    {
     "name": "stdout",
     "output_type": "stream",
     "text": [
      "전역변수 :  100\n",
      "지역변수 :  200\n"
     ]
    }
   ],
   "source": [
    "b = 100  #전역 변수\n",
    "def test2():\n",
    "    c1 = 200 # 지역변수\n",
    "    print(\"전역변수 : \" , b)\n",
    "    print(\"지역변수 : \" , c1)\n",
    "\n",
    "test2()"
   ]
  },
  {
   "cell_type": "code",
   "execution_count": 250,
   "id": "5f32e18d-19c5-4b28-98a1-482335b60c37",
   "metadata": {},
   "outputs": [
    {
     "name": "stdout",
     "output_type": "stream",
     "text": [
      "전역변수 :  100\n",
      "지역변수 :  10\n",
      "지역변수 :  200\n",
      "전역변수 :  100\n"
     ]
    }
   ],
   "source": [
    "b = 100  #전역 변수\n",
    "def test2():\n",
    "    c1 = 200 # 지역변수\n",
    "    b = 10 # 지역변수\n",
    "    print(\"지역변수 : \" , b)\n",
    "    print(\"지역변수 : \" , c1)\n",
    "print(\"전역변수 : \" , b)\n",
    "test2()\n",
    "print(\"전역변수 : \" , b)"
   ]
  },
  {
   "cell_type": "code",
   "execution_count": 251,
   "id": "93581206-0d39-4e9c-901d-85b9b4628eea",
   "metadata": {},
   "outputs": [
    {
     "name": "stdout",
     "output_type": "stream",
     "text": [
      "전역변수 :  100\n",
      "지역변수 :  10\n",
      "지역변수 :  200\n",
      "전역변수 :  10\n"
     ]
    }
   ],
   "source": [
    "b = 100  #전역 변수\n",
    "def test2():\n",
    "    global b\n",
    "    c1 = 200 # 지역변수\n",
    "    b = 10 # 전역 변수\n",
    "    print(\"전역 변수 : \" , b)\n",
    "    print(\"지역변수 : \" , c1)\n",
    "print(\"전역변수 : \" , b)\n",
    "test2()\n",
    "print(\"전역변수 : \" , b)"
   ]
  },
  {
   "cell_type": "code",
   "execution_count": 252,
   "id": "afa13b0a-f7ed-42d1-8dff-0dac2ada5b2f",
   "metadata": {},
   "outputs": [],
   "source": [
    "# 파일입출력 : open()함수\n",
    "# open(file, mode='r', buffering=None, encoding=None, errors=None, newline=None, closefd=True):\n",
    "# open(\"C:/Users/soldesk/Desktop/test.txt\", mode=\"w\", encoding=\"utf-8\")\n",
    "f = open(\"test.txt\", 'w', encoding=\"utf-8\")\n",
    "f.write(\"1번째 줄입니다.\\n\")\n",
    "f.write(\"2번째 줄입니다.\\n\")\n",
    "f.write(\"3번째 줄입니다.\\n\")\n",
    "f.write(\"4번째 줄입니다.\\n\")\n",
    "f.write(\"5번째 줄입니다.\\n\")\n",
    "f.close()"
   ]
  },
  {
   "cell_type": "code",
   "execution_count": 253,
   "id": "d2d1bdf7-0acb-4868-a4f7-0bec7ec8c5fa",
   "metadata": {},
   "outputs": [],
   "source": [
    "f = open(\"test.txt\", 'w', encoding=\"utf-8\")\n",
    "for i in range(6, 11):\n",
    "    f.write(f\"{i}번째 줄입니다.\\n\")\n",
    "f.close()\n",
    "# 'w' : overwrite"
   ]
  },
  {
   "cell_type": "code",
   "execution_count": 254,
   "id": "b0013335-f95d-4e30-b0b3-c70885456755",
   "metadata": {},
   "outputs": [],
   "source": [
    "f = open(\"test.txt\", 'a', encoding=\"utf-8\")\n",
    "for i in range(11, 16):\n",
    "    f.write(f\"{i}번째 줄입니다.\\n\")\n",
    "f.close()\n",
    "# 'a' : append :추가"
   ]
  },
  {
   "cell_type": "code",
   "execution_count": 259,
   "id": "1e39d780-eb70-4006-8514-a5fa972df1d9",
   "metadata": {},
   "outputs": [
    {
     "name": "stdout",
     "output_type": "stream",
     "text": [
      "6번째 줄입니다.\n",
      "\n",
      "7번째 줄입니다.\n",
      "\n",
      "8번째 줄입니다.\n",
      "\n"
     ]
    }
   ],
   "source": [
    "f = open(\"test.txt\", encoding=\"utf-8\")\n",
    "line = f.readline()\n",
    "print(line)\n",
    "line = f.readline()\n",
    "print(line)\n",
    "line = f.readline()\n",
    "print(line)\n",
    "f.close()"
   ]
  },
  {
   "cell_type": "code",
   "execution_count": 260,
   "id": "1ee07044-80a4-4968-943e-bbc99cca4fde",
   "metadata": {},
   "outputs": [
    {
     "name": "stdout",
     "output_type": "stream",
     "text": [
      "6번째 줄입니다.\n",
      "\n",
      "7번째 줄입니다.\n",
      "\n",
      "8번째 줄입니다.\n",
      "\n",
      "9번째 줄입니다.\n",
      "\n",
      "10번째 줄입니다.\n",
      "\n",
      "11번째 줄입니다.\n",
      "\n",
      "12번째 줄입니다.\n",
      "\n",
      "13번째 줄입니다.\n",
      "\n",
      "14번째 줄입니다.\n",
      "\n",
      "15번째 줄입니다.\n",
      "\n"
     ]
    }
   ],
   "source": [
    "f = open(\"test.txt\", encoding=\"utf-8\")\n",
    "while True:\n",
    "    line = f.readline() # line = \"\" : False; print(bool(\"\"))\n",
    "    if not line:\n",
    "        break\n",
    "    print(line)\n",
    "f.close()"
   ]
  },
  {
   "cell_type": "code",
   "execution_count": 262,
   "id": "6bf9d8a2-9b80-48de-a7d4-e83599a380b2",
   "metadata": {},
   "outputs": [
    {
     "name": "stdout",
     "output_type": "stream",
     "text": [
      "['6번째 줄입니다.\\n', '7번째 줄입니다.\\n', '8번째 줄입니다.\\n', '9번째 줄입니다.\\n', '10번째 줄입니다.\\n', '11번째 줄입니다.\\n', '12번째 줄입니다.\\n', '13번째 줄입니다.\\n', '14번째 줄입니다.\\n', '15번째 줄입니다.\\n']\n",
      "6번째 줄입니다.\n",
      "7번째 줄입니다.\n",
      "8번째 줄입니다.\n",
      "9번째 줄입니다.\n",
      "10번째 줄입니다.\n",
      "11번째 줄입니다.\n",
      "12번째 줄입니다.\n",
      "13번째 줄입니다.\n",
      "14번째 줄입니다.\n",
      "15번째 줄입니다.\n",
      "\n"
     ]
    }
   ],
   "source": [
    "f = open(\"test.txt\", encoding=\"utf-8\")\n",
    "lines = f.readlines()\n",
    "f.close()\n",
    "print(lines)\n",
    "print(\"\".join(lines))"
   ]
  },
  {
   "cell_type": "code",
   "execution_count": 263,
   "id": "5a1acdfc-303a-499c-8ebc-ec32ce7bef2c",
   "metadata": {},
   "outputs": [
    {
     "name": "stdout",
     "output_type": "stream",
     "text": [
      "6번째 줄입니다.\n",
      "7번째 줄입니다.\n",
      "8번째 줄입니다.\n",
      "9번째 줄입니다.\n",
      "10번째 줄입니다.\n",
      "11번째 줄입니다.\n",
      "12번째 줄입니다.\n",
      "13번째 줄입니다.\n",
      "14번째 줄입니다.\n",
      "15번째 줄입니다.\n",
      "\n"
     ]
    }
   ],
   "source": [
    "f = open(\"test.txt\", encoding=\"utf-8\")\n",
    "data = f.read()\n",
    "f.close()\n",
    "print(data)\n",
    "# readline, readlines , read"
   ]
  },
  {
   "cell_type": "code",
   "execution_count": 265,
   "id": "6239c643-52ff-459b-a990-f6fee10b061b",
   "metadata": {},
   "outputs": [
    {
     "name": "stdout",
     "output_type": "stream",
     "text": [
      "6번째 줄입니다.\n",
      "\n",
      "7번째 줄입니다.\n",
      "\n",
      "8번째 줄입니다.\n",
      "\n",
      "9번째 줄입니다.\n",
      "\n",
      "10번째 줄입니다.\n",
      "\n",
      "11번째 줄입니다.\n",
      "\n",
      "12번째 줄입니다.\n",
      "\n",
      "13번째 줄입니다.\n",
      "\n",
      "14번째 줄입니다.\n",
      "\n",
      "15번째 줄입니다.\n",
      "\n"
     ]
    }
   ],
   "source": [
    "#f.close()를 사용하지 않음 : with \n",
    "with open(\"test.txt\", encoding=\"utf-8\") as f:\n",
    "    while True:\n",
    "        line = f.readline()\n",
    "        if not line:\n",
    "            break\n",
    "        print(line)"
   ]
  },
  {
   "cell_type": "code",
   "execution_count": 267,
   "id": "ce661235-1065-47e4-9d06-f2f32a922dfa",
   "metadata": {},
   "outputs": [
    {
     "name": "stdout",
     "output_type": "stream",
     "text": [
      "6번째 줄입니다.\n",
      "7번째 줄입니다.\n",
      "8번째 줄입니다.\n",
      "9번째 줄입니다.\n",
      "10번째 줄입니다.\n",
      "11번째 줄입니다.\n",
      "12번째 줄입니다.\n",
      "13번째 줄입니다.\n",
      "14번째 줄입니다.\n",
      "15번째 줄입니다.\n",
      "\n"
     ]
    }
   ],
   "source": [
    "with open(\"test.txt\", encoding=\"utf-8\") as f:\n",
    "    lines = f.readlines()\n",
    "    print(\"\".join(lines))"
   ]
  },
  {
   "cell_type": "code",
   "execution_count": 269,
   "id": "b96b0b5c-223f-4ff3-a702-6766645cedb8",
   "metadata": {},
   "outputs": [],
   "source": [
    "with open(\"test.txt\", encoding=\"utf-8\", mode='w') as f:\n",
    "    for i in range(1, 6):\n",
    "        f.write(f\"{i}번째입니다.\\n\")"
   ]
  },
  {
   "cell_type": "code",
   "execution_count": 270,
   "id": "6adab68b-f35e-404c-b004-35289980e0f1",
   "metadata": {},
   "outputs": [],
   "source": [
    "with open(\"test.txt\", encoding=\"utf-8\", mode='a') as f:\n",
    "    for i in range(6,11):\n",
    "        f.write(f\"{i}번째입니다.\\n\")"
   ]
  },
  {
   "cell_type": "code",
   "execution_count": null,
   "id": "c1811650-143b-450d-b177-54e0346e6c12",
   "metadata": {},
   "outputs": [],
   "source": [
    "# mode : r, w, a, rb, wb, ab"
   ]
  }
 ],
 "metadata": {
  "kernelspec": {
   "display_name": "Python 3 (ipykernel)",
   "language": "python",
   "name": "python3"
  },
  "language_info": {
   "codemirror_mode": {
    "name": "ipython",
    "version": 3
   },
   "file_extension": ".py",
   "mimetype": "text/x-python",
   "name": "python",
   "nbconvert_exporter": "python",
   "pygments_lexer": "ipython3",
   "version": "3.13.5"
  }
 },
 "nbformat": 4,
 "nbformat_minor": 5
}
