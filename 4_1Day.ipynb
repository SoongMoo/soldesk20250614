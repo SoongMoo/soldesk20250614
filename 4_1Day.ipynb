{
 "cells": [
  {
   "cell_type": "code",
   "execution_count": 1,
   "id": "70a80450-3edf-406d-9773-c941c7ce5f8c",
   "metadata": {},
   "outputs": [],
   "source": [
    "숫자 배열 :numpy"
   ]
  },
  {
   "cell_type": "code",
   "execution_count": 2,
   "id": "470c2397-f812-40e3-9819-c7821b6774c0",
   "metadata": {},
   "outputs": [
    {
     "name": "stdout",
     "output_type": "stream",
     "text": [
      "Requirement already satisfied: numpy in c:\\users\\soldesk\\appdata\\local\\programs\\python\\python313\\lib\\site-packages (2.3.1)\n"
     ]
    }
   ],
   "source": [
    "!pip install numpy"
   ]
  },
  {
   "cell_type": "code",
   "execution_count": 6,
   "id": "803f21ec-b19a-4c41-ad6c-39fcfbdba24a",
   "metadata": {},
   "outputs": [
    {
     "name": "stdout",
     "output_type": "stream",
     "text": [
      "[     0      1      2 ... 999997 999998 999999]\n",
      "[1, 2, 3, 4]\n"
     ]
    }
   ],
   "source": [
    "import numpy\n",
    "my_arr = numpy.arange(1_000_000)\n",
    "my_arr\n",
    "print(my_arr)\n",
    "l = [1,2,3,4]\n",
    "print(l)"
   ]
  },
  {
   "cell_type": "code",
   "execution_count": 12,
   "id": "0748bb8b-7923-4911-8fe5-5193e4fd9714",
   "metadata": {},
   "outputs": [
    {
     "name": "stdout",
     "output_type": "stream",
     "text": [
      "<class 'list'>\n",
      "<class 'numpy.ndarray'>\n"
     ]
    },
    {
     "data": {
      "text/plain": [
       "array([0, 1, 2, 3, 4, 5, 6, 7, 8, 9])"
      ]
     },
     "execution_count": 12,
     "metadata": {},
     "output_type": "execute_result"
    }
   ],
   "source": [
    "import numpy as np\n",
    "my_arr = np.arange(1_000_000) # 0 ~ 999999 , 1차원배열\n",
    "my_arr\n",
    "my_arr.shape  # 배열의 크기\n",
    "my_list = list(range(1_000_000))\n",
    "print(type(my_list))\n",
    "print(type(my_arr))\n",
    "my_arr = np.arange(10) # 0 ~ 9\n",
    "my_arr"
   ]
  },
  {
   "cell_type": "code",
   "execution_count": 15,
   "id": "246c419f-d75a-48c9-b12e-7cfcc02d80bc",
   "metadata": {},
   "outputs": [
    {
     "name": "stdout",
     "output_type": "stream",
     "text": [
      "[ 0.  -3.   6.5]\n",
      "[[ 1.5 -0.1  3. ]\n",
      " [ 0.  -3.   6.5]]\n",
      "[[ 1.5 -0.1  3. ]]\n"
     ]
    }
   ],
   "source": [
    "data = np.array([0, -3, 6.5]) # 1차원 배열\n",
    "print(data)\n",
    "data = np.array([[1.5, -0.1, 3], [0, -3, 6.5]]) # 2차원 배열\n",
    "print(data)\n",
    "data = np.array([[1.5, -0.1, 3]])\n",
    "print(data)"
   ]
  },
  {
   "cell_type": "code",
   "execution_count": 19,
   "id": "5b7fc7c7-eb8f-4525-ad11-ba2104cf2e2e",
   "metadata": {},
   "outputs": [
    {
     "name": "stdout",
     "output_type": "stream",
     "text": [
      "[[1 2 3 4]\n",
      " [5 6 7 8]]\n",
      "(2, 4)\n",
      "2\n",
      "2\n"
     ]
    }
   ],
   "source": [
    "data2 = [[1, 2, 3, 4], [5, 6, 7, 8]] # 2행 4열인 2차원배열\n",
    "arr2 = np.array(data2)\n",
    "print(arr2)\n",
    "print(arr2.shape) # (2, 4) : 튜플\n",
    "#                    0  1\n",
    "print(arr2.shape[0])\n",
    "print(arr2.ndim)"
   ]
  },
  {
   "cell_type": "code",
   "execution_count": 21,
   "id": "4a52b651-bb4d-4924-8cc7-7ec3f904ea7e",
   "metadata": {},
   "outputs": [
    {
     "name": "stdout",
     "output_type": "stream",
     "text": [
      "[6, 7.5, 8, 0, 1]\n",
      "[6.  7.5 8.  0.  1. ]\n"
     ]
    }
   ],
   "source": [
    "data1 = [6, 7.5, 8, 0, 1] # 실수 리스트\n",
    "data2 = [[1, 2, 3, 4], [5, 6, 7, 8]] # 정수 리스트\n",
    "print(data1)\n",
    "arr1 = np.array(data1)\n",
    "print(arr1)"
   ]
  },
  {
   "cell_type": "code",
   "execution_count": 23,
   "id": "5a38d1e5-a5a8-496b-bae1-fbeaf4ff8c8e",
   "metadata": {},
   "outputs": [
    {
     "name": "stdout",
     "output_type": "stream",
     "text": [
      "float64\n",
      "int64\n"
     ]
    }
   ],
   "source": [
    "print(arr1.dtype)\n",
    "print(arr2.dtype)"
   ]
  },
  {
   "cell_type": "code",
   "execution_count": 27,
   "id": "e3a3c580-7b24-4837-be56-8c8c15be53d4",
   "metadata": {},
   "outputs": [
    {
     "name": "stdout",
     "output_type": "stream",
     "text": [
      "float64\n",
      "[1. 2. 3.]\n",
      "int32\n",
      "[1 2 3]\n"
     ]
    }
   ],
   "source": [
    "arr1 = np.array([1, 2, 3], dtype=np.float64) # 1차원 배열 타입은 실수\n",
    "print(arr1.dtype)\n",
    "print(arr1)\n",
    "arr2 = np.array([1, 2, 3], dtype=np.int32)\n",
    "print(arr2.dtype)\n",
    "print(arr2)"
   ]
  },
  {
   "cell_type": "code",
   "execution_count": 29,
   "id": "6151527c-900c-47b5-85ee-f28e12a08ff7",
   "metadata": {},
   "outputs": [
    {
     "name": "stdout",
     "output_type": "stream",
     "text": [
      "int64\n",
      "int64\n",
      "float64\n"
     ]
    }
   ],
   "source": [
    "arr = np.array([1, 2, 3, 4, 5])\n",
    "print(arr.dtype)\n",
    "float_arr = arr.astype(np.float64)\n",
    "print(arr.dtype)\n",
    "print(float_arr.dtype)"
   ]
  },
  {
   "cell_type": "code",
   "execution_count": 31,
   "id": "3f271ae1-0e67-44f3-b96f-3c762650025c",
   "metadata": {},
   "outputs": [
    {
     "name": "stdout",
     "output_type": "stream",
     "text": [
      "[ 3.7 -1.2 -2.6  0.5 12.9 10.1]\n",
      "float64\n",
      "[ 3 -1 -2  0 12 10]\n",
      "float64\n"
     ]
    }
   ],
   "source": [
    "arr = np.array([3.7, -1.2, -2.6, 0.5, 12.9, 10.1])\n",
    "print(arr)\n",
    "print(arr.dtype)\n",
    "print(arr.astype(np.int32))\n",
    "print(arr.dtype)"
   ]
  },
  {
   "cell_type": "code",
   "execution_count": 35,
   "id": "e64e6830-be04-4451-bab9-3efdd6a61dde",
   "metadata": {},
   "outputs": [
    {
     "name": "stdout",
     "output_type": "stream",
     "text": [
      "['1.25' '-9.6' '42']\n",
      "[ 1.25 -9.6  42.  ]\n"
     ]
    }
   ],
   "source": [
    "numeric_strings = np.array([\"1.25\", \"-9.6\", \"42\"])\n",
    "print(numeric_strings)\n",
    "numeric_strings = numeric_strings.astype(np.float64)\n",
    "print(numeric_strings)"
   ]
  },
  {
   "cell_type": "code",
   "execution_count": 38,
   "id": "af6d4744-1d19-42be-9e26-d7ee72bfe397",
   "metadata": {},
   "outputs": [
    {
     "name": "stdout",
     "output_type": "stream",
     "text": [
      "[0 1 2 3 4 5 6 7 8 9]\n",
      "float64\n",
      "int64\n"
     ]
    }
   ],
   "source": [
    "int_array = np.arange(10)\n",
    "print(int_array)\n",
    "calibers = np.array([.22, .270, .357, .380, .44, .50], dtype=np.float64)\n",
    "print(calibers.dtype)\n",
    "converted  = int_array.astype(calibers.dtype)\n",
    "print(converted.dtype)"
   ]
  },
  {
   "cell_type": "code",
   "execution_count": 45,
   "id": "9218b4de-58d5-4dbd-afd0-df67a618f406",
   "metadata": {},
   "outputs": [
    {
     "name": "stdout",
     "output_type": "stream",
     "text": [
      "[[1. 2. 3.]\n",
      " [4. 5. 6.]]\n",
      "[[1. 2. 3.]\n",
      " [4. 5. 6.]]\n",
      "[[ 1.  4.  9.]\n",
      " [16. 25. 36.]]\n",
      "[[0. 0. 0.]\n",
      " [0. 0. 0.]]\n",
      "[[1.         0.5        0.33333333]\n",
      " [0.25       0.2        0.16666667]]\n",
      "[[ 1.  4.  9.]\n",
      " [16. 25. 36.]]\n"
     ]
    }
   ],
   "source": [
    "arr = np.array([[1., 2., 3.], [4., 5., 6.]])\n",
    "print(arr)\n",
    "print(arr)\n",
    "result = arr * arr\n",
    "print(result)\n",
    "result = arr - arr\n",
    "print(result)\n",
    "result = 1 / arr\n",
    "print(result)\n",
    "result = arr ** 2\n",
    "print(result)"
   ]
  },
  {
   "cell_type": "code",
   "execution_count": 48,
   "id": "57699962-bfd8-4263-bdba-90a8340cc40f",
   "metadata": {},
   "outputs": [
    {
     "name": "stdout",
     "output_type": "stream",
     "text": [
      "[[1. 2. 3.]\n",
      " [4. 5. 6.]]\n",
      "[[ 0.  4.  1.]\n",
      " [ 7.  2. 12.]]\n",
      "[[False  True False]\n",
      " [ True False  True]]\n",
      "[ 4.  7. 12.]\n",
      "[ 4.  7. 12.]\n"
     ]
    }
   ],
   "source": [
    "arr2 = np.array([[0., 4., 1.], [7., 2., 12.]])\n",
    "print(arr)\n",
    "print(arr2)\n",
    "result = arr2 > arr # 팬시 index\n",
    "print(result)\n",
    "print(arr2[[[False,  True, False],[ True, False,  True]]])\n",
    "print(arr2[result])"
   ]
  },
  {
   "cell_type": "code",
   "execution_count": 49,
   "id": "aae60ec4-b3de-450c-a7aa-996743538892",
   "metadata": {},
   "outputs": [
    {
     "name": "stdout",
     "output_type": "stream",
     "text": [
      "[0 1 2 3 4 5 6 7 8 9]\n",
      "5\n",
      "[5 6 7]\n",
      "[ 0  1  2  3  4 12 12 12  8  9]\n"
     ]
    }
   ],
   "source": [
    "# indexing, slicing\n",
    "arr = np.arange(10)\n",
    "print(arr)\n",
    "print(arr[5])\n",
    "print(arr[5:8])\n",
    "arr[5:8] = 12\n",
    "print(arr)"
   ]
  },
  {
   "cell_type": "code",
   "execution_count": 53,
   "id": "43e578e5-f52f-4683-a45a-990b79b70f08",
   "metadata": {},
   "outputs": [
    {
     "name": "stdout",
     "output_type": "stream",
     "text": [
      "5\n",
      "[5, 6, 7]\n"
     ]
    },
    {
     "ename": "TypeError",
     "evalue": "must assign iterable to extended slice",
     "output_type": "error",
     "traceback": [
      "\u001b[31m---------------------------------------------------------------------------\u001b[39m",
      "\u001b[31mTypeError\u001b[39m                                 Traceback (most recent call last)",
      "\u001b[36mCell\u001b[39m\u001b[36m \u001b[39m\u001b[32mIn[53]\u001b[39m\u001b[32m, line 4\u001b[39m\n\u001b[32m      2\u001b[39m \u001b[38;5;28mprint\u001b[39m(l[\u001b[32m5\u001b[39m])\n\u001b[32m      3\u001b[39m \u001b[38;5;28mprint\u001b[39m(l[\u001b[32m5\u001b[39m:\u001b[32m8\u001b[39m])\n\u001b[32m----> \u001b[39m\u001b[32m4\u001b[39m \u001b[43ml\u001b[49m\u001b[43m[\u001b[49m\u001b[32;43m5\u001b[39;49m\u001b[43m:\u001b[49m\u001b[32;43m8\u001b[39;49m\u001b[43m]\u001b[49m = \u001b[32m12\u001b[39m\n\u001b[32m      5\u001b[39m \u001b[38;5;28mprint\u001b[39m(l)\n",
      "\u001b[31mTypeError\u001b[39m: must assign iterable to extended slice"
     ]
    }
   ],
   "source": [
    "l = [0, 1, 2, 3, 4, 5, 6, 7, 8, 9]\n",
    "print(l[5])\n",
    "print(l[5:8])\n",
    "l[5:8] = 12\n",
    "print(l)"
   ]
  },
  {
   "cell_type": "code",
   "execution_count": 54,
   "id": "8ac32b10-746f-4e1d-b7ef-537be5a10fe5",
   "metadata": {},
   "outputs": [
    {
     "data": {
      "text/plain": [
       "array([ 0,  1,  2,  3,  4, 12, 12, 12,  8,  9])"
      ]
     },
     "execution_count": 54,
     "metadata": {},
     "output_type": "execute_result"
    }
   ],
   "source": [
    "arr"
   ]
  },
  {
   "cell_type": "code",
   "execution_count": 55,
   "id": "7ae340b7-929b-42c9-aff0-775a57843921",
   "metadata": {},
   "outputs": [
    {
     "name": "stdout",
     "output_type": "stream",
     "text": [
      "[12 12 12]\n"
     ]
    }
   ],
   "source": [
    "arr_slice = arr[5:8]\n",
    "print(arr_slice)"
   ]
  },
  {
   "cell_type": "code",
   "execution_count": 57,
   "id": "e3a3b848-3594-49fa-90cd-e4ad92371d79",
   "metadata": {},
   "outputs": [
    {
     "name": "stdout",
     "output_type": "stream",
     "text": [
      "[   12 12345    12]\n",
      "[    0     1     2     3     4    12 12345    12     8     9]\n"
     ]
    }
   ],
   "source": [
    "arr_slice[1] = 12345\n",
    "print(arr_slice)\n",
    "print(arr)"
   ]
  },
  {
   "cell_type": "code",
   "execution_count": 59,
   "id": "77f04fdc-584b-4644-a03b-f6b5b0a6310c",
   "metadata": {},
   "outputs": [
    {
     "name": "stdout",
     "output_type": "stream",
     "text": [
      "[64 64 64]\n",
      "[ 0  1  2  3  4 64 64 64  8  9]\n"
     ]
    }
   ],
   "source": [
    "arr_slice[:] = 64\n",
    "print(arr_slice)\n",
    "print(arr)"
   ]
  },
  {
   "cell_type": "code",
   "execution_count": 62,
   "id": "d8765219-3472-4e1a-a98f-9eb5ef910f48",
   "metadata": {},
   "outputs": [
    {
     "name": "stdout",
     "output_type": "stream",
     "text": [
      "[ 0  1  2  3  4 64 64 64  8  9]\n",
      "[ 0  1  2  3  4 12 12 12  8  9]\n",
      "[ 0  1  2  3  4 64 64 64  8  9]\n"
     ]
    }
   ],
   "source": [
    "arr_slice = arr.copy()\n",
    "print(arr_slice)\n",
    "arr_slice[5:8] = 12\n",
    "print(arr_slice)\n",
    "print(arr)"
   ]
  },
  {
   "cell_type": "code",
   "execution_count": 71,
   "id": "15e0956d-4c99-4900-b880-8bc2478ac731",
   "metadata": {},
   "outputs": [
    {
     "name": "stdout",
     "output_type": "stream",
     "text": [
      "[ 0  1  2  3  4 64 64 64  8  9]\n",
      "[[1 2 3]\n",
      " [4 5 6]\n",
      " [7 8 9]]\n",
      "[ 1  2  3  4 64]\n",
      "[4 5 6]\n",
      "5\n",
      "5\n",
      "[2 5 8]\n",
      "[[1 2 3]\n",
      " [4 5 6]]\n",
      "[[2 3]\n",
      " [5 6]]\n"
     ]
    }
   ],
   "source": [
    "arr2d = np.array([[1, 2, 3], [4, 5, 6], [7, 8, 9]])\n",
    "print(arr)\n",
    "print(arr2d)\n",
    "print(arr[1:6])\n",
    "'''\n",
    "[[1 2 3][4 5 6][7 8 9]]\n",
    "    0      1      2\n",
    "         0 1 2\n",
    " '''\n",
    "print(arr2d[1]) # [4 5 6]\n",
    "                #  0 1 2\n",
    "print(arr2d[1][1]) # 리스트\n",
    "print(arr2d[1 , 1]) # [ 행 , 열 ]\n",
    "print(arr2d[: , 1])\n",
    "print(arr2d[:2])\n",
    "print(arr2d[:2, 1:])"
   ]
  },
  {
   "cell_type": "code",
   "execution_count": 74,
   "id": "35d6da4f-b23b-4cdc-87b5-b1eab60278d0",
   "metadata": {},
   "outputs": [
    {
     "name": "stdout",
     "output_type": "stream",
     "text": [
      "[4 5]\n",
      "(2,)\n"
     ]
    }
   ],
   "source": [
    "lower_dim_slice  = arr2d[1, :2]\n",
    "print(lower_dim_slice)\n",
    "print(lower_dim_slice.shape)"
   ]
  },
  {
   "cell_type": "code",
   "execution_count": 77,
   "id": "fe6a6b18-69c5-4564-99bc-39d1f558f186",
   "metadata": {},
   "outputs": [
    {
     "name": "stdout",
     "output_type": "stream",
     "text": [
      "[[1 2 3]\n",
      " [4 5 6]\n",
      " [7 8 9]]\n",
      "[3 6]\n",
      "[[1]\n",
      " [4]\n",
      " [7]]\n"
     ]
    }
   ],
   "source": [
    "#  세 번째 열은 선택하고 처음 두 행만 선택\n",
    "print(arr2d)\n",
    "print(arr2d[:2 , 2])\n",
    "\n",
    "print(arr2d[:, :1])"
   ]
  },
  {
   "cell_type": "code",
   "execution_count": 80,
   "id": "0128fa5c-b5f5-42f9-9f5b-bfbb597f60b7",
   "metadata": {},
   "outputs": [
    {
     "name": "stdout",
     "output_type": "stream",
     "text": [
      "[[1 2 3]\n",
      " [4 5 6]\n",
      " [7 8 9]]\n"
     ]
    },
    {
     "data": {
      "text/plain": [
       "array([[1, 0, 0],\n",
       "       [4, 0, 0],\n",
       "       [7, 8, 9]])"
      ]
     },
     "execution_count": 80,
     "metadata": {},
     "output_type": "execute_result"
    }
   ],
   "source": [
    "print(arr2d)\n",
    "arr2d[:2, 1:] = 0\n",
    "arr2d"
   ]
  },
  {
   "cell_type": "code",
   "execution_count": 81,
   "id": "11c234be-dddd-4324-a3dd-fbb38190a2ff",
   "metadata": {},
   "outputs": [
    {
     "name": "stdout",
     "output_type": "stream",
     "text": [
      "['Bob' 'Joe' 'Will' 'Bob' 'Will' 'Joe' 'Joe']\n",
      "[[  4   7]\n",
      " [  0   2]\n",
      " [ -5   6]\n",
      " [  0   0]\n",
      " [  1   2]\n",
      " [-12  -4]\n",
      " [  3   4]]\n"
     ]
    }
   ],
   "source": [
    "names = np.array([\"Bob\", \"Joe\", \"Will\", \"Bob\", \"Will\", \"Joe\", \"Joe\"])\n",
    "data = np.array([[4, 7], [0, 2], [-5, 6], [0, 0], [1, 2],[-12, -4], [3, 4]])\n",
    "print(names)\n",
    "print(data)"
   ]
  },
  {
   "cell_type": "code",
   "execution_count": 82,
   "id": "225d9ea0-c518-4f9b-851f-72210b253bbc",
   "metadata": {},
   "outputs": [
    {
     "data": {
      "text/plain": [
       "array([ True, False, False,  True, False, False, False])"
      ]
     },
     "execution_count": 82,
     "metadata": {},
     "output_type": "execute_result"
    }
   ],
   "source": [
    "names == \"Bob\" # 팬시 index"
   ]
  },
  {
   "cell_type": "code",
   "execution_count": 84,
   "id": "a30898aa-e292-4841-afd0-3e169c069221",
   "metadata": {},
   "outputs": [
    {
     "name": "stdout",
     "output_type": "stream",
     "text": [
      "[[  4   7]\n",
      " [  0   2]\n",
      " [ -5   6]\n",
      " [  0   0]\n",
      " [  1   2]\n",
      " [-12  -4]\n",
      " [  3   4]]\n",
      "[[4 7]\n",
      " [0 0]]\n"
     ]
    }
   ],
   "source": [
    "print(data)\n",
    "print(data[[ True, False, False,  True, False, False, False]])\n",
    "print(data[names == \"Bob\"])"
   ]
  },
  {
   "cell_type": "code",
   "execution_count": 85,
   "id": "0dfd337b-b053-4ca6-bf27-c53d98b8e6fa",
   "metadata": {},
   "outputs": [
    {
     "name": "stdout",
     "output_type": "stream",
     "text": [
      "[[4 7]\n",
      " [0 0]]\n",
      "[[7]\n",
      " [0]]\n",
      "[7 0]\n"
     ]
    }
   ],
   "source": [
    "print(data[names == \"Bob\"])\n",
    "print(data[names == \"Bob\", 1:])\n",
    "print(data[names == \"Bob\", 1])"
   ]
  },
  {
   "cell_type": "code",
   "execution_count": 86,
   "id": "729db1ac-0458-4f2c-93db-16240fecd9fe",
   "metadata": {},
   "outputs": [
    {
     "name": "stdout",
     "output_type": "stream",
     "text": [
      "[False  True  True False  True  True  True]\n",
      "[False  True  True False  True  True  True]\n",
      "[[  0   2]\n",
      " [ -5   6]\n",
      " [  1   2]\n",
      " [-12  -4]\n",
      " [  3   4]]\n",
      "[[  0   2]\n",
      " [ -5   6]\n",
      " [  1   2]\n",
      " [-12  -4]\n",
      " [  3   4]]\n"
     ]
    }
   ],
   "source": [
    "# names == \"Bob\" [ True, False, False,  True, False, False, False]\n",
    "print(names != \"Bob\") \n",
    "print(~(names == \"Bob\"))\n",
    "print(data[~(names == \"Bob\")])\n",
    "print(data[[False,  True,  True, False,  True,  True,  True]])"
   ]
  },
  {
   "cell_type": "code",
   "execution_count": 88,
   "id": "b4c2a0d2-3f61-4ecc-b03c-a5eaa6322412",
   "metadata": {},
   "outputs": [
    {
     "name": "stdout",
     "output_type": "stream",
     "text": [
      "[False  True  True False  True  True  True]\n",
      "[[  0   2]\n",
      " [ -5   6]\n",
      " [  1   2]\n",
      " [-12  -4]\n",
      " [  3   4]]\n"
     ]
    }
   ],
   "source": [
    "cond = names == \"Bob\" # [ True, False, False,  True, False, False, False]\n",
    "cond\n",
    "print(~cond)\n",
    "print(data[~cond])"
   ]
  },
  {
   "cell_type": "code",
   "execution_count": 93,
   "id": "59fe9213-b0cb-4665-af01-ec074d6e2ec3",
   "metadata": {},
   "outputs": [
    {
     "name": "stdout",
     "output_type": "stream",
     "text": [
      "[ True False False  True False False False]\n",
      "[False False  True False  True False False]\n",
      "[ True False  True  True  True False False]\n",
      "[[ 4  7]\n",
      " [-5  6]\n",
      " [ 0  0]\n",
      " [ 1  2]]\n",
      "[[ 4  7]\n",
      " [-5  6]\n",
      " [ 0  0]\n",
      " [ 1  2]]\n"
     ]
    }
   ],
   "source": [
    "print(names == \"Bob\") \n",
    "print(names == \"Will\")\n",
    "print((names == \"Bob\") | (names == \"Will\"))\n",
    "print(data[(names == \"Bob\") | (names == \"Will\")])\n",
    "mask = (names == \"Bob\") | (names == \"Will\")\n",
    "print(data[mask])"
   ]
  },
  {
   "cell_type": "code",
   "execution_count": 96,
   "id": "e035cb62-c78f-4894-88ad-ce9b0c8de3f1",
   "metadata": {},
   "outputs": [
    {
     "name": "stdout",
     "output_type": "stream",
     "text": [
      "[[  4   7]\n",
      " [  0   2]\n",
      " [ -5   6]\n",
      " [  0   0]\n",
      " [  1   2]\n",
      " [-12  -4]\n",
      " [  3   4]]\n",
      "[[4 7]\n",
      " [0 2]\n",
      " [0 6]\n",
      " [0 0]\n",
      " [1 2]\n",
      " [0 0]\n",
      " [3 4]]\n"
     ]
    }
   ],
   "source": [
    "# 0보다 작은 값을 모두 0으로 변경\n",
    "print(data)\n",
    "data[data < 0] = 0\n",
    "print(data)"
   ]
  },
  {
   "cell_type": "code",
   "execution_count": 98,
   "id": "a92274c5-6e29-4437-9f8c-760bfe7f8042",
   "metadata": {},
   "outputs": [
    {
     "name": "stdout",
     "output_type": "stream",
     "text": [
      "[[7 7]\n",
      " [0 2]\n",
      " [7 7]\n",
      " [7 7]\n",
      " [7 7]\n",
      " [0 0]\n",
      " [3 4]]\n"
     ]
    }
   ],
   "source": [
    "# names이 \"Joe\" 아닌 팬시 index를 사용해서 data에서 팬시 index에 해당하는 값을 \n",
    "# 7로 바꾸시오\n",
    "cond = names != \"Joe\"\n",
    "data[cond] = 7\n",
    "print(data)"
   ]
  },
  {
   "cell_type": "code",
   "execution_count": 102,
   "id": "ecff4d07-f11b-4504-a0b5-4a19cefa8363",
   "metadata": {},
   "outputs": [
    {
     "name": "stdout",
     "output_type": "stream",
     "text": [
      "[[0. 0. 0. 0.]\n",
      " [0. 0. 0. 0.]\n",
      " [0. 0. 0. 0.]\n",
      " [0. 0. 0. 0.]\n",
      " [0. 0. 0. 0.]\n",
      " [0. 0. 0. 0.]\n",
      " [0. 0. 0. 0.]\n",
      " [0. 0. 0. 0.]]\n",
      "[0. 0. 0. 0.]\n",
      "[[0. 0. 0. 0.]\n",
      " [1. 1. 1. 1.]\n",
      " [0. 0. 0. 0.]\n",
      " [0. 0. 0. 0.]\n",
      " [0. 0. 0. 0.]\n",
      " [0. 0. 0. 0.]\n",
      " [0. 0. 0. 0.]\n",
      " [0. 0. 0. 0.]]\n"
     ]
    }
   ],
   "source": [
    "arr = np.zeros((8, 4))\n",
    "print(arr)\n",
    "print(arr[1])\n",
    "arr[1] = 1\n",
    "arr[2] = 2\n",
    "print(arr)"
   ]
  },
  {
   "cell_type": "code",
   "execution_count": 104,
   "id": "053d3cd8-24d9-4deb-8880-d89b1f978c16",
   "metadata": {},
   "outputs": [
    {
     "name": "stdout",
     "output_type": "stream",
     "text": [
      "[[0. 0. 0. 0.]\n",
      " [0. 0. 0. 0.]\n",
      " [0. 0. 0. 0.]\n",
      " [0. 0. 0. 0.]\n",
      " [0. 0. 0. 0.]\n",
      " [0. 0. 0. 0.]\n",
      " [0. 0. 0. 0.]\n",
      " [0. 0. 0. 0.]]\n",
      "[[0. 0. 0. 0.]\n",
      " [1. 1. 1. 1.]\n",
      " [2. 2. 2. 2.]\n",
      " [3. 3. 3. 3.]\n",
      " [4. 4. 4. 4.]\n",
      " [5. 5. 5. 5.]\n",
      " [6. 6. 6. 6.]\n",
      " [7. 7. 7. 7.]]\n"
     ]
    }
   ],
   "source": [
    "arr = np.zeros((8, 4))\n",
    "print(arr)\n",
    "for i in range(8):\n",
    "    arr[i] = i\n",
    "print(arr)"
   ]
  },
  {
   "cell_type": "code",
   "execution_count": 107,
   "id": "cf653a27-690c-4dee-a1b2-2a130239b57b",
   "metadata": {},
   "outputs": [
    {
     "name": "stdout",
     "output_type": "stream",
     "text": [
      "[[0. 0. 0. 0.]\n",
      " [1. 1. 1. 1.]\n",
      " [2. 2. 2. 2.]\n",
      " [3. 3. 3. 3.]\n",
      " [4. 4. 4. 4.]\n",
      " [5. 5. 5. 5.]\n",
      " [6. 6. 6. 6.]\n",
      " [7. 7. 7. 7.]]\n",
      "[4. 4. 4. 4.]\n",
      "[3. 3. 3. 3.]\n",
      "[0. 0. 0. 0.]\n",
      "[6. 6. 6. 6.]\n",
      "[[4. 4. 4. 4.]\n",
      " [3. 3. 3. 3.]\n",
      " [0. 0. 0. 0.]\n",
      " [6. 6. 6. 6.]]\n"
     ]
    }
   ],
   "source": [
    "print(arr)\n",
    "print(arr[4])\n",
    "print(arr[3])\n",
    "print(arr[0])\n",
    "print(arr[6])\n",
    "print(arr[[4,3,0,6]])\n",
    "print(arr[[-3, -5, -7]])"
   ]
  },
  {
   "cell_type": "code",
   "execution_count": 114,
   "id": "bf206df7-1252-4f18-83a3-c5975e40997f",
   "metadata": {},
   "outputs": [
    {
     "name": "stdout",
     "output_type": "stream",
     "text": [
      "[ 0  1  2  3  4  5  6  7  8  9 10 11 12 13 14 15 16 17 18 19 20 21 22 23\n",
      " 24 25 26 27 28 29 30 31]\n",
      "[[ 0  1  2  3]\n",
      " [ 4  5  6  7]\n",
      " [ 8  9 10 11]\n",
      " [12 13 14 15]\n",
      " [16 17 18 19]\n",
      " [20 21 22 23]\n",
      " [24 25 26 27]\n",
      " [28 29 30 31]]\n",
      "[[ 4  5  6  7]\n",
      " [20 21 22 23]\n",
      " [28 29 30 31]\n",
      " [ 8  9 10 11]]\n",
      "[ 4 23 29 10]\n"
     ]
    }
   ],
   "source": [
    "arr = np.arange(32)\n",
    "print(arr)\n",
    "arr = np.arange(32).reshape((8, 4))\n",
    "print(arr)\n",
    "print(arr[[1, 5, 7, 2]])\n",
    "print(arr[[1, 5, 7, 2],[0,3, 1,2]])"
   ]
  },
  {
   "cell_type": "code",
   "execution_count": 116,
   "id": "63bac1e4-31a4-4709-af8e-32b4367977a0",
   "metadata": {},
   "outputs": [
    {
     "name": "stdout",
     "output_type": "stream",
     "text": [
      "[[ 4  5  6  7]\n",
      " [20 21 22 23]\n",
      " [28 29 30 31]\n",
      " [ 8  9 10 11]]\n",
      "[[ 4  6  5  7]\n",
      " [20 22 21 23]\n",
      " [28 30 29 31]\n",
      " [ 8 10  9 11]]\n"
     ]
    }
   ],
   "source": [
    "print(arr[[1, 5, 7, 2]])\n",
    "print(arr[[1, 5, 7, 2]][: , [0,2,1,3]])"
   ]
  },
  {
   "cell_type": "code",
   "execution_count": 120,
   "id": "7e4fb469-b64f-4e9d-ab44-32d801206bd2",
   "metadata": {},
   "outputs": [
    {
     "name": "stdout",
     "output_type": "stream",
     "text": [
      "[[ 0  1  2  3]\n",
      " [ 4  5  6  7]\n",
      " [ 8  9 10 11]\n",
      " [12 13 14 15]\n",
      " [16 17 18 19]\n",
      " [20 21 22 23]\n",
      " [24 25 26 27]\n",
      " [28 29 30 31]]\n",
      "\n",
      "[ 4 23 29 10]\n",
      "[[ 0  1  2  3]\n",
      " [ 0  5  6  7]\n",
      " [ 8  9  0 11]\n",
      " [12 13 14 15]\n",
      " [16 17 18 19]\n",
      " [20 21 22  0]\n",
      " [24 25 26 27]\n",
      " [28  0 30 31]]\n"
     ]
    }
   ],
   "source": [
    "print(arr)\n",
    "print()\n",
    "print(arr[[1, 5, 7, 2], [0, 3, 1, 2]])\n",
    "arr[[1, 5, 7, 2], [0, 3, 1, 2]] = 0\n",
    "print(arr)"
   ]
  },
  {
   "cell_type": "code",
   "execution_count": 122,
   "id": "4af3c0b5-c5a4-4461-a3e8-9d4a1094b00e",
   "metadata": {},
   "outputs": [
    {
     "name": "stdout",
     "output_type": "stream",
     "text": [
      "[[ 0  1  2  3  4]\n",
      " [ 5  6  7  8  9]\n",
      " [10 11 12 13 14]]\n",
      "[[ 0  5 10]\n",
      " [ 1  6 11]\n",
      " [ 2  7 12]\n",
      " [ 3  8 13]\n",
      " [ 4  9 14]]\n"
     ]
    }
   ],
   "source": [
    "arr = np.arange(15).reshape((3, 5))\n",
    "print(arr)\n",
    "print(arr.T)"
   ]
  },
  {
   "cell_type": "code",
   "execution_count": 125,
   "id": "4adfd9a5-784c-4bdf-8ea9-e9f0578743c9",
   "metadata": {},
   "outputs": [
    {
     "name": "stdout",
     "output_type": "stream",
     "text": [
      "[[ 0  1  0]\n",
      " [ 1  2 -2]\n",
      " [ 6  3  2]\n",
      " [-1  0 -1]\n",
      " [ 1  0  1]]\n",
      "[[ 0  1  6 -1  1]\n",
      " [ 1  2  3  0  0]\n",
      " [ 0 -2  2 -1  1]]\n",
      "[[39 20 12]\n",
      " [20 14  2]\n",
      " [12  2 10]]\n"
     ]
    }
   ],
   "source": [
    "arr = np.array([[0, 1, 0], [1, 2, -2], [6, 3, 2], [-1, 0, -1], [1, 0, 1]])\n",
    "print(arr)\n",
    "print(arr.T)\n",
    "result = np.dot(arr.T, arr) #  내적 값\n",
    "print(result)"
   ]
  },
  {
   "cell_type": "code",
   "execution_count": 126,
   "id": "c4b8f25d-f2a2-4105-a02c-5cc1850c9cbe",
   "metadata": {},
   "outputs": [
    {
     "name": "stdout",
     "output_type": "stream",
     "text": [
      "[[39 20 12]\n",
      " [20 14  2]\n",
      " [12  2 10]]\n"
     ]
    }
   ],
   "source": [
    "result = np.dot(arr.T, arr) #  내적 값\n",
    "print(result)\n",
    "result = arr.T @ arr #  내적 값\n",
    "print(result)"
   ]
  },
  {
   "cell_type": "code",
   "execution_count": 127,
   "id": "691c2416-be5c-4b7d-8c4b-f2041e6116b1",
   "metadata": {},
   "outputs": [
    {
     "name": "stdout",
     "output_type": "stream",
     "text": [
      "[[ 0  1  6 -1  1]\n",
      " [ 1  2  3  0  0]\n",
      " [ 0 -2  2 -1  1]]\n",
      "[[ 0  1  6 -1  1]\n",
      " [ 1  2  3  0  0]\n",
      " [ 0 -2  2 -1  1]]\n"
     ]
    }
   ],
   "source": [
    "result = arr.T\n",
    "print(result)\n",
    "result = arr.swapaxes(0, 1)\n",
    "print(result)"
   ]
  }
 ],
 "metadata": {
  "kernelspec": {
   "display_name": "Python 3 (ipykernel)",
   "language": "python",
   "name": "python3"
  },
  "language_info": {
   "codemirror_mode": {
    "name": "ipython",
    "version": 3
   },
   "file_extension": ".py",
   "mimetype": "text/x-python",
   "name": "python",
   "nbconvert_exporter": "python",
   "pygments_lexer": "ipython3",
   "version": "3.13.5"
  }
 },
 "nbformat": 4,
 "nbformat_minor": 5
}
