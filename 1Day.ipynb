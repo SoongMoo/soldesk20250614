{
 "cells": [
  {
   "cell_type": "code",
   "execution_count": 1,
   "id": "9bcba552-8437-4f44-9a6d-3d59a8c9c088",
   "metadata": {},
   "outputs": [
    {
     "name": "stdout",
     "output_type": "stream",
     "text": [
      "13\n"
     ]
    }
   ],
   "source": [
    "print(10 + 3)"
   ]
  },
  {
   "cell_type": "code",
   "execution_count": 2,
   "id": "d48ec3fe-255b-4e40-a160-b69afecfaa36",
   "metadata": {},
   "outputs": [
    {
     "name": "stdout",
     "output_type": "stream",
     "text": [
      "8\n",
      "15\n"
     ]
    }
   ],
   "source": [
    "# 파이썬은 행단위 언어이다.\n",
    "print( 3 + 5)\n",
    "print( 10 + 5)"
   ]
  },
  {
   "cell_type": "code",
   "execution_count": 3,
   "id": "74fff639-70bf-4fed-beab-5f2928846b2c",
   "metadata": {},
   "outputs": [
    {
     "name": "stdout",
     "output_type": "stream",
     "text": [
      "8\n",
      "15\n"
     ]
    }
   ],
   "source": [
    "print( 3 + 5); print( 10 + 5)"
   ]
  },
  {
   "cell_type": "code",
   "execution_count": 14,
   "id": "deb18578-30ed-4ec2-a53d-22f9897d251a",
   "metadata": {},
   "outputs": [
    {
     "name": "stdout",
     "output_type": "stream",
     "text": [
      "15\n",
      "10\n",
      "30\n",
      "40\n",
      "-20\n",
      "300\n",
      "0.3333333333333333\n",
      "40.5\n",
      "40.7\n",
      "1\n",
      "3\n",
      "1000\n"
     ]
    }
   ],
   "source": [
    "# 리터널 : 자연수 :  숫자 : 정수 : 10 : 정수리터널\n",
    "#                   실수 : 10.5      : 실수 리터널\n",
    "#         자연어 : 문자형 : 한국어, 일본어, 영어  : 문자 리터널\n",
    "\n",
    "# 숫자 리터널 : 정수 리터널, 실수 리터널\n",
    "print(10 + 5)\n",
    "a = 10\n",
    "print(a)\n",
    "a\n",
    "# 변수란 값을 저장하기 위해서 사용하는 오직 하나의 값만 저장 한다.\n",
    "b = 20\n",
    "# 숫자리터널의 연산자 : 사직연산자\n",
    "print( a + b) # 10 + 20  = 30\n",
    "b = 30\n",
    "print( a + b) # 10 + 30 = 40\n",
    "print( a - b) \n",
    "print( a * b) \n",
    "print( a / b) \n",
    "a = 10.5\n",
    "print( a + b )\n",
    "b = 30.2\n",
    "print( a + b )\n",
    "# 나머지 연산자\n",
    "a = 10\n",
    "b = 3\n",
    "print( a % b ) # % : 나머지 연산자\n",
    "print( a // b ) # // : 몫연산자\n",
    "print( a ** b ) # ** : 제곱승\n",
    "# 숫자 연산자는 +, -, *, /, %, //, **"
   ]
  },
  {
   "cell_type": "code",
   "execution_count": 19,
   "id": "0bfb3876-e717-49af-b3a2-04189f3d4085",
   "metadata": {},
   "outputs": [
    {
     "name": "stdout",
     "output_type": "stream",
     "text": [
      "10\n",
      "10\n",
      "이숭무\n"
     ]
    }
   ],
   "source": [
    "a = 10\n",
    "c = a\n",
    "print(c)\n",
    "이숭무 = a;\n",
    "print(이숭무)\n",
    "b = \"이숭무\"\n",
    "print(b)\n"
   ]
  },
  {
   "cell_type": "code",
   "execution_count": 21,
   "id": "e7a696bd-6ea7-4b08-b168-0faccfb6ed9a",
   "metadata": {},
   "outputs": [
    {
     "name": "stdout",
     "output_type": "stream",
     "text": [
      "Life is too short You need Python\n",
      "Life is too short You need Python\n",
      "Life is too short You need Python\n",
      "Life is too short You need Python\n"
     ]
    }
   ],
   "source": [
    "str1 = \"Life is too short You need Python\"\n",
    "print(str1)\n",
    "str1 = 'Life is too short You need Python'\n",
    "print(str1)\n",
    "str1 = \"\"\"Life is too short You need Python\"\"\"\n",
    "print(str1)\n",
    "str1 = '''Life is too short You need Python'''\n",
    "print(str1)"
   ]
  },
  {
   "cell_type": "code",
   "execution_count": 22,
   "id": "494d979f-ec3d-4a37-b370-fc6d35659ea8",
   "metadata": {},
   "outputs": [
    {
     "name": "stdout",
     "output_type": "stream",
     "text": [
      "Life's too short You need Python\n",
      "\"Life is too short\" You need Python\n"
     ]
    }
   ],
   "source": [
    "str1 = \"Life's too short You need Python\"\n",
    "print(str1)\n",
    "str1 = '\"Life is too short\" You need Python'\n",
    "print(str1)"
   ]
  },
  {
   "cell_type": "code",
   "execution_count": 26,
   "id": "746ab6a7-716c-4c18-aee5-727c866823aa",
   "metadata": {},
   "outputs": [
    {
     "name": "stdout",
     "output_type": "stream",
     "text": [
      "Life's too short \n",
      " You need Python\n",
      "Life's too short \t You need Python\n"
     ]
    }
   ],
   "source": [
    "str1 = \"Life's too short \\n You need Python\"\n",
    "print(str1)\n",
    "str1 = \"Life's too short \\t You need Python\"\n",
    "print(str1)"
   ]
  },
  {
   "cell_type": "code",
   "execution_count": 30,
   "id": "88a8d59d-a5e6-45b3-a702-18caad81093b",
   "metadata": {},
   "outputs": [
    {
     "name": "stdout",
     "output_type": "stream",
     "text": [
      "Life's too short \n",
      "You need Python\n",
      "Life's too short \n",
      "You need Python\n"
     ]
    }
   ],
   "source": [
    "str1 = \"\"\"Life's too short \n",
    "You need Python\"\"\"\n",
    "print(str1)\n",
    "str1 = '''Life's too short \n",
    "You need Python'''\n",
    "print(str1)"
   ]
  },
  {
   "cell_type": "code",
   "execution_count": 36,
   "id": "a6fbaf14-00e5-4c50-bcd8-1a88c717c4dc",
   "metadata": {},
   "outputs": [
    {
     "name": "stdout",
     "output_type": "stream",
     "text": [
      "python is fun\n",
      "30\n",
      "python is fun\n",
      "30\n",
      "pythonpythonpython\n",
      "============================================================\n",
      "제목\n",
      "============================================================\n"
     ]
    }
   ],
   "source": [
    "head = 'python'\n",
    "tail = ' is fun'\n",
    "print( 'python is fun' )\n",
    "a = 10\n",
    "b = 20\n",
    "print(a + b) # 숫자 리터널 : 덧셈\n",
    "print(head + tail) # 문자 리터널 : + :  연결 연산자\n",
    "print( a * 3 ) # 숫자 리터널 : 곱셈\n",
    "print(head * 3) # 문자리터널 : 반복연산자\n",
    "# 문자리터널의 연산자 : *, +\n",
    "print(\"==\" * 30)\n",
    "print(\"제목\")\n",
    "print(\"==\" * 30)"
   ]
  },
  {
   "cell_type": "code",
   "execution_count": 50,
   "id": "9b6d50d4-acd1-4395-bacf-cbe29b0b5337",
   "metadata": {},
   "outputs": [
    {
     "name": "stdout",
     "output_type": "stream",
     "text": [
      "10이숭무\n",
      "1010\n",
      "20\n"
     ]
    }
   ],
   "source": [
    "#print( 10 + \"이숭무\" ) # unsupported operand type(s) for +: 'int' and 'str'\n",
    "print( str(10) + \"이숭무\" )\n",
    "# print( 10 + \"10\")# unsupported operand type(s) for +: 'int' and 'str'\n",
    "print( str(10) + \"10\")\n",
    "print( 10 + int(\"10\"))"
   ]
  },
  {
   "cell_type": "code",
   "execution_count": 56,
   "id": "b8fca3ec-8cf5-4037-bbc9-0e6124a4e8dc",
   "metadata": {},
   "outputs": [
    {
     "name": "stdout",
     "output_type": "stream",
     "text": [
      "Life is too short You need Python\n",
      "t\n",
      "L\n",
      "L\n",
      "L\n",
      "33\n",
      "L\n"
     ]
    }
   ],
   "source": [
    "# indexing\n",
    "str1 = \"Life is too short You need Python\"\n",
    "#                 1         2         3\n",
    "#       012345678901234567890123456789012 +  : index\n",
    "#          3         2         1\n",
    "#       321098765432109876543210987654321 -\n",
    "print(str1)\n",
    "print(str1[8])\n",
    "print(str1[0])\n",
    "print(str1[-33])\n",
    "print(\"Life is too short You need Python\"[0])\n",
    "print(len(str1)) # 33\n",
    "print(str1[-len(str1)])"
   ]
  },
  {
   "cell_type": "code",
   "execution_count": 59,
   "id": "f579c80c-86a9-4286-9e08-85b6127748c9",
   "metadata": {},
   "outputs": [
    {
     "name": "stdout",
     "output_type": "stream",
     "text": [
      "L\n",
      "i\n",
      "f\n",
      "e\n",
      "Life\n",
      "Life\n",
      "is too\n"
     ]
    }
   ],
   "source": [
    "#slicing \n",
    "str1 = \"Life is too short You need Python\"\n",
    "#       012345678901\n",
    "print(str1[0])\n",
    "print(str1[1])\n",
    "print(str1[2])\n",
    "print(str1[3])\n",
    "print(str1[0]+str1[1]+str1[2]+str1[3])\n",
    "print(str1[0: 0 + 4]) \n",
    "print(str1[0 : 4]) # 0부터 4전까지 가져오시오, start=0, end = 4, stap =1\n",
    "print(str1[5: 5 + 6])\n",
    "print(str1[5:11]) # 5부터 11전까지,  start=5, end = 11, step =1 \n",
    "print(str1[5:11:2]) # 5부터 11전까지,  start=5, end = 11, step =2"
   ]
  },
  {
   "cell_type": "code",
   "execution_count": 68,
   "id": "3909de1c-b885-406a-b789-00f10471ef30",
   "metadata": {},
   "outputs": [
    {
     "name": "stdout",
     "output_type": "stream",
     "text": [
      "You need Python\n",
      "You need Python\n",
      "33\n",
      "You need Python\n",
      "You need Python\n",
      "Life is too\n",
      "Life is too\n",
      "Life is too short You need Python\n"
     ]
    }
   ],
   "source": [
    "str1 = \"Life is too short You need Python\"\n",
    "#                 1         2         3\n",
    "#       012345678901234567890123456789012 +  : index\n",
    "print(str1[18:18+16])\n",
    "print(str1[18:33])\n",
    "print(len(str1))\n",
    "print(str1[18:len(str1)])\n",
    "print(str1[18:])\n",
    "print(str1[0 : 11])\n",
    "print(str1[: 11])\n",
    "print(str1[:])"
   ]
  },
  {
   "cell_type": "code",
   "execution_count": null,
   "id": "4dcfa67d-e7da-4100-a57e-f9c9ea4ff43a",
   "metadata": {},
   "outputs": [],
   "source": [
    "# 날짜(년,월,일)와 이름을 분리하여 출력\n",
    "a = \"20010331Rainy\"\n",
    "'''\n",
    "2001년\n",
    "03월\n",
    "31일\n",
    "이름은 Rainy\n",
    "'''\n",
    "print(a[:4] + '년')\n",
    "print(a[4:4+2] + \"월\")\n",
    "print(a[6:6 + 2] + \"일\")\n",
    "print(\"이름은 \" + a[8:])"
   ]
  },
  {
   "cell_type": "code",
   "execution_count": 72,
   "id": "681e0d4e-3ced-454b-9798-3941338e4239",
   "metadata": {},
   "outputs": [
    {
     "name": "stdout",
     "output_type": "stream",
     "text": [
      "Life is too short\n",
      "Life is too short\n",
      "Lf stosot\n",
      "trohs oot si efiL\n",
      "fe is too sh\n",
      "hs oot si efi\n"
     ]
    }
   ],
   "source": [
    "str1 = \"Life is too short\"\n",
    "print(str1)\n",
    "print(str1[:])\n",
    "# step 2\n",
    "print(str1[::2])\n",
    "#reverse\n",
    "print(str1[::-1])\n",
    "# 2번부터 13번까지 출력\n",
    "print(str1[2:14])\n",
    "#reverse # 13부터 1번까지\n",
    "print(str1[13:0:-1])\n",
    "#reverse # 13부터 1번까지 두 글자 건너서\n",
    "print(str1[13:0:-3])\n",
    "# 1부터 13까지 두 글자 건너서\n",
    "print(str1[1:14:3])"
   ]
  },
  {
   "cell_type": "code",
   "execution_count": 76,
   "id": "843d6a9a-60cf-43ac-bf9d-4c4780f2cc03",
   "metadata": {},
   "outputs": [
    {
     "name": "stdout",
     "output_type": "stream",
     "text": [
      "이숭무의 나이는 35살입니다.\n",
      "이숭무의 나이는 35살입니다.\n",
      "이숭무의 나이는 35살입니다.\n",
      "이숭무의 나이는 35살입니다.\n"
     ]
    }
   ],
   "source": [
    "#포매팅\n",
    "#포맷문자를 이용한 포맷팅\n",
    "#포맷문자 : %s:string, %d:decimal, %f:float, %c:charecter\n",
    "name = \"이숭무\"\n",
    "age = 35\n",
    "print(\"이숭무의 나이는 35살입니다.\")\n",
    "print(\"%s의 나이는 %d살입니다.\" % (name, age) )\n",
    "print(\"이숭무의 나이는 %d살입니다.\" %(age))\n",
    "print(\"이숭무의 나이는 %d살입니다.\" % age)"
   ]
  },
  {
   "cell_type": "code",
   "execution_count": 83,
   "id": "5b0418b6-87db-461e-a5d2-d9b2506213f2",
   "metadata": {},
   "outputs": [
    {
     "name": "stdout",
     "output_type": "stream",
     "text": [
      "hi\n",
      "        hi\n",
      "hi이숭무\n",
      "hi        이숭무\n"
     ]
    }
   ],
   "source": [
    "print(\"%s\" % \"hi\")\n",
    "print(\"%10s\" % \"hi\")\n",
    "print(\"%s이숭무\" % \"hi\")\n",
    "print(\"%-10s이숭무\" % \"hi\")\n",
    "# 정렬 : -는 왼쪽정렬, +는 오른쪽 정렬"
   ]
  },
  {
   "cell_type": "code",
   "execution_count": 88,
   "id": "7205af2e-32d3-4769-881d-841276938c44",
   "metadata": {},
   "outputs": [
    {
     "name": "stdout",
     "output_type": "stream",
     "text": [
      "3.141592\n",
      "3.141592\n",
      "  3.141592\n",
      "3.141592  이숭무\n"
     ]
    }
   ],
   "source": [
    "print(3.141592)\n",
    "print(\"%f\" % 3.141592)\n",
    "print(\"%10f\" % 3.141592)\n",
    "print(\"%-10f이숭무\" % 3.141592)"
   ]
  },
  {
   "cell_type": "code",
   "execution_count": 96,
   "id": "f5559508-e238-454d-ab09-afc70ecd7130",
   "metadata": {},
   "outputs": [
    {
     "name": "stdout",
     "output_type": "stream",
     "text": [
      "이숭무의 나이는 20살이고 키는 175.300000입니다\n",
      "이숭무의 나이는 20살이고 키는 175.3입니다\n",
      "이숭무의 나이는 20살이고 키는 175.3입니다\n",
      "이숭무의 나이는 20살이고 키는 175.3입니다\n",
      "이숭무의 나이는 20살이고 키는      175.3입니다\n",
      "이숭무의 나이는 20살이고 키는 175.3     입니다\n",
      "이숭무의 나이는 20살이고 키는 175.3입니다\n"
     ]
    }
   ],
   "source": [
    "\"이숭무의 나이는 20살이고 키는 175.3입니다\"\n",
    "name = '이숭무'\n",
    "age = 20\n",
    "height = 175.3\n",
    "print(\"%s의 나이는 %d살이고 키는 %f입니다\" % (name,age, height))\n",
    "print(\"%s의 나이는 %d살이고 키는 %5.1f입니다\" % (name,age, height))\n",
    "print(\"%s의 나이는 %d살이고 키는 %3.1f입니다\" % (name,age, height))\n",
    "print(\"%s의 나이는 %d살이고 키는 %.1f입니다\" % (name,age, height))\n",
    "print(\"%s의 나이는 %d살이고 키는 %10.1f입니다\" % (name,age, height))\n",
    "print(\"%s의 나이는 %d살이고 키는 %-10.1f입니다\" % (name,age, height))\n",
    "print(\"%s의 나이는 %s살이고 키는 %s입니다\" % (name,age, height))"
   ]
  },
  {
   "cell_type": "code",
   "execution_count": 97,
   "id": "b91685bd-7b2f-45db-871c-b26691217fad",
   "metadata": {},
   "outputs": [
    {
     "name": "stdout",
     "output_type": "stream",
     "text": [
      "이숭무의 나이는 20살이고 키는 175.3입니다\n"
     ]
    }
   ],
   "source": [
    "# format함수를 이용한 포맷팅\n",
    "# \"a\" : 문자열, a : 변수 , a() : 함수 ==> str(), print(), format()\n",
    "\"이숭무의 나이는 20살이고 키는 175.3입니다\"\n",
    "name = '이숭무'\n",
    "age = 20\n",
    "height = 175.3\n",
    "print(\"{0}의 나이는 {1}살이고 키는 {2}입니다\".format(name,age,height))\n",
    "#                                                   0    1    2\n",
    "print(\"{1}의 나이는 {0}살이고 키는 {2}입니다\".format(age,name,height))\n",
    "print(\"{1}의 나이는 {0}살이고 키는 {2}입니다\".format(age,'이숭무',height))"
   ]
  },
  {
   "cell_type": "code",
   "execution_count": 102,
   "id": "688ad547-e62e-4dd2-b2e0-d19e32cc5926",
   "metadata": {},
   "outputs": [
    {
     "name": "stdout",
     "output_type": "stream",
     "text": [
      "이숭무의 나이는 20살이고 키는 175.3입니다\n",
      "이숭무의 나이는 20살이고 키는 175.3입니다\n"
     ]
    }
   ],
   "source": [
    "# format함수에 이름으로 넣기\n",
    "print(\"{1}의 나이는 {0}살이고 키는 {h}입니다\".format(age,'이숭무',h = height))\n",
    "print(\"{n}의 나이는 {0}살이고 키는 {h}입니다\".format(age,n = '이숭무',h = height))\n",
    "# 이름을 사용할 경우에는 뒤에서부터 붙여주는 것이 좋다. 중간에만 있으면 안됨.\n",
    "#print(\"{n}의 나이는 {0}살이고 키는 {2}입니다\".format(age, n = '이숭무', height))"
   ]
  },
  {
   "cell_type": "code",
   "execution_count": 115,
   "id": "84943f97-1745-4a17-b164-b671b9501ea8",
   "metadata": {},
   "outputs": [
    {
     "name": "stdout",
     "output_type": "stream",
     "text": [
      "이숭무       의 나이는         20살이고 키는      175.3입니다\n",
      "       이숭무의 나이는     20    살이고 키는 175.3     입니다\n",
      "-------이숭무의 나이는 ****20****살이고 키는 175.3@@@@@입니다\n",
      "-------이숭무의 나이는 ****20****살이고 키는       3.14입니다\n",
      "-------이숭무의 {나이}는 ****20****살이고 키는       3.14입니다\n"
     ]
    }
   ],
   "source": [
    "print(\"{1:10}의 나이는 {0:10}살이고 키는 {h:10}입니다\".format(age,'이숭무',h = height))\n",
    "print(\"{1:>10}의 나이는 {0:^10}살이고 키는 {h:<10}입니다\".format(age,'이숭무',h = height))\n",
    "print(\"{1:->10}의 나이는 {0:*^10}살이고 키는 {h:@<10}입니다\".format(age,'이숭무',h = height))\n",
    "\n",
    "###                                         소주점 출력\n",
    "print(\"{1:->10}의 나이는 {0:*^10}살이고 키는 {h:10.2f}입니다\".format(age,'이숭무',h=3.1415))\n",
    "#{나이}가 있는 문자열 출력\n",
    "print(\"{1:->10}의 {{나이}}는 {0:*^10}살이고 키는 {h:10.2f}입니다\".format(age,'이숭무',h=3.1415))"
   ]
  },
  {
   "cell_type": "code",
   "execution_count": 122,
   "id": "2d3ad6ff-911c-4e24-9067-b86e8ab5f3b1",
   "metadata": {},
   "outputs": [
    {
     "name": "stdout",
     "output_type": "stream",
     "text": [
      "이숭무의 나이는 20살이고 키는 175.3입니다\n",
      "이숭무       의 나이는         20살이고 키는      175.3입니다\n",
      "       이숭무의 나이는 20        살이고 키는   175.3   입니다\n",
      "*******이숭무의 나이는 20@@@@@@@@살이고 키는 $$175.3$$$입니다\n",
      "*******이숭무의 나이는 20@@@@@@@@살이고 키는 $175.3000$입니다\n",
      "*******이숭무의 나이는 30@@@@@@@@살이고 키는 $175.3000$입니다\n"
     ]
    }
   ],
   "source": [
    "#f 문자 포매팅\n",
    "name = '이숭무'\n",
    "age = 20\n",
    "height = 175.3\n",
    "print(f\"{name}의 나이는 {age}살이고 키는 {height}입니다\")\n",
    "print(f\"{name:10}의 나이는 {age:10}살이고 키는 {height:10}입니다\")\n",
    "print(f\"{name:>10}의 나이는 {age:<10}살이고 키는 {height:^10}입니다\")\n",
    "print(f\"{name:*>10}의 나이는 {age:@<10}살이고 키는 {height:$^10}입니다\")\n",
    "print(f\"{name:*>10}의 나이는 {age:@<10}살이고 키는 {height:$^10.4f}입니다\")\n",
    "print(f\"{name:*>10}의 나이는 {age+10:@<10}살이고 키는 {height:$^10.4f}입니다\")"
   ]
  },
  {
   "cell_type": "code",
   "execution_count": null,
   "id": "3b97b073-f232-4bbd-99bd-daada9110628",
   "metadata": {},
   "outputs": [],
   "source": [
    "#포맷팅\n",
    "#1. 포맷문자를 이요한 포맷팅\n",
    "#2. format()함수를 이용한 포맷팅\n",
    "#3. f문자를 이용한 포맷팅"
   ]
  },
  {
   "cell_type": "code",
   "execution_count": 129,
   "id": "1624a9b0-dd1b-45a5-b65f-21059ba9c37e",
   "metadata": {},
   "outputs": [
    {
     "name": "stdout",
     "output_type": "stream",
     "text": [
      "17\n",
      "3\n",
      "3\n",
      "1\n",
      "5\n",
      "5\n",
      "5\n",
      "8\n",
      "too\n"
     ]
    }
   ],
   "source": [
    "# 문자열 가공 : 문자열 함수\n",
    "str1 = \"Life is too short\"\n",
    "# 문자열의 크기\n",
    "print(len(str1))\n",
    "# 특정문자의 갯수 : str1에 있는 문자열에서 o가 몇개 있나요\n",
    "print(str1.count('o'))\n",
    "print(\"Life is too short\".count('o'))\n",
    "# 특정 문자의 고유번호 : index\n",
    "print(str1.index('i')) # 맨 처음 만나는 문자의 index : 1\n",
    "print(str1.rindex('i')) # 뒤에서 부터\n",
    "print(str1.index('i', 1 + 1))\n",
    "print(str1.index('i', str1.index('i') + 1))\n",
    "# str1에 문자열에서 too를 출력\n",
    "print(str1.index('too')) # 8\n",
    "print(str1[8: 8+3])\n",
    "print(str1[str1.index('too'): str1.index('too')+3])\n",
    "word = \"too\"\n",
    "lenth = len(word) # 3\n",
    "print(str1[str1.index('too'): str1.index('too') + lenth])"
   ]
  },
  {
   "cell_type": "code",
   "execution_count": 132,
   "id": "0148842d-0442-4ae6-affb-b8c19bf98589",
   "metadata": {},
   "outputs": [
    {
     "name": "stdout",
     "output_type": "stream",
     "text": [
      "1\n",
      "5\n",
      "-1\n"
     ]
    }
   ],
   "source": [
    "print(str1.find('i')) # 맨 처음 만나는 문자의 index : 1\n",
    "print(str1.rfind('i')) # 뒤에서 부터\n",
    "# print(str1.index('z')) # 없는 문자열의 index는 오류가 발생\n",
    "print(str1.find('z')) # 없으면 -1"
   ]
  },
  {
   "cell_type": "code",
   "execution_count": 135,
   "id": "46d19334-d29b-466c-a516-e04c3e50540a",
   "metadata": {},
   "outputs": [
    {
     "name": "stdout",
     "output_type": "stream",
     "text": [
      "LIFE IS TOO SHORT\n",
      "Life is too short\n",
      "life is too short\n",
      "Life is too short\n"
     ]
    }
   ],
   "source": [
    "#  모두 대문자 변경\n",
    "str1 = \"Life is too short\"\n",
    "result = str1.upper()\n",
    "print(result)\n",
    "print(str1)\n",
    "#  모두 소문자\n",
    "result = str1.lower()\n",
    "print(result)\n",
    "print(str1)"
   ]
  },
  {
   "cell_type": "code",
   "execution_count": 143,
   "id": "81874a2f-ef03-4fcb-a7bd-89cb7c9b3183",
   "metadata": {},
   "outputs": [
    {
     "name": "stdout",
     "output_type": "stream",
     "text": [
      "    highland0    이숭무\n",
      "highland0이숭무\n",
      "    highland0이숭무\n",
      "highland0    이숭무\n",
      "high land0이숭무\n",
      "abhighland0ab\n",
      "highland0\n",
      "highland0\n"
     ]
    }
   ],
   "source": [
    "str1 = \"    highland0    \"\n",
    "#양옆의 공백문자를 지우기\n",
    "print(str1 + \"이숭무\")\n",
    "print(str1.strip() + \"이숭무\")\n",
    "print(str1.rstrip() + \"이숭무\")\n",
    "print(str1.lstrip() + \"이숭무\")\n",
    "\n",
    "str1 = \"    high land0    \"\n",
    "print(str1.strip() + \"이숭무\") # 가운데 공백문자는 데이터로 인식\n",
    "str1 = \"abhighland0ab\"\n",
    "print(str1)\n",
    "print(str1.strip(\"ab\"))\n",
    "\n",
    "str1 = \"ab  highland0  ab\"\n",
    "print(str1.strip(\"ab\").strip())"
   ]
  },
  {
   "cell_type": "code",
   "execution_count": 149,
   "id": "ec008213-df74-412e-a76f-b7dd993a9fb7",
   "metadata": {},
   "outputs": [
    {
     "name": "stdout",
     "output_type": "stream",
     "text": [
      "abhighland0ab\n",
      "ab  highland0  ab\n",
      "python\n",
      "Your leg is too short\n"
     ]
    }
   ],
   "source": [
    "str1 = \"ab  highland0  ab\"\n",
    "result = str1.replace(\" \", \"\")\n",
    "print(result)\n",
    "print(str1)\n",
    "str1 = 'pithon'\n",
    "result = str1.replace('i','y')\n",
    "print(result)\n",
    "str1 = \"Life is too short\"\n",
    "result = str1.replace('Life', 'Your leg')\n",
    "print(result)"
   ]
  },
  {
   "cell_type": "code",
   "execution_count": 153,
   "id": "5369a6b9-0ef5-4c45-8d0b-c7478d481a05",
   "metadata": {},
   "outputs": [
    {
     "name": "stdout",
     "output_type": "stream",
     "text": [
      "Life is too short\n",
      "['Life', 'is', 'too', 'short']\n",
      "['Life', 'is', 'too', 'short']\n"
     ]
    }
   ],
   "source": [
    "# 쪼개기\n",
    "str1 = \"Life is too short\"\n",
    "print(str1)\n",
    "result = str1.split() # 구분자 : 공백문자\n",
    "print(result)\n",
    "str1 = \"Life:is:too:short\"\n",
    "result = str1.split(\":\") # 구분자 : :\n",
    "print(result)"
   ]
  },
  {
   "cell_type": "code",
   "execution_count": 157,
   "id": "a3fba3f5-8aa5-4d50-856b-ba9fd598117d",
   "metadata": {},
   "outputs": [
    {
     "name": "stdout",
     "output_type": "stream",
     "text": [
      "['Life', 'is', 'too', 'short']\n"
     ]
    }
   ],
   "source": [
    "str1 = \"Life:is-too/short\"\n",
    "import re\n",
    "result = re.split('[:/-]',str1) # split을 하면 리스트로 전달해 준다.\n",
    "print(result)\n",
    "# ['Life', 'is', 'too', 'short'] : 리스트"
   ]
  },
  {
   "cell_type": "code",
   "execution_count": 158,
   "id": "a115f921-35bf-42cc-be8e-46a786608274",
   "metadata": {},
   "outputs": [
    {
     "name": "stdout",
     "output_type": "stream",
     "text": [
      "['Life', 'is', 'too', 'short']\n"
     ]
    }
   ],
   "source": [
    "# 리터널 : 자연수 : 숫자 : 정수 : 10  , 실수 : 10.5\n",
    "#         자연어 : 문자열 : 한글 영어 : \"a\", 'a', '''a''', \"\"\"a\"\"\"\n",
    "# 리스트 : [] : 여러개의 데이터를 저장하는  \n",
    "l = ['Life', 'is', 'too', 'short']\n",
    "print(l)"
   ]
  },
  {
   "cell_type": "code",
   "execution_count": 159,
   "id": "0d28b02d-0010-4036-b1eb-5eb9ad8ceeb0",
   "metadata": {},
   "outputs": [
    {
     "name": "stdout",
     "output_type": "stream",
     "text": [
      "[]\n"
     ]
    }
   ],
   "source": [
    "l2 = [] # 빈 리스트\n",
    "l3 = [1, 2, 3, 4, 5] # 정수형 리스트\n",
    "l4 = [10.5, 2.5, 12.3] # 실수형 리스트\n",
    "l5 = ['이숭무', 'apple' ] #문자열 리스트\n",
    "l6 = [1,2,3, '이숭무', 2.4, 6.7] # 혼홥형 리스트\n",
    "l7 = [ [1,2,3] , [4,5,6] ] # 리스트를 포함한 리스트\n",
    "l8 = [ 7,8,9, [1,2,3] ,'이숭무', [4,5,6] ] # 리스트를 포함한 혼합형 리스트"
   ]
  },
  {
   "cell_type": "code",
   "execution_count": 162,
   "id": "9b748370-6408-4384-b8e7-d59059562e24",
   "metadata": {},
   "outputs": [
    {
     "name": "stdout",
     "output_type": "stream",
     "text": [
      "1\n",
      "2\n",
      "3\n",
      "1\n",
      "2\n",
      "3\n"
     ]
    }
   ],
   "source": [
    "str1 = \"Life is too short\"\n",
    "#       0123456789... index\n",
    "l = ['Life', 'is', 'too', 'short']\n",
    "#      0      1      2      3 :index\n",
    "l = [1, 2, 3, 4]\n",
    "#    0  1  2  3\n",
    "#    4  3  2  1 -\n",
    "print(l[0]) # 정수 \n",
    "print(l[1]) # 정수\n",
    "print(l[0] + l[1] ) # 정수 + 정수 = 1 + 2\n",
    "# 리스트에서 indexing을 요소의 자료형으로 반환된다.\n",
    "print(l[-4])\n",
    "print(l[-3])\n",
    "print(l[-4] + l[1] ) "
   ]
  },
  {
   "cell_type": "code",
   "execution_count": 166,
   "id": "c0045cda-9488-4c85-b27c-e3a76984b10c",
   "metadata": {},
   "outputs": [
    {
     "name": "stdout",
     "output_type": "stream",
     "text": [
      "Life\n",
      "10\n",
      "Life10\n",
      "LifeLifeLifeLifeLifeLifeLifeLifeLifeLife\n"
     ]
    }
   ],
   "source": [
    "l = ['Life', 'is', 'too', 'short', 10, 20, 30]\n",
    "#      0      1      2      3       4    5   6\n",
    "print(l[0]) # 문자열 리터널\n",
    "print(l[4]) # 정수 리터널\n",
    "# print(l[0] + l[4]) # 문자열 + 정수\n",
    "print(l[0] + str(l[4]))\n",
    "print(l[0] * l[4]) # 문자열 * 정수"
   ]
  },
  {
   "cell_type": "code",
   "execution_count": 168,
   "id": "f4a55746-b73e-4a9b-8270-f976981ca980",
   "metadata": {},
   "outputs": [
    {
     "name": "stdout",
     "output_type": "stream",
     "text": [
      "['a', 'b', 'c']\n",
      "a\n"
     ]
    }
   ],
   "source": [
    "#리스트를 포함한 리스트\n",
    "a = [1, 2, 3, ['a', 'b', 'c']]\n",
    "#    0  1  2         3\n",
    "#               0    1    2\n",
    "#    4  3  2         1 -\n",
    "print(a[3]) # ['a', 'b', 'c']\n",
    "#               0    1    2\n",
    "print(a[3][0])\n",
    "print(a[-1][0])"
   ]
  },
  {
   "cell_type": "code",
   "execution_count": null,
   "id": "883dee6e-c001-4d3c-81e6-4811d6e51193",
   "metadata": {},
   "outputs": [],
   "source": [
    "a = [1, 2, 3, 4, ['a', 'Life', 'c']]\n",
    "#    0  1  2  3            4\n",
    "#                  0      1     2 \n",
    "#                       0123\n",
    "#'i'만 출력하시오.\n",
    "print(a[4]) # ['a', 'Life', 'c']\n",
    "print(a[4][1]) # Life\n",
    "print(a[4][1][1])"
   ]
  },
  {
   "cell_type": "code",
   "execution_count": 174,
   "id": "471b3032-bfdf-4cb1-a631-1ee780a4a643",
   "metadata": {},
   "outputs": [
    {
     "name": "stdout",
     "output_type": "stream",
     "text": [
      "[1, 2, 3, 4, 5]\n",
      "[1, 2]\n",
      "[1, 2]\n",
      "[3, 4, 5]\n",
      "[3, 4, 5]\n",
      "[1, 2, 3, 4, 5]\n",
      "[1, 3, 5]\n"
     ]
    }
   ],
   "source": [
    "# slicing\n",
    "a = [1,2,3,4,5]\n",
    "#    0 1 2 3 4\n",
    "print(a)\n",
    "print(a[0:0+2])\n",
    "print(a[:2])\n",
    "print(a[2:5])\n",
    "print(a[2:])\n",
    "print(a[:])\n",
    "print(a[::2])"
   ]
  },
  {
   "cell_type": "code",
   "execution_count": 183,
   "id": "5e7926aa-a7a8-49d8-a655-394dec97daa4",
   "metadata": {},
   "outputs": [
    {
     "name": "stdout",
     "output_type": "stream",
     "text": [
      "1\n",
      "[1]\n"
     ]
    }
   ],
   "source": [
    "a = [1,2,3,4]\n",
    "print(a[0]) # 정수 리터널 : indexing은 요소가 가진 자료형으로 가져온다.\n",
    "print(a[0:1]) # 리스트 : slicing은 리스트로 가져온다"
   ]
  },
  {
   "cell_type": "code",
   "execution_count": 181,
   "id": "cc96c75e-50b3-41c6-aab8-71bd13ad5b31",
   "metadata": {},
   "outputs": [
    {
     "name": "stdout",
     "output_type": "stream",
     "text": [
      "[1, 2, 3, 4, 5, 6]\n",
      "[1, 2, 3, 1, 2, 3, 1, 2, 3]\n",
      "3\n",
      "[4, 5, 6]\n",
      "[4, 5, 6, 4, 5, 6, 4, 5, 6]\n"
     ]
    }
   ],
   "source": [
    "a = [1,2,3]\n",
    "b = [4,5,6]\n",
    "print( a + b ) #리스트 + 리스트 : + : 연결연산자.\n",
    "print(a * 3) # 리스트 * 3 : * :   반복연산자.\n",
    "c = [1, 2, 3, [4, 5, 6]]\n",
    "print(c[2]) # 3\n",
    "print(c[3]) # 리스트\n",
    "print(c[3] * c[2]) # [4, 5, 6] * 3"
   ]
  },
  {
   "cell_type": "code",
   "execution_count": 186,
   "id": "2e0502dd-89c6-4983-bbfc-4278d951b50e",
   "metadata": {},
   "outputs": [
    {
     "name": "stdout",
     "output_type": "stream",
     "text": [
      "3\n",
      "5\n",
      "[1, 2, 3, 40, 5]\n"
     ]
    }
   ],
   "source": [
    "str1 = '이숭무'\n",
    "print(len(str1)) # 문자의 갯수\n",
    "l = [1,2,3,4,5]\n",
    "print(len(l)) # 요소의 갯\n",
    "l[3] = 40 # 요소의 값 변경\n",
    "print(l)"
   ]
  },
  {
   "cell_type": "code",
   "execution_count": 195,
   "id": "f3f87752-7987-4c74-b000-f4b2ee96c923",
   "metadata": {},
   "outputs": [
    {
     "name": "stdout",
     "output_type": "stream",
     "text": [
      "['Life', 'is', 'too']\n",
      "['Life', 'is', 'too', 'short']\n",
      "['Life', 'is', ['too', 'short']]\n",
      "['Life', 'is', 'too', 'short']\n",
      "['Life', 'is', 'short']\n",
      "['Life', 'is', 'too', 'short']\n"
     ]
    }
   ],
   "source": [
    "# 리스트 내장 함수 : 데이터를 가공하기 위해서 사용\n",
    "### 리스트에 요소 추가\n",
    "# append\n",
    "li = ['Life', 'is']\n",
    "li.append('too')\n",
    "print(li)\n",
    "li.append('short')\n",
    "print(li)\n",
    "#확장\n",
    "li = ['Life', 'is']\n",
    "li.append(['too', 'short'])\n",
    "print(li)\n",
    "li = ['Life', 'is']\n",
    "li.extend(['too', 'short'])\n",
    "print(li)\n",
    "# 삽입 : 원하는 index에 저장\n",
    "li = ['Life', 'short']\n",
    "#       0       1\n",
    "li.insert(1, 'is')\n",
    "print(li) # ['Life', 'is', 'short']\n",
    "li.insert(2, 'too')\n",
    "print(li)\n",
    "# append, extend, insert"
   ]
  },
  {
   "cell_type": "code",
   "execution_count": 201,
   "id": "30b6f7c1-263c-4721-874a-36ddaeb0edb5",
   "metadata": {},
   "outputs": [
    {
     "name": "stdout",
     "output_type": "stream",
     "text": [
      "1\n",
      "['Life', 'is', 'too', 'short', 2, 3]\n",
      "[2, 3]\n",
      "['Life', 'is', 'too', 'short']\n",
      "[1, 2, 3]\n",
      "['Life', 'is', 'too', 'short']\n"
     ]
    }
   ],
   "source": [
    "#요소 삭제 내장 함수\n",
    "l1 = ['Life', 'is', 'too', 'short', 1, 2, 3]\n",
    "# index을 이용하여 요소 삭제\n",
    "print(l1[4])\n",
    "del l1[4]\n",
    "print(l1)\n",
    "print(l1[4: 4 + 2])\n",
    "del l1[4: 4 + 2]\n",
    "print(l1)\n",
    "l1 = ['Life', 'is', 'too', 'short', 1, 2, 3]\n",
    "print(l1[4:])\n",
    "del l1[4:]\n",
    "print(l1)\n"
   ]
  },
  {
   "cell_type": "code",
   "execution_count": 205,
   "id": "d5cd6eb9-ff12-4c82-85e0-006d1c9e70b8",
   "metadata": {},
   "outputs": [
    {
     "name": "stdout",
     "output_type": "stream",
     "text": [
      "['Life', 'is', 'short', 1, 2, 3]\n"
     ]
    }
   ],
   "source": [
    "# 요소를 이용해서 삭제\n",
    "l1 = ['Life', 'is', 'too', 'short', 1, 2, 3]\n",
    "l1.remove('too')\n",
    "print(l1)\n",
    "#l1.remove(1, 2, 3)  # list.remove() takes exactly one argument (3 given)\n",
    "# l1.remove([1, 2, 3]) # [1, 2, 3]요소가 없다."
   ]
  },
  {
   "cell_type": "code",
   "execution_count": 210,
   "id": "638806e7-c263-4c4e-8238-59b3f15fe0d4",
   "metadata": {},
   "outputs": [
    {
     "name": "stdout",
     "output_type": "stream",
     "text": [
      "['Life', 'is', 'short', 1, 2]\n",
      "['Life', 'is', 'short', 1]\n",
      "['Life', 'is', 'short']\n",
      "1\n",
      "['Life', 'short']\n",
      "is\n"
     ]
    }
   ],
   "source": [
    "# index를 이용해서 삭제 : pop\n",
    "l1 = ['Life', 'is', 'short', 1, 2, 3]\n",
    "l1.pop() # 마지막 요소 삭제\n",
    "print(l1)\n",
    "l1.pop() # 마지막 요소 삭제\n",
    "print(l1)\n",
    "result = l1.pop() # pop함수는 삭제한 요소를 반환해준다.\n",
    "print(l1) # ['Life', 'is', 'short']\n",
    "#              0      1       2\n",
    "print(result) \n",
    "result = l1.pop(1)\n",
    "print(l1)\n",
    "print(result) \n",
    "# del, remove, pop"
   ]
  },
  {
   "cell_type": "code",
   "execution_count": null,
   "id": "ad21f687-01a0-418a-9173-2d618c516975",
   "metadata": {},
   "outputs": [],
   "source": []
  },
  {
   "cell_type": "code",
   "execution_count": null,
   "id": "886af3b1-e1ed-4b0d-bd58-0f9faab63a23",
   "metadata": {},
   "outputs": [],
   "source": []
  }
 ],
 "metadata": {
  "kernelspec": {
   "display_name": "Python 3 (ipykernel)",
   "language": "python",
   "name": "python3"
  },
  "language_info": {
   "codemirror_mode": {
    "name": "ipython",
    "version": 3
   },
   "file_extension": ".py",
   "mimetype": "text/x-python",
   "name": "python",
   "nbconvert_exporter": "python",
   "pygments_lexer": "ipython3",
   "version": "3.13.5"
  }
 },
 "nbformat": 4,
 "nbformat_minor": 5
}
