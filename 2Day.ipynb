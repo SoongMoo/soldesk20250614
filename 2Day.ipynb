{
 "cells": [
  {
   "cell_type": "code",
   "execution_count": 6,
   "id": "684bd249-e042-42f5-85b8-fba37aaf6ec0",
   "metadata": {},
   "outputs": [
    {
     "name": "stdout",
     "output_type": "stream",
     "text": [
      "[1, 2, 3, 4, 5]\n",
      "[5, 4, 3, 2, 1]\n",
      "[3, 1, 5, 2, 4]\n",
      "['a', 'b', 'c']\n",
      "['apple', 'banana', '김찬중', '이숭무']\n"
     ]
    },
    {
     "ename": "TypeError",
     "evalue": "'<' not supported between instances of 'str' and 'int'",
     "output_type": "error",
     "traceback": [
      "\u001b[31m---------------------------------------------------------------------------\u001b[39m",
      "\u001b[31mTypeError\u001b[39m                                 Traceback (most recent call last)",
      "\u001b[36mCell\u001b[39m\u001b[36m \u001b[39m\u001b[32mIn[6]\u001b[39m\u001b[32m, line 22\u001b[39m\n\u001b[32m     20\u001b[39m \u001b[38;5;28mprint\u001b[39m(l)\n\u001b[32m     21\u001b[39m l = [\u001b[32m5\u001b[39m, \u001b[33m'\u001b[39m\u001b[33mapple\u001b[39m\u001b[33m'\u001b[39m, \u001b[33m'\u001b[39m\u001b[33m김찬중\u001b[39m\u001b[33m'\u001b[39m, \u001b[32m3\u001b[39m]\n\u001b[32m---> \u001b[39m\u001b[32m22\u001b[39m \u001b[43ml\u001b[49m\u001b[43m.\u001b[49m\u001b[43msort\u001b[49m\u001b[43m(\u001b[49m\u001b[43m)\u001b[49m\n",
      "\u001b[31mTypeError\u001b[39m: '<' not supported between instances of 'str' and 'int'"
     ]
    }
   ],
   "source": [
    "# 정렬 -- 오름차순, 내림차순\n",
    "l = [4, 2, 5, 1, 3]\n",
    "# 오름차순\n",
    "l.sort()\n",
    "print(l)\n",
    "# 내림차순 : 오름차순으로 정렬된 것을 뒤에서 부터 출력\n",
    "l = [4, 2, 5, 1, 3]\n",
    "l.sort(reverse=True)\n",
    "print(l)\n",
    "# 뒤부터 출력\n",
    "l = [4, 2, 5, 1, 3]\n",
    "l.reverse()\n",
    "print(l)\n",
    "# 문자열 정렬\n",
    "l = ['b','c','a'] # 사전순서\n",
    "l.sort()\n",
    "print(l)\n",
    "l = ['이숭무', 'apple', '김찬중', 'banana']\n",
    "l.sort()\n",
    "print(l)\n",
    "l = [5, 'apple', '김찬중', 3]\n",
    "# l.sort()\n",
    "# 문자열과 숫자가 같이 있는 경우에는 정렬되지 않는다."
   ]
  },
  {
   "cell_type": "code",
   "execution_count": null,
   "id": "1c0da6ee-9b1b-474a-9f0d-04bf8c2eca14",
   "metadata": {},
   "outputs": [],
   "source": []
  },
  {
   "cell_type": "code",
   "execution_count": 10,
   "id": "1103e2b9-4d6e-4917-bc3e-733651fa8212",
   "metadata": {},
   "outputs": [
    {
     "name": "stdout",
     "output_type": "stream",
     "text": [
      "0\n",
      "0\n",
      "1\n"
     ]
    },
    {
     "ename": "AttributeError",
     "evalue": "'list' object has no attribute 'find'",
     "output_type": "error",
     "traceback": [
      "\u001b[31m---------------------------------------------------------------------------\u001b[39m",
      "\u001b[31mAttributeError\u001b[39m                            Traceback (most recent call last)",
      "\u001b[36mCell\u001b[39m\u001b[36m \u001b[39m\u001b[32mIn[10]\u001b[39m\u001b[32m, line 10\u001b[39m\n\u001b[32m      8\u001b[39m result = l.index(\u001b[33m'\u001b[39m\u001b[33mbanana\u001b[39m\u001b[33m'\u001b[39m)\n\u001b[32m      9\u001b[39m \u001b[38;5;28mprint\u001b[39m(result)\n\u001b[32m---> \u001b[39m\u001b[32m10\u001b[39m result = \u001b[43ml\u001b[49m\u001b[43m.\u001b[49m\u001b[43mfind\u001b[49m(\u001b[33m'\u001b[39m\u001b[33mbanana\u001b[39m\u001b[33m'\u001b[39m)\n",
      "\u001b[31mAttributeError\u001b[39m: 'list' object has no attribute 'find'"
     ]
    }
   ],
   "source": [
    "#요소 찾기\n",
    "str1 = \"apple\"\n",
    "result = str1.index('a')\n",
    "print(result)\n",
    "result = str1.find('a')\n",
    "print(result)\n",
    "l = ['apple', 'banana', '이숭무','김찬중']\n",
    "result = l.index('banana')\n",
    "print(result)\n",
    "#result = l.find('banana')"
   ]
  },
  {
   "cell_type": "code",
   "execution_count": 21,
   "id": "658ac9ff-6a21-4e9a-a2ac-fa11a090d2e9",
   "metadata": {},
   "outputs": [
    {
     "name": "stdout",
     "output_type": "stream",
     "text": [
      "[1]\n",
      "(1, 2, 3, 4)\n",
      "1\n",
      "16\n",
      "1\n",
      "(1, 2)\n",
      "(1,)\n",
      "(1, 2, 3, 4)\n",
      "1\n",
      "(1,)\n",
      "13\n"
     ]
    }
   ],
   "source": [
    "t = (1,2,3,4)\n",
    "t = 1,2,3,4\n",
    "print([1])\n",
    "print(t)\n",
    "print(1)\n",
    "print((1 + 3) * 4)\n",
    "print((1)) # 최우선 연산자\n",
    "print((1,2))\n",
    "print((1,))\n",
    "t = 1,2,3,4\n",
    "print(t)\n",
    "t = 1\n",
    "print(t)\n",
    "t = 1,\n",
    "print(t)\n",
    "print( 12 + t[0] )"
   ]
  },
  {
   "cell_type": "code",
   "execution_count": null,
   "id": "1ad6c493-49b3-4526-b490-158b6f1f99fa",
   "metadata": {},
   "outputs": [],
   "source": [
    "튜플(tuple)\n",
    "       자료형 : () :                                 (1, 2, 3, 4)\n",
    "               () : 빈튜플\n",
    "               (1,) : 요소가 하나인 튜플 \n",
    "               (1,2,3,4) : 정수형 튜플\n",
    "                ('이숭무', '김찬중') : 문자열 튜플\n",
    "                ('이숭무', '김찬중',1,2,3) : 혼합형 튜플\n",
    "                ((1,2,3,4),(5,6,7,8)) : 튜플을 포함한 튜플\n",
    "                ((1,2,3,4),(5,6,7,8), 1,2,3, '이숭무') : 튜플을 포함한 혼합형 튜플\n",
    "                ([1,2,3,4], 1,2,3, '이수움') : 리스트를 포함한 혼합형 튜플"
   ]
  },
  {
   "cell_type": "code",
   "execution_count": 24,
   "id": "5f83a05d-b5ed-44cb-bb86-5f25a74c0977",
   "metadata": {},
   "outputs": [
    {
     "name": "stdout",
     "output_type": "stream",
     "text": [
      "2\n",
      "2\n",
      "2\n"
     ]
    }
   ],
   "source": [
    "# indexing\n",
    "l = [1,2,3,4,5]\n",
    "#    0 1 2 3 4\n",
    "#   -5 4 3 2 1\n",
    "print(l[1])\n",
    "print(l[-4])\n",
    "print(len(l)) # 요소의 갯수\n",
    "t = (1,2,3,4,5)\n",
    "#    0 1 2 3 4\n",
    "#   -5 4 3 2 1\n",
    "print(t[1])\n",
    "print(t[-4])\n",
    "print(len(t)) # 요소의 갯수"
   ]
  },
  {
   "cell_type": "code",
   "execution_count": 27,
   "id": "b9f72db6-1d40-498f-83e2-bb5bccb45189",
   "metadata": {},
   "outputs": [
    {
     "name": "stdout",
     "output_type": "stream",
     "text": [
      "[3, 4]\n",
      "[1, 2, 3]\n",
      "[3, 4, 5]\n",
      "(3, 4)\n",
      "(1, 2, 3)\n",
      "(3, 4, 5)\n"
     ]
    }
   ],
   "source": [
    "#slicing\n",
    "l = [1,2,3,4,5]\n",
    "print(l[2:2+2])\n",
    "print(l[:3])\n",
    "print(l[2:])\n",
    "t = 1,2,3,4,5\n",
    "print(t[2:2+2])\n",
    "print(t[:3])\n",
    "print(t[2:])"
   ]
  },
  {
   "cell_type": "code",
   "execution_count": 34,
   "id": "be508904-be44-44fa-be8b-cad2342a3a9d",
   "metadata": {},
   "outputs": [
    {
     "name": "stdout",
     "output_type": "stream",
     "text": [
      "2\n",
      "2\n",
      "7\n",
      "[5]\n",
      "(5,)\n",
      "[2]\n",
      "(2,)\n"
     ]
    },
    {
     "ename": "TypeError",
     "evalue": "can only concatenate list (not \"int\") to list",
     "output_type": "error",
     "traceback": [
      "\u001b[31m---------------------------------------------------------------------------\u001b[39m",
      "\u001b[31mTypeError\u001b[39m                                 Traceback (most recent call last)",
      "\u001b[36mCell\u001b[39m\u001b[36m \u001b[39m\u001b[32mIn[34]\u001b[39m\u001b[32m, line 12\u001b[39m\n\u001b[32m     10\u001b[39m \u001b[38;5;28mprint\u001b[39m(t[\u001b[32m1\u001b[39m:\u001b[32m1\u001b[39m+\u001b[32m1\u001b[39m]) \n\u001b[32m     11\u001b[39m \u001b[38;5;66;03m# 리스트나 튜플은 slicing을 하면 무조건 각각 리스트, 튜플로 가져온다.\u001b[39;00m\n\u001b[32m---> \u001b[39m\u001b[32m12\u001b[39m \u001b[38;5;28mprint\u001b[39m(\u001b[43ml\u001b[49m\u001b[43m[\u001b[49m\u001b[32;43m1\u001b[39;49m\u001b[43m:\u001b[49m\u001b[32;43m1\u001b[39;49m\u001b[43m+\u001b[49m\u001b[32;43m1\u001b[39;49m\u001b[43m]\u001b[49m\u001b[43m \u001b[49m\u001b[43m+\u001b[49m\u001b[43m \u001b[49m\u001b[43ml\u001b[49m\u001b[43m[\u001b[49m\u001b[32;43m2\u001b[39;49m\u001b[43m]\u001b[49m) \u001b[38;5;66;03m#  리스트 +  정수\u001b[39;00m\n",
      "\u001b[31mTypeError\u001b[39m: can only concatenate list (not \"int\") to list"
     ]
    }
   ],
   "source": [
    "l = [1,2,3,4,[5]]\n",
    "t = 1,2,3,4,(5,)\n",
    "print(l[1]) # 요소가 가진 자료형으로 출력\n",
    "print(t[1])\n",
    "print(l[2]+l[3]) # 정수 + 정수\n",
    "print(l[4]) # 리스트\n",
    "print(t[4])\n",
    "\n",
    "print(l[1:1+1]) # 리스트에서 slicing을 하면 요소가 하나이어도 리스트로 가져온다\n",
    "print(t[1:1+1]) \n",
    "# 리스트, 튜플은 slicing을 하면 무조건 리스트, 튜플로 가져온다.\n",
    "# print(l[1:1+1] + l[2]) #  리스트 + 정수 : 오류\n",
    "print(l[1:1+1] * l[2]) # 리스트 * 정수"
   ]
  },
  {
   "cell_type": "code",
   "execution_count": 38,
   "id": "269a9300-0383-4dee-86aa-d17823e1654e",
   "metadata": {},
   "outputs": [
    {
     "name": "stdout",
     "output_type": "stream",
     "text": [
      "2\n",
      "2\n"
     ]
    },
    {
     "ename": "AttributeError",
     "evalue": "'tuple' object has no attribute 'find'",
     "output_type": "error",
     "traceback": [
      "\u001b[31m---------------------------------------------------------------------------\u001b[39m",
      "\u001b[31mAttributeError\u001b[39m                            Traceback (most recent call last)",
      "\u001b[36mCell\u001b[39m\u001b[36m \u001b[39m\u001b[32mIn[38]\u001b[39m\u001b[32m, line 8\u001b[39m\n\u001b[32m      6\u001b[39m idx = t.index(\u001b[32m3\u001b[39m)\n\u001b[32m      7\u001b[39m \u001b[38;5;28mprint\u001b[39m(idx)\n\u001b[32m----> \u001b[39m\u001b[32m8\u001b[39m idx = \u001b[43mt\u001b[49m\u001b[43m.\u001b[49m\u001b[43mfind\u001b[49m(\u001b[32m3\u001b[39m)\n",
      "\u001b[31mAttributeError\u001b[39m: 'tuple' object has no attribute 'find'"
     ]
    }
   ],
   "source": [
    "l = [1,2,3,4,5]\n",
    "idx = l.index(3)\n",
    "print(idx)\n",
    "#idx = l.find(3)\n",
    "t = 1,2,3,4,5\n",
    "idx = t.index(3)\n",
    "print(idx)\n",
    "#idx = t.find(3)"
   ]
  },
  {
   "cell_type": "code",
   "execution_count": 42,
   "id": "9aa12088-2493-49c3-80d7-6ea77ca6530c",
   "metadata": {},
   "outputs": [
    {
     "name": "stdout",
     "output_type": "stream",
     "text": [
      "[1, 2, 30, 4, 4, 5, 4]\n",
      "[1, 2, 4, 4, 5, 4]\n",
      "3\n"
     ]
    }
   ],
   "source": [
    "#리스트와 튜플의 차이점\n",
    "l = [1,2,3,4,4,5,4] # 변경이 가능하다.\n",
    "t = 1,2,3,4,4,5,4 # 변경이 불가능하다. 상수\n",
    "l[2] = 30\n",
    "print(l)\n",
    "del l[2]\n",
    "print(l)\n",
    "#t[2] = 30\n",
    "result = l.count(4)\n",
    "print(result)\n",
    "result = t.count(4)\n",
    "print(result)\n",
    "# indexing, slicing, len(), index(), count()\n",
    "# 리스트, 튜플 연산자 : + : 연결연산자 , * : 반복연산자"
   ]
  },
  {
   "cell_type": "code",
   "execution_count": null,
   "id": "98433f46-f412-440e-afdb-ef928647acfa",
   "metadata": {},
   "outputs": [],
   "source": [
    "기본자료형 : 리터널 : 숫자 : 정수 : 10, 20  \n",
    "                           실수 : 10.5, 20.5\n",
    "                    문자열 : \"\", '', \"\"\"\"\"\", ''''''\n",
    "리스트 자료형 : [] \n",
    "튜플 자료형 : ()\n",
    "딕셔너리 : {} : json(javascript) , map(java, C#)\n",
    "           {키1:값1, 키2:값2,..., 키n:값n}               "
   ]
  },
  {
   "cell_type": "code",
   "execution_count": 46,
   "id": "a4314488-3374-4150-bfb6-a0f5f9dd1450",
   "metadata": {},
   "outputs": [
    {
     "name": "stdout",
     "output_type": "stream",
     "text": [
      "3\n",
      "이숭무\n",
      "이숭무\n"
     ]
    }
   ],
   "source": [
    "# 딕셔너리\n",
    "dic = {} # 빈 딕셔너리\n",
    "dic = {\"name\": \"이숭무\", \"phone\" : \"010-1234-5678\", \"birth\":\"20250202\"}\n",
    "l = [1,2,3]\n",
    "result = l[2] # index를 이용\n",
    "print(result)\n",
    "result = dic[\"name\"] # 키를 이용해서 값을 받아옴\n",
    "print(result)\n",
    "dic = {1 : \"이숭무\", 0 : 35, 2 : 175.3} \n",
    "#          0           1          2 (x)\n",
    "result = dic[1] # index를 사용하는 것이 아니라 키를 사용한다.\n",
    "print(result)\n",
    "# indexing 가능한 자료형은 문자열, 리스트, 튜플"
   ]
  },
  {
   "cell_type": "code",
   "execution_count": 53,
   "id": "65254525-1354-4687-a972-3f457df5d955",
   "metadata": {},
   "outputs": [
    {
     "name": "stdout",
     "output_type": "stream",
     "text": [
      "[1, 20, 3]\n",
      "이숭무\n",
      "{1: '이상범'}\n",
      "{1: '이상범', 2: '이장범'}\n"
     ]
    }
   ],
   "source": [
    "l = [1,2,3]\n",
    "#    0 1 2 \n",
    "l[1] = 20 # [1, 20, 3]\n",
    "# l[3] = 40 # IndexError: list assignment index out of range\n",
    "print(l)\n",
    "a = {1:\"이숭무\"}\n",
    "print(a[1])\n",
    "a[1] = \"이상범\" # 키가 존재하면 수정이됨\n",
    "print(a)\n",
    "a[2] = \"이장범\" # 키가 없으면 요소 추가가 됨\n",
    "print(a)"
   ]
  },
  {
   "cell_type": "code",
   "execution_count": 58,
   "id": "b6190d34-f391-4007-ae2e-8cd9157420f9",
   "metadata": {},
   "outputs": [
    {
     "name": "stdout",
     "output_type": "stream",
     "text": [
      "{1: '이숭무'}\n",
      "{1: '이장범'}\n",
      "{1: '이장범'}\n"
     ]
    }
   ],
   "source": [
    "# 딕셔너리는 중복키를 허용하지 않는다.\n",
    "# 그렇기 때문에 키가 있으면 수정이 되고 키가 없으면 추가\n",
    "a = {1:\"이숭무\"}\n",
    "print(a)\n",
    "a[1] = \"이장범\"\n",
    "print(a)\n",
    "a = {1:\"이숭무\", 1:\"이장범\"}\n",
    "print(a) # 중복키를 허용하지 않으므로 키가 중복이 되면 마지막 값을 갖는다"
   ]
  },
  {
   "cell_type": "code",
   "execution_count": 66,
   "id": "5c1b42e7-5b8e-45ea-9951-9ff6c0b226db",
   "metadata": {},
   "outputs": [
    {
     "name": "stdout",
     "output_type": "stream",
     "text": [
      "[1, 3]\n",
      "{'name': '이숭무', 'height': 175}\n",
      "dict_keys(['name', 'height'])\n",
      "dict_values(['이숭무', 175])\n",
      "dict_items([('name', '이숭무'), ('height', 175)])\n",
      "[]\n",
      "[]\n"
     ]
    }
   ],
   "source": [
    "#딕셔너리 함수\n",
    "dic = {\"name\":\"이숭무\", \"age\":35, \"height\":175}\n",
    "l = [1,2,3]\n",
    "# 요소 삭제\n",
    "del l[1]\n",
    "print(l)\n",
    "del dic[\"age\"]\n",
    "print(dic)\n",
    "### 딕셔너리에 있는 키만 가져오기\n",
    "print(dic.keys())\n",
    "### 딕셔너리에 있는 값만 가져오기\n",
    "print(dic.values())\n",
    "# 키와 값을 쌍으로\n",
    "print(dic.items())\n",
    "# 리스트에 있는 요소 모두 삭제\n",
    "del l[:]\n",
    "print(l)\n",
    "l = [1,2,3]\n",
    "l.clear()\n",
    "print(l)\n",
    "# 딕셔너리 요소 모두 삭제\n",
    "dic.clear()\n",
    "print(dic)"
   ]
  },
  {
   "cell_type": "code",
   "execution_count": 81,
   "id": "674d121f-1ea0-41d8-8958-65d634e99cf7",
   "metadata": {},
   "outputs": [
    {
     "name": "stdout",
     "output_type": "stream",
     "text": [
      "이숭무\n",
      "이숭무\n",
      "None\n",
      "서울\n",
      "1000\n",
      "1200\n",
      "100\n",
      "1200\n"
     ]
    }
   ],
   "source": [
    "# get 함수\n",
    "dic = {\"name\":\"이숭무\", \"age\" : 35, \"height\" : 175}\n",
    "print(dic[\"name\"])\n",
    "print(dic.get(\"name\"))\n",
    "# print(dic[\"addr\"]) # KeyError: 'addr'\n",
    "print(dic.get(\"addr\")) # None\n",
    "print(dic.get(\"addr\" ,\"서울\"))\n",
    "# 예시\n",
    "dic1 = {'classic' : 500 ,  \"pop\" : 600 }\n",
    "dic2 = {'classic' : 500 ,  \"pop\" : 600 , \"jazz\":100}\n",
    "print(dic1[\"classic\"] + dic2[\"classic\"])\n",
    "print(dic1[\"pop\"] + dic2[\"pop\"])\n",
    "#print(dic1[\"jazz\"] + dic2[\"jazz\"])\n",
    "print(dic1.get(\"jazz\", 0) + dic2.get(\"jazz\")) # 0 + 100\n",
    "print(dic1.get(\"pop\", 0) + dic2.get(\"pop\")) "
   ]
  },
  {
   "cell_type": "code",
   "execution_count": null,
   "id": "28d010c0-a9b6-4999-9699-6b5b53fc7800",
   "metadata": {},
   "outputs": [],
   "source": [
    "기본 자료형 : 리터널 : 숫자 : 정수 : 10 , 실수 :10.5\n",
    "                     문자열 : \"\",'',\"\"\"\"\"\",''''''\n",
    "리스트 자료형 : []\n",
    "튜플 자료형 : ()\n",
    "딕셔너리 : {키 : 값,...}\n",
    "         : {} : 빈 딕셔너리\n",
    "집합 : 합집합, 교집합 , 차집합\n",
    "s = {1,2,3,4}  \n",
    "s = {} : 빈 딕셔너리"
   ]
  },
  {
   "cell_type": "code",
   "execution_count": 90,
   "id": "363b5e4f-961f-4bcc-b978-d7568cf181c1",
   "metadata": {},
   "outputs": [
    {
     "name": "stdout",
     "output_type": "stream",
     "text": [
      "{1, 2, 4, 5}\n",
      "{4, 5, 6, 7, 8, 9}\n",
      "{1, 2, 4, 5, 6, 7, 8, 9}\n",
      "{1, 2, 4, 5, 6, 7, 8, 9}\n",
      "{4, 5}\n",
      "{4, 5}\n",
      "{1, 2}\n",
      "{1, 2}\n"
     ]
    }
   ],
   "source": [
    "s1 = {1,1,2,2,4,4,5,5}\n",
    "print(s1)\n",
    "s2 = {4,5,6,7,8,9}\n",
    "print(s2)\n",
    "# 합집합 : union\n",
    "result = s1 | s2\n",
    "print(result)\n",
    "result = s1.union(s2)\n",
    "print(result)\n",
    "# 교집합\n",
    "result = s1 & s2\n",
    "print(result)\n",
    "result = s1.intersection(s2)\n",
    "print(result)\n",
    "# 차집합\n",
    "result = s1 - s2\n",
    "print(result)\n",
    "result = s1.difference(s2)\n",
    "print(result)\n",
    "result = s2 - s1\n",
    "result = s2.difference(s1)"
   ]
  },
  {
   "cell_type": "code",
   "execution_count": 92,
   "id": "e0467e8b-aac9-4cea-a1ca-5772666b929c",
   "metadata": {},
   "outputs": [
    {
     "name": "stdout",
     "output_type": "stream",
     "text": [
      "{1, 2, 3, 4, 5}\n",
      "{1, 2, 3, 4, 5}\n"
     ]
    }
   ],
   "source": [
    "s1 = set([1,2,3,4,5])\n",
    "print(s1)\n",
    "s1 = set((1,2,3,4,5))\n",
    "print(s1)"
   ]
  },
  {
   "cell_type": "code",
   "execution_count": 97,
   "id": "8ae09f62-7281-4231-ba4e-911caa4cf0a5",
   "metadata": {},
   "outputs": [
    {
     "name": "stdout",
     "output_type": "stream",
     "text": [
      "hello\n",
      "['h', 'e', 'l', 'l', 'o']\n",
      "('h', 'e', 'l', 'l', 'o')\n",
      "{'o', 'h', 'e', 'l'}\n",
      "['h', 'e', 'l', 'l', 'o']\n"
     ]
    }
   ],
   "source": [
    "# 변환함수\n",
    "str1 = \"hello\"\n",
    "print(str1)\n",
    "l = list(str1)\n",
    "print(l)\n",
    "t = tuple(str1)\n",
    "print(t)\n",
    "s = set(str1)\n",
    "print(s)\n",
    "l = list(t)\n",
    "print(l)\n",
    "a = \"10\"\n",
    "print( 10 + int(a) ) # 문자형 정수를 정수로 변환\n",
    "print( str(10) + a ) # 숫자를 문자열로 변환\n",
    "print( 10.5 + float(\"20.5\") ) #문자형 실수를 실수로 변환"
   ]
  },
  {
   "cell_type": "code",
   "execution_count": 107,
   "id": "a28ec50c-9934-4f61-938d-841201ee109a",
   "metadata": {},
   "outputs": [
    {
     "name": "stdout",
     "output_type": "stream",
     "text": [
      "['h', 'e', 'l', 'l', 'o']\n",
      "['h', 'e', 'l', 'l', 'o'] 이숭무 \n",
      "hello\n",
      "Life is too short\n",
      "h.e.l.l.o\n",
      "h e l l o\n",
      "Life is too short\n"
     ]
    }
   ],
   "source": [
    "l = ['h', 'e', 'l', 'l', 'o']\n",
    "str1 = str(l)\n",
    "#print([1,2,3,4] + \"apple\")\n",
    "print(str1) # \"['h', 'e', 'l', 'l', 'o']\"\n",
    "print(str1 + \" 이숭무 \") \n",
    "# 리스트를 문자열로 변경\n",
    "str1 = \"\".join(l)\n",
    "print(str1)\n",
    "l = ['Life', 'is', 'too', 'short']\n",
    "str1 = \" \".join(l)\n",
    "print(str1)\n",
    "str1 = \"hello\"\n",
    "result = \".\".join(str1)\n",
    "print(result)\n",
    "result = \" \".join(str1)\n",
    "print(result)\n",
    "t = ('Life', 'is', 'too', 'short')\n",
    "result = \" \".join(t)\n",
    "print(result)"
   ]
  },
  {
   "cell_type": "code",
   "execution_count": 117,
   "id": "9c44cf4c-d5ff-4464-ae92-7bae0f5f2869",
   "metadata": {},
   "outputs": [
    {
     "name": "stdout",
     "output_type": "stream",
     "text": [
      "{1, 2, 3, 4, 7}\n",
      "{1, 2, 3, 4, 7}\n",
      "{1, 2, 3, 4, 7, 'a'}\n",
      "{1, 2, 3, 4, 7, (8, 9, 10), 'a'}\n",
      "{1, 2, 3, 4, 7, 8, 9, 10}\n",
      "{1, 2, 3, 4, 7, 8, 9, 10, 11, 12, 13}\n",
      "{1, 2, 3, 4, 7, 8, 9, 10, 12, 13}\n",
      "{1, 2, 3, 4, 7, 'a'}\n"
     ]
    }
   ],
   "source": [
    "# 집합자료형 함수\n",
    "# 요소추가 : add\n",
    "s = {1,2,3,4}\n",
    "s.add(7)\n",
    "print(s)\n",
    "s.add(4) # 중복데이터를 허용하지 않는다.\n",
    "print(s)\n",
    "s.add('a')\n",
    "print(s)\n",
    "# s에 8,9,10을 추가\n",
    "#s.add(8,9,10) # TypeError: set.add() takes exactly one argument (3 given)\n",
    "s.add((8,9,10)) \n",
    "print(s)\n",
    "# add는 요소를 하나씩 추가할 수 있다.\n",
    "s = {1, 2, 3, 4, 7}\n",
    "# 여러개의 요소를 한번에\n",
    "s.update((8,9,10))\n",
    "print(s)\n",
    "s.update([11,12,13])\n",
    "print(s) # {1, 2, 3, 4, 7, 8, 9, 10, 11, 12, 13}\n",
    "# 삭제\n",
    "s.remove(11)\n",
    "print(s)\n",
    "#s.remove(12,13) # TypeError: set.remove() takes exactly one argument (2 given)\n",
    "#s.remove((12,13)) # (12,13) 튜플이 없어서 오류\n",
    "# 삭제 또한 요소를 하나씩만 가능하다.\n",
    "s = {1, 2, 3, 4, 7, (8, 9, 10), 'a'}\n",
    "s.remove((8, 9, 10)) # 튜플 요소 삭제\n",
    "print(s)\n",
    "# 모두 삭제\n",
    "s.clear()\n",
    "print(s)\n",
    "# {1,2,3} : 연산자 : 합집합 (|) , 교집합(&), 차집합(-)\n",
    "#             함수 : add(), update(), remove(), clear()"
   ]
  },
  {
   "cell_type": "code",
   "execution_count": 123,
   "id": "1f2ee5dc-5f43-4bea-a738-e2dcf75d7573",
   "metadata": {},
   "outputs": [
    {
     "name": "stdout",
     "output_type": "stream",
     "text": [
      "True\n",
      "False\n",
      "True\n",
      "True\n",
      "True\n",
      "True\n"
     ]
    }
   ],
   "source": [
    "# 기본자료형 : 리터널 : 숫자 : 정수(decimal : %d), 실수(float : %f)\n",
    "#                     문자열 (string : %s)\n",
    "# 리스트 자료형 : []\n",
    "# 튜플 자료형 : (), (1,)\n",
    "# 딕셔너리 자료형 : {} , {키:값,...,키n:값n}\n",
    "# 집합자료형 : {1,2,3,4}\n",
    "# 부울자료형 :  참 / 거짓 : True / False\n",
    "i = 10 # 정수 자료형 :decimal\n",
    "f = 10.5 # 실수 자료형 : float\n",
    "str1 = \"이숭무\" # 문자열 자료형 :string\n",
    "l = [1,2,3,4] # 리스트 자료형\n",
    "t = (1,2,3,4) # 튜플 자료형\n",
    "dic = {1:\"이\", 2:\"숭\"} # 딕셔너리\n",
    "s = {1,2,3,4} # 집합자료형\n",
    "bl = True # 부울 자료형\n",
    "print(bl)\n",
    "bl = False\n",
    "print(bl)\n",
    "# bl = true # NameError: name 'true' is not defined \n",
    "bl = \"True\"\n",
    "# 비교연산자(관계연산자)의 결과값이 부울자료형이다\n",
    "print( 1 == 1) \n",
    "a = 10\n",
    "b = 20\n",
    "print( a < b )\n",
    "# 논리연산자 : True and True , True or False\n",
    "print(True and True)\n",
    "print(True or False)"
   ]
  },
  {
   "cell_type": "code",
   "execution_count": 129,
   "id": "e65e5e87-ac04-484d-a5de-8070fb6d3f3f",
   "metadata": {},
   "outputs": [
    {
     "name": "stdout",
     "output_type": "stream",
     "text": [
      "hello\n",
      "True\n",
      "True\n",
      "False\n",
      "True\n",
      "True\n",
      "False\n"
     ]
    }
   ],
   "source": [
    "# int(), float(), str(), list(), tuple(), set(), bool()\n",
    "print(\"hello\")\n",
    "print(bool(\"hello\"))\n",
    "print(bool(\" \"))\n",
    "print(bool(\"\")) # blank\n",
    "print(bool(1))\n",
    "print(bool(-1))\n",
    "print(bool(0))\n",
    "print(bool([]))\n",
    "print(bool([1,2,3]))\n",
    "print(bool(()))\n",
    "print(bool((1,2,3,4)))\n",
    "print(bool({}))\n",
    "print(bool({1:10}))\n",
    "print(bool(None)) # False"
   ]
  },
  {
   "cell_type": "code",
   "execution_count": 135,
   "id": "c68d1001-c6f5-4cf7-b1f2-42ff8d27399c",
   "metadata": {},
   "outputs": [
    {
     "name": "stdout",
     "output_type": "stream",
     "text": [
      "<class 'int'>\n",
      "<class 'float'>\n",
      "<class 'str'>\n",
      "<class 'list'>\n",
      "<class 'tuple'>\n",
      "<class 'set'>\n"
     ]
    }
   ],
   "source": [
    "# 자료형 확인\n",
    "i = 10\n",
    "f = 10.5\n",
    "str1= \"이숭무\"\n",
    "l = [1,2,3]\n",
    "t = (1,2,3)\n",
    "dic = {1:\"a\", 2: \"b\"}\n",
    "s =  {1,2,3,4}\n",
    "b = True\n",
    "print(type(i))\n",
    "print(type(f))\n",
    "print(type(str1))\n",
    "print(type(l))\n",
    "print(type(t))\n",
    "print(type(s))"
   ]
  },
  {
   "cell_type": "code",
   "execution_count": 138,
   "id": "a1d23a3d-9fb6-4b6b-a024-47d3eabe96fc",
   "metadata": {},
   "outputs": [
    {
     "name": "stdout",
     "output_type": "stream",
     "text": [
      "10 20\n"
     ]
    }
   ],
   "source": [
    "#파이썬의 변수 선언법\n",
    "i = 10; j = 20\n",
    "i , j = 10, 20\n",
    "print(i , j)\n",
    "t = (1,2,3)\n",
    "t = 1,2,3\n",
    "i , j = (10, 20)\n",
    "(i , j) = (10, 20)\n",
    "(i , j) = 10, 20\n",
    "\n",
    "[i , j] = 10, 20\n",
    "\n",
    "i, j, k = 10, 20 , 30\n",
    "\n",
    "# i, k = 10,20,30 # ValueError: too many values to unpack (expected 2)"
   ]
  },
  {
   "cell_type": "code",
   "execution_count": 139,
   "id": "03cb4360-826b-42d6-84ef-bf00d016e1a1",
   "metadata": {},
   "outputs": [
    {
     "name": "stdout",
     "output_type": "stream",
     "text": [
      "20 10\n"
     ]
    }
   ],
   "source": [
    "i = 10\n",
    "j = 20\n",
    "# i와 j값을 변경하시오.\n",
    "temp = i\n",
    "i = j\n",
    "j = temp\n",
    "\n",
    "i = 10\n",
    "j = 20\n",
    "\n",
    "i , j = j, i\n",
    "print(i, j)"
   ]
  },
  {
   "cell_type": "code",
   "execution_count": 142,
   "id": "f23d3ab7-9d2f-4506-9a86-22998d52abba",
   "metadata": {},
   "outputs": [
    {
     "name": "stdout",
     "output_type": "stream",
     "text": [
      "False\n"
     ]
    }
   ],
   "source": [
    "# 영어, 수학 , 국어의 점수 40점 이상이고 평균이 60 이상이면 합격(True)\n",
    "eng = 30\n",
    "kor = 60\n",
    "mat = 80\n",
    "result = eng >= 40 and kor >= 40 and mat >= 40 and (eng + kor + mat) / 3 >= 60\n",
    "print(result)\n",
    "if result: # 단일 if\n",
    "    print(\"합격\")\n",
    "\n",
    "if result: # if ~ else\n",
    "    print(\"합격\")\n",
    "else:\n",
    "    print(\"불합격\")\n",
    "\n",
    "    # 조건식 \n",
    "if eng >= 40 and kor >= 40 and mat >= 40 and (eng + kor + mat) / 3 >= 60: \n",
    "    print(\"합격\")\n",
    "else:\n",
    "    print(\"불합격\")"
   ]
  },
  {
   "cell_type": "code",
   "execution_count": 148,
   "id": "4b13208d-40e5-4f18-aef5-34a81699f4c0",
   "metadata": {},
   "outputs": [
    {
     "name": "stdout",
     "output_type": "stream",
     "text": [
      "국어 영어 수학 점수가 범위를 벗어났네요\n",
      "불합격\n",
      "\n",
      "\n"
     ]
    }
   ],
   "source": [
    "if result:\n",
    "    print(\"국어 영어 수학 점수가 범위안에 들어가있어요\")\n",
    "    print(\"합격\")\n",
    "else:\n",
    "    print(\"국어 영어 수학 점수가 범위를 벗어났네요\")\n",
    "    print(\"불합격\")\n",
    "'''\n",
    "if result:\n",
    "    print(\"국어 영어 수학 점수가 범위안에 들어가있어요\")\n",
    "print(\"합격\")\n",
    "else:\n",
    "    print(\"국어 영어 수학 점수가 범위를 벗어났네요\")\n",
    "    print(\"불합격\")\n",
    "'''\n",
    "print()\n",
    "'''\n",
    "if result:\n",
    "    print(\"국어 영어 수학 점수가 범위안에 들어가있어요\")\n",
    "        print(\"합격\")\n",
    "else:\n",
    "    print(\"국어 영어 수학 점수가 범위를 벗어났네요\")\n",
    "    print(\"불합격\")\n",
    "'''\n",
    "print()"
   ]
  },
  {
   "cell_type": "code",
   "execution_count": 155,
   "id": "75094bba-3426-46fe-ad17-a973e54ba619",
   "metadata": {},
   "outputs": [
    {
     "name": "stdout",
     "output_type": "stream",
     "text": [
      "True\n",
      "False\n",
      "True\n",
      "False\n",
      "False\n",
      "True\n"
     ]
    }
   ],
   "source": [
    "# in 연산자\n",
    "l = [1,2,3,4,5]\n",
    "print( 5 in l )\n",
    "print( 7 in l )\n",
    "str1 = \"python\"\n",
    "print( \"y\" in str1 )\n",
    "print( \"z\" in str1 )\n",
    "print( \"too\" in str1 )\n",
    "print( \"on\" in str1 )\n",
    "print( \"on\" not in str1 )\n",
    "print( 10 not in l )\n",
    "if 10 not in l:\n",
    "    print(\"10 포함되어 있지 않다\")\n",
    "else:\n",
    "    print(\"10이 포함되어 있습니다.\")\n",
    "\n",
    "if \"y\" in \"python\":\n",
    "    print(\"python에 y가 있다\")\n",
    "else:\n",
    "    print(\"python에 y가 없습니다\")"
   ]
  },
  {
   "cell_type": "code",
   "execution_count": 158,
   "id": "e849c4fe-fb67-4f41-a55f-41b83a172859",
   "metadata": {},
   "outputs": [
    {
     "name": "stdout",
     "output_type": "stream",
     "text": [
      "a 키가 존재 합니다.\n",
      "이숭무\n",
      "dict_values(['이숭무', '이장범'])\n"
     ]
    }
   ],
   "source": [
    "dic = {\"a\":\"이숭무\" , \"b\" : \"이장범\"}\n",
    "if  \"a\"  in dic:\n",
    "    print(\"a 키가 존재 합니다.\")\n",
    "else:\n",
    "    print(\"a 키가 존재하지 않습니다.\")\n",
    "\n",
    "if  \"a\"  in dic: # 딕셔너리에서는 in연산자에서 키가 있는지만 확인\n",
    "    print(dic.get('a'))\n",
    "else:\n",
    "    print(dic.get('a','없어요'))\n",
    "\n",
    "print(dic.values())\n",
    "l = list(dic.values())\n",
    "if \"이숭무\" in l:\n",
    "    print(\"이숭무가 있습니다\")\n",
    "else :\n",
    "    print(\"이숭무가 없습니다\")\n",
    "\n",
    "if \"이숭무\" in list(dic.values()):\n",
    "    print(\"이숭무가 있습니다\")\n",
    "else :\n",
    "    print(\"이숭무가 없습니다\")\n",
    "\n",
    "if  'paper'  in ['paper', 'cellphone', 'money'] :\n",
    "    print('돈이 있습니다')\n",
    "else:\n",
    "    print('돈이 없습니다.')"
   ]
  },
  {
   "cell_type": "code",
   "execution_count": 160,
   "id": "7647f702-c398-4be6-aaa0-cb28d63489b8",
   "metadata": {},
   "outputs": [
    {
     "name": "stdout",
     "output_type": "stream",
     "text": [
      "C\n",
      "###########################################################################\n",
      "C\n"
     ]
    }
   ],
   "source": [
    "# 학점 90이상이면 \"A\" , 80점이상이면 \"B\", 70점이상이면 \"C\" , 60점이상이면 \"D\"\n",
    "# 아니면 \"F\"\n",
    "score = 78\n",
    "if score >= 90: # 100 ~ 90\n",
    "    print(\"A\")\n",
    "elif score >= 80:   # 80 ~ 89\n",
    "    print(\"B\")\n",
    "elif score >= 70:   # 70 ~ 79\n",
    "    print(\"C\")\n",
    "elif score >= 60:   # 60 ~ 69\n",
    "    print(\"D\")\n",
    "else:\n",
    "    print(\"F\")\n",
    "print(\"#####\" * 15)\n",
    "if score >= 90: # 100 ~ 90\n",
    "    message = \"A\"\n",
    "elif score >= 80:   # 80 ~ 89\n",
    "    message = \"B\"\n",
    "elif score >= 70:   # 70 ~ 79\n",
    "    message = \"C\"\n",
    "elif score >= 60:   # 60 ~ 69\n",
    "    message = \"D\"\n",
    "else:\n",
    "    message = \"F\"\n",
    "print(message)"
   ]
  },
  {
   "cell_type": "code",
   "execution_count": 163,
   "id": "990e24ac-7a96-4fa9-a44d-5a937cbac846",
   "metadata": {},
   "outputs": [
    {
     "name": "stdout",
     "output_type": "stream",
     "text": [
      "C\n",
      "C\n"
     ]
    }
   ],
   "source": [
    "if score >= 90:\n",
    "    message = \"A\"\n",
    "else: # ~ 89\n",
    "    if score >= 80:\n",
    "        message = \"B\"\n",
    "    else: # ~ 79\n",
    "        if score >= 70:\n",
    "            message = \"C\"\n",
    "        else:\n",
    "            if score >= 60:\n",
    "                message = \"D\"\n",
    "            else :\n",
    "                message = \"F\"\n",
    "print(message)\n",
    "# 파이썬 스타일 \n",
    "message = \"A\" if score >= 90 else(\n",
    "          \"B\" if score >= 80 else(\n",
    "          \"C\" if score >= 70 else(\n",
    "          \"D\" if score >= 60 else(\n",
    "          \"F\"\n",
    "          ))))\n",
    "print(message)"
   ]
  },
  {
   "cell_type": "code",
   "execution_count": 165,
   "id": "ddb6a292-db46-4424-8de1-fe9ec7340197",
   "metadata": {},
   "outputs": [
    {
     "name": "stdout",
     "output_type": "stream",
     "text": [
      "-10\n",
      "*********************************************\n",
      "-10\n"
     ]
    }
   ],
   "source": [
    "# if문을 이용한 사직연산 \n",
    "a = 10; b = 20; opt = \"sub\"\n",
    "if opt == \"add\":\n",
    "    message = a + b\n",
    "elif opt == \"sub\":\n",
    "    message = a - b\n",
    "elif opt == \"mul\":\n",
    "    message = a * b\n",
    "else:\n",
    "    messge = a / b\n",
    "print(message)\n",
    "print(\"***\" * 15)\n",
    "message = a + b if opt == \"add\" else(\n",
    "          a - b if opt == \"sub\" else(\n",
    "          a * b if opt == \"mul\" else\n",
    "          a / b     \n",
    "          ))\n",
    "print(message)"
   ]
  },
  {
   "cell_type": "code",
   "execution_count": 166,
   "id": "5362db1a-b039-46dc-8b93-f9254501f2bb",
   "metadata": {},
   "outputs": [
    {
     "name": "stdout",
     "output_type": "stream",
     "text": [
      "C+\n"
     ]
    }
   ],
   "source": [
    "# 이중 if문\n",
    "# 95이상이면 A+ 90이상이면 A\n",
    "score = 78\n",
    "if score >= 90: # 90 ~ 100\n",
    "    if score >= 95:\n",
    "        message = \"A+\"\n",
    "    else:\n",
    "        message = \"A\"\n",
    "elif score >= 80:   # 80 ~ 89\n",
    "    if score >= 85:\n",
    "        message = \"B+\"\n",
    "    else:\n",
    "        message = \"B\"\n",
    "elif score >= 70:   # 70 ~ 79\n",
    "    if score >= 75:\n",
    "        message = \"C+\"\n",
    "    else:\n",
    "        message = \"C\"\n",
    "elif score >= 60:   # 60 ~ 69\n",
    "    if score >= 65:\n",
    "        message = \"D+\"\n",
    "    else:\n",
    "        message = \"D\"\n",
    "else:\n",
    "    message = \"F\"\n",
    "print(message)"
   ]
  },
  {
   "cell_type": "code",
   "execution_count": 168,
   "id": "adb70bcc-0550-48c1-8bf1-e641e4175c36",
   "metadata": {},
   "outputs": [
    {
     "name": "stdout",
     "output_type": "stream",
     "text": [
      "나무를 1번찍었습니다\n",
      "나무를 2번찍었습니다\n",
      "나무를 3번찍었습니다\n",
      "나무를 4번찍었습니다\n",
      "나무를 5번찍었습니다\n",
      "나무를 6번찍었습니다\n",
      "나무를 7번찍었습니다\n",
      "나무를 8번찍었습니다\n",
      "나무를 9번찍었습니다\n",
      "나무를 10번찍었습니다\n",
      "나무가 넘어갑니다\n",
      "############################################################\n",
      "나무를 1번찍었습니다\n",
      "나무를 2번찍었습니다\n",
      "나무를 3번찍었습니다\n",
      "나무를 4번찍었습니다\n",
      "나무를 5번찍었습니다\n",
      "나무를 6번찍었습니다\n",
      "나무를 7번찍었습니다\n",
      "나무를 8번찍었습니다\n",
      "나무를 9번찍었습니다\n",
      "나무를 10번찍었습니다\n",
      "나무가 넘어갑니다\n"
     ]
    }
   ],
   "source": [
    "# 제어문 : 조건문 (if) , 반복문 (while, for)\n",
    "# 반복문이란 : 반복적으로 실행되는 명령문을 한번 사용하여 같은 결과를 얻는 것\n",
    "print(\"나무를 1번찍었습니다\")\n",
    "print(\"나무를 2번찍었습니다\")\n",
    "print(\"나무를 3번찍었습니다\")\n",
    "print(\"나무를 4번찍었습니다\")\n",
    "print(\"나무를 5번찍었습니다\")\n",
    "print(\"나무를 6번찍었습니다\")\n",
    "print(\"나무를 7번찍었습니다\")\n",
    "print(\"나무를 8번찍었습니다\")\n",
    "print(\"나무를 9번찍었습니다\")\n",
    "print(\"나무를 10번찍었습니다\")\n",
    "print(\"나무가 넘어갑니다\")\n",
    "print(\"####\" * 15)\n",
    "print(\"나무를 %d번찍었습니다\" % 1)\n",
    "print(\"나무를 %d번찍었습니다\" % 2)\n",
    "print(\"나무를 %d번찍었습니다\" % 3)\n",
    "print(\"나무를 %d번찍었습니다\" % 4)\n",
    "print(\"나무를 %d번찍었습니다\" % 5)\n",
    "print(\"나무를 %d번찍었습니다\" % 6)\n",
    "print(\"나무를 %d번찍었습니다\" % 7)\n",
    "print(\"나무를 %d번찍었습니다\" % 8)\n",
    "print(\"나무를 %d번찍었습니다\" % 9)\n",
    "print(\"나무를 %d번찍었습니다\" % 10)\n",
    "print(\"나무가 넘어갑니다\")"
   ]
  },
  {
   "cell_type": "code",
   "execution_count": 170,
   "id": "5b4779ae-33aa-4b7b-a37c-a58597c3ca67",
   "metadata": {},
   "outputs": [
    {
     "name": "stdout",
     "output_type": "stream",
     "text": [
      "나무를 1번찍었습니다\n",
      "나무를 2번찍었습니다\n",
      "나무를 3번찍었습니다\n",
      "나무를 4번찍었습니다\n",
      "나무를 5번찍었습니다\n",
      "나무를 6번찍었습니다\n",
      "나무를 7번찍었습니다\n",
      "나무를 8번찍었습니다\n",
      "나무를 9번찍었습니다\n",
      "나무를 10번찍었습니다\n",
      "나무가 넘어갑니다\n"
     ]
    }
   ],
   "source": [
    "start = 1\n",
    "while start <= 10:\n",
    "    #print(\"나무를 %d번찍었습니다\" % start)\n",
    "    #print(\"나무를 {0}번찍었습니다\".format(start))\n",
    "    print(f\"나무를 {start}번찍었습니다\")\n",
    "    start = start + 1\n",
    "print(\"나무가 넘어갑니다\")"
   ]
  },
  {
   "cell_type": "code",
   "execution_count": 173,
   "id": "c6e1d63a-6606-4e03-b47d-2b47b780c51b",
   "metadata": {},
   "outputs": [
    {
     "name": "stdout",
     "output_type": "stream",
     "text": [
      " 8 * 1 = 8\n",
      " 8 * 2 = 16\n",
      " 8 * 3 = 24\n",
      " 8 * 4 = 32\n",
      " 8 * 5 = 40\n",
      " 8 * 6 = 48\n",
      " 8 * 7 = 56\n",
      " 8 * 8 = 64\n",
      " 8 * 9 = 72\n"
     ]
    }
   ],
   "source": [
    "# 구구단\n",
    "# 8단\n",
    "'''\n",
    "8 * 1 = 8\n",
    "8 * 2 = 16\n",
    "8 * 3 = 24\n",
    "8 * 4 = 32\n",
    "8 * 5 = 40\n",
    "8 * 6 = 48\n",
    "8 * 7 = 56\n",
    "8 * 8 = 64\n",
    "8 * 9 = 72\n",
    "'''\n",
    "start = 1\n",
    "while start <= 9:\n",
    "    #print(\" 8 * %d = %d\" % (start, 8 * start))\n",
    "    print(\" 8 * {0} = {1}\".format(start, 8 * start))\n",
    "    #print(f\" 8 * {start} = {8 * start}\")\n",
    "    start = start + 1\n",
    "\n",
    "\n"
   ]
  },
  {
   "cell_type": "code",
   "execution_count": 182,
   "id": "05226042-3f4e-4041-ae27-ed774501536e",
   "metadata": {},
   "outputs": [
    {
     "name": "stdout",
     "output_type": "stream",
     "text": [
      " 6 * 1 = 6\n",
      " 6 * 2 = 12\n",
      " 6 * 3 = 18\n",
      " 6 * 4 = 24\n",
      " 6 * 5 = 30\n",
      " 6 * 6 = 36\n",
      " 6 * 7 = 42\n",
      " 6 * 8 = 48\n",
      " 6 * 9 = 54\n"
     ]
    }
   ],
   "source": [
    "dan = 6\n",
    "start = 1\n",
    "endGop = 9\n",
    "while start <= endGop:\n",
    "    print(\" {2} * {0} = {1}\".format(start, dan * start, dan))\n",
    "    start = start + 1"
   ]
  },
  {
   "cell_type": "code",
   "execution_count": 186,
   "id": "d9389868-dbf2-494b-be18-14b6d5abf966",
   "metadata": {},
   "outputs": [
    {
     "name": "stdin",
     "output_type": "stream",
     "text": [
      "단을 입력하세요 :  5\n",
      "시작 곱을 입력하세요 :  3\n",
      "마지막 곱을 입력하세요 :  6\n"
     ]
    },
    {
     "name": "stdout",
     "output_type": "stream",
     "text": [
      " 5 * 3 = 15\n",
      " 5 * 4 = 20\n",
      " 5 * 5 = 25\n",
      " 5 * 6 = 30\n"
     ]
    }
   ],
   "source": [
    "dan = int(input(\"단을 입력하세요 : \"))\n",
    "start = int(input(\"시작 곱을 입력하세요 : \"))\n",
    "endGop = int(input(\"마지막 곱을 입력하세요 : \"))\n",
    "while start <= endGop:\n",
    "    print(\" {2} * {0} = {1}\".format(start, dan * start, dan))\n",
    "    start = start + 1"
   ]
  },
  {
   "cell_type": "code",
   "execution_count": null,
   "id": "a4196664-cb97-4a2c-9b27-7f35bd3b5195",
   "metadata": {},
   "outputs": [],
   "source": []
  },
  {
   "cell_type": "code",
   "execution_count": null,
   "id": "39e502fd-ea82-4110-ac95-0e5845de41b2",
   "metadata": {},
   "outputs": [],
   "source": []
  },
  {
   "cell_type": "code",
   "execution_count": null,
   "id": "aa9f9c31-1c6c-497c-aeb3-5ce2942ad623",
   "metadata": {},
   "outputs": [],
   "source": []
  },
  {
   "cell_type": "code",
   "execution_count": null,
   "id": "1054064e-c80d-49b6-8afa-54cf82ef6a41",
   "metadata": {},
   "outputs": [],
   "source": []
  },
  {
   "cell_type": "code",
   "execution_count": null,
   "id": "9c54c69a-27bc-4b08-9fdb-16cde6e8db23",
   "metadata": {},
   "outputs": [],
   "source": []
  },
  {
   "cell_type": "code",
   "execution_count": null,
   "id": "deda18c9-1261-44fd-80d3-5991ac23c79e",
   "metadata": {},
   "outputs": [],
   "source": []
  }
 ],
 "metadata": {
  "kernelspec": {
   "display_name": "Python 3 (ipykernel)",
   "language": "python",
   "name": "python3"
  },
  "language_info": {
   "codemirror_mode": {
    "name": "ipython",
    "version": 3
   },
   "file_extension": ".py",
   "mimetype": "text/x-python",
   "name": "python",
   "nbconvert_exporter": "python",
   "pygments_lexer": "ipython3",
   "version": "3.13.5"
  }
 },
 "nbformat": 4,
 "nbformat_minor": 5
}
