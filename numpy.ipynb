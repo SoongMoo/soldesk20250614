{
 "cells": [
  {
   "cell_type": "code",
   "execution_count": 2,
   "id": "aa7bb48a-dae0-49d3-8722-7a45b983e0bf",
   "metadata": {},
   "outputs": [
    {
     "name": "stdout",
     "output_type": "stream",
     "text": [
      "Collecting numpy\n",
      "  Downloading numpy-2.3.1-cp313-cp313-win_amd64.whl.metadata (60 kB)\n",
      "Downloading numpy-2.3.1-cp313-cp313-win_amd64.whl (12.7 MB)\n",
      "   ---------------------------------------- 0.0/12.7 MB ? eta -:--:--\n",
      "   ------------------ --------------------- 5.8/12.7 MB 28.9 MB/s eta 0:00:01\n",
      "   ---------------------------------------- 12.7/12.7 MB 31.6 MB/s eta 0:00:00\n",
      "Installing collected packages: numpy\n",
      "Successfully installed numpy-2.3.1\n"
     ]
    }
   ],
   "source": [
    "!pip install numpy"
   ]
  },
  {
   "cell_type": "markdown",
   "id": "2fac1f63-4b5b-4493-af87-204e59694fff",
   "metadata": {},
   "source": [
    "# NumPy ndarray: 다차원 배열 객체"
   ]
  },
  {
   "cell_type": "code",
   "execution_count": 2,
   "id": "fa141fac-fb9f-4f7d-849a-275d20f43e22",
   "metadata": {},
   "outputs": [
    {
     "name": "stdout",
     "output_type": "stream",
     "text": [
      "<class 'list'>\n"
     ]
    }
   ],
   "source": [
    "import numpy as np\n",
    "my_arr = np.arange(1_000_000)\n",
    "my_arr\n",
    "my_arr.shape\n",
    "my_list = list(range(1_000_000))\n",
    "print(type(my_list))"
   ]
  },
  {
   "cell_type": "code",
   "execution_count": 17,
   "id": "e212d4d8-2376-4425-af92-c348b64a29a0",
   "metadata": {},
   "outputs": [
    {
     "data": {
      "text/plain": [
       "array([[ 3. , -0.2,  6. ],\n",
       "       [ 0. , -6. , 13. ]])"
      ]
     },
     "execution_count": 17,
     "metadata": {},
     "output_type": "execute_result"
    }
   ],
   "source": [
    "data = np.array([[1.5, -0.1, 3], [0, -3, 6.5]])\n",
    "data\n",
    "data * 10  \n",
    "data + data"
   ]
  },
  {
   "cell_type": "code",
   "execution_count": 19,
   "id": "db45f99a-fc47-43a5-affd-aadc640bc2c2",
   "metadata": {},
   "outputs": [
    {
     "data": {
      "text/plain": [
       "dtype('float64')"
      ]
     },
     "execution_count": 19,
     "metadata": {},
     "output_type": "execute_result"
    }
   ],
   "source": [
    "data.shape # \n",
    "data.dtype"
   ]
  },
  {
   "cell_type": "markdown",
   "id": "437c32d5-bc41-49ec-98a2-bfd257642e40",
   "metadata": {},
   "source": [
    "# ndarrays 생성"
   ]
  },
  {
   "cell_type": "code",
   "execution_count": 23,
   "id": "64b07368-c435-4bfd-a699-d7cab6b81672",
   "metadata": {},
   "outputs": [
    {
     "name": "stdout",
     "output_type": "stream",
     "text": [
      "[6, 7.5, 8, 0, 1]\n",
      "[6.  7.5 8.  0.  1. ]\n"
     ]
    }
   ],
   "source": [
    "data1 = [6, 7.5, 8, 0, 1]\n",
    "print(data1)\n",
    "arr1 = np.array(data1)\n",
    "print(arr1)"
   ]
  },
  {
   "cell_type": "code",
   "execution_count": 25,
   "id": "7a5ebb28-edb8-4bec-8006-a537352d3024",
   "metadata": {},
   "outputs": [
    {
     "name": "stdout",
     "output_type": "stream",
     "text": [
      "[[1 2 3 4]\n",
      " [5 6 7 8]]\n"
     ]
    }
   ],
   "source": [
    "data2 = [[1, 2, 3, 4], [5, 6, 7, 8]]\n",
    "arr2 = np.array(data2)\n",
    "print(arr2)"
   ]
  },
  {
   "cell_type": "code",
   "execution_count": 26,
   "id": "dd288cdf-2355-44fd-854b-68134f5739a0",
   "metadata": {},
   "outputs": [
    {
     "name": "stdout",
     "output_type": "stream",
     "text": [
      "2\n",
      "(2, 4)\n"
     ]
    }
   ],
   "source": [
    "print(arr2.ndim) # 몇개의 차원인지\n",
    "print(arr2.shape) # 전체의 차원"
   ]
  },
  {
   "cell_type": "code",
   "execution_count": 27,
   "id": "e6bd02af-19c1-4f4b-8bc1-e96e02a36240",
   "metadata": {},
   "outputs": [
    {
     "name": "stdout",
     "output_type": "stream",
     "text": [
      "float64\n",
      "int64\n"
     ]
    }
   ],
   "source": [
    "print(arr1.dtype)\n",
    "print(arr2.dtype)"
   ]
  },
  {
   "cell_type": "code",
   "execution_count": 32,
   "id": "c09cc972-a5f9-4a27-8087-ac1b0138c025",
   "metadata": {},
   "outputs": [
    {
     "name": "stdout",
     "output_type": "stream",
     "text": [
      "[0. 0. 0. 0. 0. 0. 0. 0. 0. 0.]\n",
      "[[0. 0. 0. 0. 0. 0.]\n",
      " [0. 0. 0. 0. 0. 0.]\n",
      " [0. 0. 0. 0. 0. 0.]]\n",
      "[[[1.33868360e-311 2.81617418e-322]\n",
      "  [0.00000000e+000 0.00000000e+000]\n",
      "  [1.13073288e+277 2.92966904e-033]]\n",
      "\n",
      " [[6.50597214e-091 4.08529769e+179]\n",
      "  [2.32784330e-057 1.53266811e-047]\n",
      "  [6.48224659e+170 4.93432906e+257]]]\n"
     ]
    }
   ],
   "source": [
    "z = np.zeros(10) # 1차원 0행열\n",
    "print(z)\n",
    "z = np.zeros((3, 6)) # 2차원 0행렬\n",
    "print(z)\n",
    "z = np.empty((2, 3, 2)) # 반 배열 만들기 ( 초기화되지 않은 배열 : 쓰래기 값이 들어 감)\n",
    "print(z) # 3차원 0행렬"
   ]
  },
  {
   "cell_type": "markdown",
   "id": "95911d0e-b945-42cc-9804-5b253947d63d",
   "metadata": {},
   "source": [
    "# ndarray의 데이터 유형"
   ]
  },
  {
   "cell_type": "code",
   "execution_count": 35,
   "id": "b23c4649-1fd6-4ee2-880f-89d5e498ffaa",
   "metadata": {},
   "outputs": [
    {
     "data": {
      "text/plain": [
       "array([ 0,  1,  2,  3,  4,  5,  6,  7,  8,  9, 10, 11, 12, 13, 14])"
      ]
     },
     "execution_count": 35,
     "metadata": {},
     "output_type": "execute_result"
    }
   ],
   "source": [
    "np.arange(15) # 0~ 14까지 15개의 값을 갖는다.\n",
    "num = np.arange(15)\n",
    "num"
   ]
  },
  {
   "cell_type": "code",
   "execution_count": 37,
   "id": "ad49a9f1-06a9-4538-80e0-7a7622f63466",
   "metadata": {},
   "outputs": [
    {
     "name": "stdout",
     "output_type": "stream",
     "text": [
      "float64\n",
      "[1. 2. 3.]\n",
      "int32\n",
      "[1 2 3]\n"
     ]
    }
   ],
   "source": [
    "arr1 = np.array([1, 2, 3], dtype=np.float64) # 1차원 배열 타입은 실수\n",
    "print(arr1.dtype)\n",
    "print(arr1)\n",
    "arr2 = np.array([1, 2, 3], dtype=np.int32)\n",
    "print(arr2.dtype)\n",
    "print(arr2)"
   ]
  },
  {
   "cell_type": "code",
   "execution_count": 39,
   "id": "cd224699-d63b-464e-9aff-ac4f4189af2a",
   "metadata": {},
   "outputs": [
    {
     "name": "stdout",
     "output_type": "stream",
     "text": [
      "int64\n",
      "[1. 2. 3. 4. 5.]\n",
      "float64\n"
     ]
    }
   ],
   "source": [
    "arr = np.array([1, 2, 3, 4, 5])\n",
    "print(arr.dtype)\n",
    "float_arr = arr.astype(np.float64) # 타입 변경하기\n",
    "print(float_arr)\n",
    "print(float_arr.dtype)"
   ]
  },
  {
   "cell_type": "code",
   "execution_count": 43,
   "id": "2d89a707-1991-4553-8c12-6dc715641c4b",
   "metadata": {},
   "outputs": [
    {
     "name": "stdout",
     "output_type": "stream",
     "text": [
      "[ 3.7 -1.2 -2.6  0.5 12.9 10.1]\n",
      "[ 3 -1 -2  0 12 10]\n"
     ]
    }
   ],
   "source": [
    "arr = np.array([3.7, -1.2, -2.6, 0.5, 12.9, 10.1])\n",
    "print(arr)\n",
    "print(arr.astype(np.int32))"
   ]
  },
  {
   "cell_type": "code",
   "execution_count": 55,
   "id": "98e90cd9-c195-4920-aafc-4b388c8ec3fd",
   "metadata": {},
   "outputs": [
    {
     "name": "stdout",
     "output_type": "stream",
     "text": [
      "['1.25' '-9.6' '42']\n",
      "[ 1.25 -9.6  42.  ]\n"
     ]
    }
   ],
   "source": [
    "numeric_strings = np.array([\"1.25\", \"-9.6\", \"42\"])\n",
    "print(numeric_strings)\n",
    "numeric_strings = numeric_strings.astype(np.float64)\n",
    "print(numeric_strings)"
   ]
  },
  {
   "cell_type": "code",
   "execution_count": 61,
   "id": "7210804a-24b8-422c-9410-a1415d780326",
   "metadata": {},
   "outputs": [
    {
     "name": "stdout",
     "output_type": "stream",
     "text": [
      "[0 1 2 3 4 5 6 7 8 9]\n",
      "float64\n",
      "[0. 1. 2. 3. 4. 5. 6. 7. 8. 9.]\n"
     ]
    }
   ],
   "source": [
    "int_array = np.arange(10)\n",
    "print(int_array)\n",
    "calibers = np.array([.22, .270, .357, .380, .44, .50], dtype=np.float64)\n",
    "converted = int_array.astype(calibers.dtype)\n",
    "print(converted.dtype)\n",
    "print(converted)"
   ]
  },
  {
   "cell_type": "code",
   "execution_count": 62,
   "id": "d84a7b54-1419-4d8b-85e2-751c75443f97",
   "metadata": {},
   "outputs": [
    {
     "data": {
      "text/plain": [
       "array([0, 0, 0, 0, 0, 0, 0, 0], dtype=uint32)"
      ]
     },
     "execution_count": 62,
     "metadata": {},
     "output_type": "execute_result"
    }
   ],
   "source": [
    "zeros_uint32 = np.zeros(8, dtype=\"u4\")\n",
    "zeros_uint32"
   ]
  },
  {
   "cell_type": "markdown",
   "id": "0acef586-b515-4335-a411-e365dee7e948",
   "metadata": {},
   "source": [
    "# NumPy 배열을 사용한 산술"
   ]
  },
  {
   "cell_type": "code",
   "execution_count": 66,
   "id": "f9ccb379-504f-4b58-8f05-a0fdffa3a5a2",
   "metadata": {},
   "outputs": [
    {
     "name": "stdout",
     "output_type": "stream",
     "text": [
      "[[1. 2. 3.]\n",
      " [4. 5. 6.]]\n",
      "[[ 1.  4.  9.]\n",
      " [16. 25. 36.]]\n",
      "[[0. 0. 0.]\n",
      " [0. 0. 0.]]\n"
     ]
    }
   ],
   "source": [
    "arr = np.array([[1., 2., 3.], [4., 5., 6.]])\n",
    "print(arr)\n",
    "result = arr * arr\n",
    "print(result)\n",
    "result = arr - arr\n",
    "print(result)"
   ]
  },
  {
   "cell_type": "code",
   "execution_count": 68,
   "id": "7781cfd6-fd5c-4cc0-b745-c3c144ccc53b",
   "metadata": {},
   "outputs": [
    {
     "name": "stdout",
     "output_type": "stream",
     "text": [
      "[[1.         0.5        0.33333333]\n",
      " [0.25       0.2        0.16666667]]\n",
      "[[ 1.  4.  9.]\n",
      " [16. 25. 36.]]\n"
     ]
    }
   ],
   "source": [
    "result = 1 / arr\n",
    "print(result)\n",
    "result = arr ** 2\n",
    "print(result)"
   ]
  },
  {
   "cell_type": "code",
   "execution_count": 70,
   "id": "5e7237bc-bc90-4804-988f-5cdf500ccd85",
   "metadata": {},
   "outputs": [
    {
     "name": "stdout",
     "output_type": "stream",
     "text": [
      "[[ 0.  4.  1.]\n",
      " [ 7.  2. 12.]]\n",
      "[[False  True False]\n",
      " [ True False  True]]\n"
     ]
    }
   ],
   "source": [
    "arr2 = np.array([[0., 4., 1.], [7., 2., 12.]])\n",
    "print(arr2)\n",
    "result = arr2 > arr # 팬시 index\n",
    "print(result)"
   ]
  },
  {
   "cell_type": "markdown",
   "id": "fc0768cd-37c4-4f91-9fdf-4f0f084409f0",
   "metadata": {},
   "source": [
    "# 기본 인덱싱 및 슬라이싱"
   ]
  },
  {
   "cell_type": "code",
   "execution_count": 72,
   "id": "dcaeea11-7eea-4adc-b853-fe8821384d01",
   "metadata": {},
   "outputs": [
    {
     "name": "stdout",
     "output_type": "stream",
     "text": [
      "[0 1 2 3 4 5 6 7 8 9]\n",
      "5\n",
      "[5 6 7]\n",
      "[ 0  1  2  3  4 12 12 12  8  9]\n"
     ]
    }
   ],
   "source": [
    "arr = np.arange(10)\n",
    "print(arr)\n",
    "print(arr[5])\n",
    "print(arr[5:8])\n",
    "arr[5:8] = 12\n",
    "print(arr)"
   ]
  },
  {
   "cell_type": "code",
   "execution_count": 75,
   "id": "f6bf5476-4d61-482b-a30d-67a2d0ef9423",
   "metadata": {},
   "outputs": [
    {
     "name": "stdout",
     "output_type": "stream",
     "text": [
      "[   12 12345    12]\n",
      "[   12 12345    12]\n",
      "[    0     1     2     3     4    12 12345    12     8     9]\n"
     ]
    }
   ],
   "source": [
    "arr_slice = arr[5:8]\n",
    "print(arr_slice)\n",
    "arr_slice[1] = 12345\n",
    "print(arr_slice)\n",
    "print(arr)"
   ]
  },
  {
   "cell_type": "code",
   "execution_count": 76,
   "id": "2621e797-5453-4923-8bcd-1fee77ccdc85",
   "metadata": {},
   "outputs": [
    {
     "name": "stdout",
     "output_type": "stream",
     "text": [
      "[64 64 64]\n",
      "[ 0  1  2  3  4 64 64 64  8  9]\n"
     ]
    }
   ],
   "source": [
    "arr_slice[:] = 64\n",
    "print(arr_slice)\n",
    "print(arr)"
   ]
  },
  {
   "cell_type": "code",
   "execution_count": 79,
   "id": "c2c76f7a-87d3-4972-b5bc-14639ec3860a",
   "metadata": {},
   "outputs": [
    {
     "name": "stdout",
     "output_type": "stream",
     "text": [
      "[[1 2 3]\n",
      " [4 5 6]\n",
      " [7 8 9]]\n",
      "[7 8 9]\n",
      "3\n",
      "3\n"
     ]
    }
   ],
   "source": [
    "arr2d = np.array([[1, 2, 3], [4, 5, 6], [7, 8, 9]])\n",
    "print(arr2d)\n",
    "print(arr2d[2])\n",
    "print(arr2d[0, 2])\n",
    "print(arr2d[0][2])"
   ]
  },
  {
   "cell_type": "code",
   "execution_count": 102,
   "id": "1e1cee8c-8157-4b7d-8556-f90a575b742c",
   "metadata": {},
   "outputs": [
    {
     "name": "stdout",
     "output_type": "stream",
     "text": [
      "[[[ 1  2  3]\n",
      "  [ 4  5  6]]\n",
      "\n",
      " [[ 7  8  9]\n",
      "  [10 11 12]]]\n",
      "[[1 2 3]\n",
      " [4 5 6]]\n"
     ]
    }
   ],
   "source": [
    "arr3d = np.array([[[1, 2, 3], [4, 5, 6]], [[7, 8, 9], [10, 11, 12]]])\n",
    "print(arr3d)\n",
    "print(arr3d[0])"
   ]
  },
  {
   "cell_type": "code",
   "execution_count": 103,
   "id": "4b5ca9df-741b-470d-874f-19228aced14e",
   "metadata": {},
   "outputs": [
    {
     "name": "stdout",
     "output_type": "stream",
     "text": [
      "[[1 2 3]\n",
      " [4 5 6]]\n",
      "[[[42 42 42]\n",
      "  [42 42 42]]\n",
      "\n",
      " [[ 7  8  9]\n",
      "  [10 11 12]]]\n"
     ]
    }
   ],
   "source": [
    "old_values = arr3d[0].copy()\n",
    "print(old_values)\n",
    "arr3d[0] = 42\n",
    "print(arr3d)"
   ]
  },
  {
   "cell_type": "code",
   "execution_count": 104,
   "id": "941128c3-c7e9-42e9-9cdf-2c8fa0a8d49c",
   "metadata": {},
   "outputs": [
    {
     "name": "stdout",
     "output_type": "stream",
     "text": [
      "[[1 2 3]\n",
      " [4 5 6]]\n",
      "[[42 42 42]\n",
      " [42 42 42]]\n",
      "[[[42 42 42]\n",
      "  [42 42 42]]\n",
      "\n",
      " [[ 7  8  9]\n",
      "  [10 11 12]]]\n",
      "[[[ 1  2  3]\n",
      "  [ 4  5  6]]\n",
      "\n",
      " [[ 7  8  9]\n",
      "  [10 11 12]]]\n"
     ]
    }
   ],
   "source": [
    "print(old_values)\n",
    "print(arr3d[0])\n",
    "print(arr3d)\n",
    "arr3d[0] = old_values\n",
    "print(arr3d)"
   ]
  },
  {
   "cell_type": "code",
   "execution_count": 105,
   "id": "1ff3de59-d24f-478d-81fd-6551075f52f5",
   "metadata": {},
   "outputs": [
    {
     "data": {
      "text/plain": [
       "array([7, 8, 9])"
      ]
     },
     "execution_count": 105,
     "metadata": {},
     "output_type": "execute_result"
    }
   ],
   "source": [
    "arr3d[1, 0]"
   ]
  },
  {
   "cell_type": "code",
   "execution_count": 106,
   "id": "acdfb5b2-7176-4e48-820e-a9bc267e4ca2",
   "metadata": {},
   "outputs": [
    {
     "name": "stdout",
     "output_type": "stream",
     "text": [
      "[[ 7  8  9]\n",
      " [10 11 12]]\n",
      "[7 8 9]\n"
     ]
    }
   ],
   "source": [
    "x = arr3d[1]\n",
    "print(x)\n",
    "print(x[0])"
   ]
  },
  {
   "cell_type": "markdown",
   "id": "69e9a2c5-b132-4e7a-b9fa-4cb7056ced06",
   "metadata": {},
   "source": [
    "# 슬라이스를 사용한 인덱싱"
   ]
  },
  {
   "cell_type": "code",
   "execution_count": 108,
   "id": "efe5db0f-1522-4051-ad43-3a3f87c92787",
   "metadata": {},
   "outputs": [
    {
     "data": {
      "text/plain": [
       "array([ 0,  1,  2,  3,  4, 64, 64, 64,  8,  9])"
      ]
     },
     "execution_count": 108,
     "metadata": {},
     "output_type": "execute_result"
    }
   ],
   "source": [
    "arr"
   ]
  },
  {
   "cell_type": "code",
   "execution_count": 110,
   "id": "f224871c-9319-44ea-b805-f9c228920554",
   "metadata": {},
   "outputs": [
    {
     "data": {
      "text/plain": [
       "array([ 1,  2,  3,  4, 64])"
      ]
     },
     "execution_count": 110,
     "metadata": {},
     "output_type": "execute_result"
    }
   ],
   "source": [
    "arr[1:6]"
   ]
  },
  {
   "cell_type": "code",
   "execution_count": 112,
   "id": "4fbf68bf-633c-416a-a71a-eef43d737cc3",
   "metadata": {},
   "outputs": [
    {
     "data": {
      "text/plain": [
       "array([[1, 2, 3],\n",
       "       [4, 5, 6],\n",
       "       [7, 8, 9]])"
      ]
     },
     "execution_count": 112,
     "metadata": {},
     "output_type": "execute_result"
    }
   ],
   "source": [
    "arr2d"
   ]
  },
  {
   "cell_type": "code",
   "execution_count": 114,
   "id": "fe3a235a-6010-4ce9-a234-7197028dd2c0",
   "metadata": {},
   "outputs": [
    {
     "data": {
      "text/plain": [
       "array([[1, 2, 3],\n",
       "       [4, 5, 6]])"
      ]
     },
     "execution_count": 114,
     "metadata": {},
     "output_type": "execute_result"
    }
   ],
   "source": [
    "arr2d[:2]"
   ]
  },
  {
   "cell_type": "code",
   "execution_count": 115,
   "id": "04775c1f-ecdb-47d4-b5d9-c5408ed95916",
   "metadata": {},
   "outputs": [
    {
     "data": {
      "text/plain": [
       "array([[2, 3],\n",
       "       [5, 6]])"
      ]
     },
     "execution_count": 115,
     "metadata": {},
     "output_type": "execute_result"
    }
   ],
   "source": [
    "arr2d[:2, 1:]"
   ]
  },
  {
   "cell_type": "code",
   "execution_count": 119,
   "id": "64245ab6-9be7-4b50-89f3-66dfe0b2fbf3",
   "metadata": {},
   "outputs": [
    {
     "name": "stdout",
     "output_type": "stream",
     "text": [
      "[4 5]\n",
      "(2,)\n"
     ]
    }
   ],
   "source": [
    "#  두 번째 행을 선택하고 처음 두 열만 선택\n",
    "lower_dim_slice = arr2d[1, :2]\n",
    "print(lower_dim_slice)\n",
    "print(lower_dim_slice.shape)"
   ]
  },
  {
   "cell_type": "code",
   "execution_count": 122,
   "id": "1f4b385f-de9d-4386-a656-6d8e1e316966",
   "metadata": {},
   "outputs": [
    {
     "name": "stdout",
     "output_type": "stream",
     "text": [
      "[[1 2 3]\n",
      " [4 5 6]\n",
      " [7 8 9]]\n",
      "[3 6]\n"
     ]
    }
   ],
   "source": [
    "#  세 번째 열은 선택하고 처음 두 행만 선택\n",
    "print(arr2d)\n",
    "print(arr2d[:2, 2])"
   ]
  },
  {
   "cell_type": "code",
   "execution_count": 123,
   "id": "ce12fa19-57bb-4832-a9d1-8d3807ebe8e2",
   "metadata": {},
   "outputs": [
    {
     "name": "stdout",
     "output_type": "stream",
     "text": [
      "[[1]\n",
      " [4]\n",
      " [7]]\n"
     ]
    }
   ],
   "source": [
    "print(arr2d[:, :1])"
   ]
  },
  {
   "cell_type": "code",
   "execution_count": 124,
   "id": "3a8eeb6a-09aa-41a9-b506-f664e2dac9aa",
   "metadata": {},
   "outputs": [
    {
     "name": "stdout",
     "output_type": "stream",
     "text": [
      "[[1 2 3]\n",
      " [4 5 6]\n",
      " [7 8 9]]\n",
      "[[1 0 0]\n",
      " [4 0 0]\n",
      " [7 8 9]]\n"
     ]
    }
   ],
   "source": [
    "print(arr2d)\n",
    "arr2d[:2, 1:] = 0\n",
    "print(arr2d)"
   ]
  },
  {
   "cell_type": "markdown",
   "id": "53c2a8be-16cd-4b2e-bdad-11871175ff6f",
   "metadata": {},
   "source": [
    "# 부울 인덱싱"
   ]
  },
  {
   "cell_type": "code",
   "execution_count": 158,
   "id": "f5227d8f-c575-478b-874c-7bd64e82e7d5",
   "metadata": {},
   "outputs": [
    {
     "name": "stdout",
     "output_type": "stream",
     "text": [
      "['Bob' 'Joe' 'Will' 'Bob' 'Will' 'Joe' 'Joe']\n",
      "[[  4   7]\n",
      " [  0   2]\n",
      " [ -5   6]\n",
      " [  0   0]\n",
      " [  1   2]\n",
      " [-12  -4]\n",
      " [  3   4]]\n"
     ]
    }
   ],
   "source": [
    "names = np.array([\"Bob\", \"Joe\", \"Will\", \"Bob\", \"Will\", \"Joe\", \"Joe\"])\n",
    "data = np.array([[4, 7], [0, 2], [-5, 6], [0, 0], [1, 2],[-12, -4], [3, 4]])\n",
    "print(names)\n",
    "print(data)"
   ]
  },
  {
   "cell_type": "code",
   "execution_count": 128,
   "id": "202df9e7-615d-426e-82ed-6e74f35f484b",
   "metadata": {},
   "outputs": [
    {
     "name": "stdout",
     "output_type": "stream",
     "text": [
      "[ True False False  True False False False]\n"
     ]
    }
   ],
   "source": [
    "print(names == \"Bob\")"
   ]
  },
  {
   "cell_type": "code",
   "execution_count": 159,
   "id": "f047e559-453d-435e-af75-0b9781ffe5e8",
   "metadata": {},
   "outputs": [
    {
     "name": "stdout",
     "output_type": "stream",
     "text": [
      "[[4 7]\n",
      " [0 0]]\n",
      "\n",
      "[[4 7]\n",
      " [0 0]]\n"
     ]
    }
   ],
   "source": [
    "print(data[names == \"Bob\"])\n",
    "print()\n",
    "print(data[[True, False, False,  True, False, False, False]])"
   ]
  },
  {
   "cell_type": "code",
   "execution_count": 160,
   "id": "2092b70c-8215-49ee-90c1-1c216fce9949",
   "metadata": {},
   "outputs": [
    {
     "name": "stdout",
     "output_type": "stream",
     "text": [
      "[[4 7]\n",
      " [0 0]]\n",
      "[[7]\n",
      " [0]]\n",
      "[7 0]\n"
     ]
    }
   ],
   "source": [
    "print(data[names == \"Bob\"])\n",
    "print(data[names == \"Bob\", 1:])\n",
    "print(data[names == \"Bob\", 1])"
   ]
  },
  {
   "cell_type": "code",
   "execution_count": 161,
   "id": "3ed787a1-5eb7-434a-9088-7dc275e0239a",
   "metadata": {},
   "outputs": [
    {
     "name": "stdout",
     "output_type": "stream",
     "text": [
      "[False  True  True False  True  True  True]\n",
      "[False  True  True False  True  True  True]\n",
      "[[  0   2]\n",
      " [ -5   6]\n",
      " [  1   2]\n",
      " [-12  -4]\n",
      " [  3   4]]\n",
      "[[  0   2]\n",
      " [ -5   6]\n",
      " [  1   2]\n",
      " [-12  -4]\n",
      " [  3   4]]\n"
     ]
    }
   ],
   "source": [
    "print(names != \"Bob\")\n",
    "print(~(names == \"Bob\"))\n",
    "print(data[~(names == \"Bob\")])\n",
    "print(data[[False,  True,  True, False,  True,  True,  True]])"
   ]
  },
  {
   "cell_type": "code",
   "execution_count": 162,
   "id": "1fe4f513-711d-49e4-aa21-cd1ff2d5c66d",
   "metadata": {},
   "outputs": [
    {
     "name": "stdout",
     "output_type": "stream",
     "text": [
      "[ True False False  True False False False]\n",
      "[False  True  True False  True  True  True]\n",
      "[[  0   2]\n",
      " [ -5   6]\n",
      " [  1   2]\n",
      " [-12  -4]\n",
      " [  3   4]]\n",
      "[[  0   2]\n",
      " [ -5   6]\n",
      " [  1   2]\n",
      " [-12  -4]\n",
      " [  3   4]]\n"
     ]
    }
   ],
   "source": [
    "cond = names == \"Bob\"\n",
    "print(cond)\n",
    "print(~cond)\n",
    "print(data[~cond])\n",
    "print(data[[False,  True,  True, False,  True,  True,  True]])"
   ]
  },
  {
   "cell_type": "code",
   "execution_count": 163,
   "id": "526425e0-6b83-45f4-ae91-bef32a365e7e",
   "metadata": {},
   "outputs": [
    {
     "name": "stdout",
     "output_type": "stream",
     "text": [
      "[ True False  True  True  True False False]\n",
      "[[ 4  7]\n",
      " [-5  6]\n",
      " [ 0  0]\n",
      " [ 1  2]]\n",
      "[[ 4  7]\n",
      " [-5  6]\n",
      " [ 0  0]\n",
      " [ 1  2]]\n"
     ]
    }
   ],
   "source": [
    "mask = (names == \"Bob\") | (names == \"Will\")\n",
    "print(mask)\n",
    "print(data[mask])\n",
    "print(data[[ True, False,  True,  True,  True, False, False]])"
   ]
  },
  {
   "cell_type": "code",
   "execution_count": 164,
   "id": "26dc6ad8-ba72-4949-8297-b5cb74dc160d",
   "metadata": {},
   "outputs": [
    {
     "name": "stdout",
     "output_type": "stream",
     "text": [
      "[[  4   7]\n",
      " [  0   2]\n",
      " [ -5   6]\n",
      " [  0   0]\n",
      " [  1   2]\n",
      " [-12  -4]\n",
      " [  3   4]]\n",
      "[[4 7]\n",
      " [0 2]\n",
      " [0 6]\n",
      " [0 0]\n",
      " [1 2]\n",
      " [0 0]\n",
      " [3 4]]\n"
     ]
    }
   ],
   "source": [
    "print(data)\n",
    "data[data < 0] = 0 # 0보다 작은 값을 모두 0으로 변경\n",
    "print(data)"
   ]
  },
  {
   "cell_type": "code",
   "execution_count": 165,
   "id": "5a78f148-a3cb-404d-a7ce-e00802d0d22f",
   "metadata": {},
   "outputs": [
    {
     "data": {
      "text/plain": [
       "[array([ True, False,  True,  True,  True, False, False])]"
      ]
     },
     "execution_count": 165,
     "metadata": {},
     "output_type": "execute_result"
    }
   ],
   "source": [
    "[names != \"Joe\"]"
   ]
  },
  {
   "cell_type": "code",
   "execution_count": 166,
   "id": "0986168c-169b-44ec-8d7f-569d2fd8baf5",
   "metadata": {},
   "outputs": [],
   "source": [
    "data[names != \"Joe\"] = 7  # [ True, False,  True,  True,  True, False, False]"
   ]
  },
  {
   "cell_type": "code",
   "execution_count": 167,
   "id": "cf4d72c2-0c08-441a-aee1-888528addad9",
   "metadata": {},
   "outputs": [
    {
     "data": {
      "text/plain": [
       "array([[7, 7],\n",
       "       [0, 2],\n",
       "       [7, 7],\n",
       "       [7, 7],\n",
       "       [7, 7],\n",
       "       [0, 0],\n",
       "       [3, 4]])"
      ]
     },
     "execution_count": 167,
     "metadata": {},
     "output_type": "execute_result"
    }
   ],
   "source": [
    "data"
   ]
  },
  {
   "cell_type": "code",
   "execution_count": 169,
   "id": "9d2cc3c9-bc4f-40f3-9e79-4880b8088d4c",
   "metadata": {},
   "outputs": [
    {
     "name": "stdout",
     "output_type": "stream",
     "text": [
      "[[0. 0. 0. 0.]\n",
      " [0. 0. 0. 0.]\n",
      " [0. 0. 0. 0.]\n",
      " [0. 0. 0. 0.]\n",
      " [0. 0. 0. 0.]\n",
      " [0. 0. 0. 0.]\n",
      " [0. 0. 0. 0.]\n",
      " [0. 0. 0. 0.]]\n",
      "[[0. 0. 0. 0.]\n",
      " [1. 1. 1. 1.]\n",
      " [2. 2. 2. 2.]\n",
      " [3. 3. 3. 3.]\n",
      " [4. 4. 4. 4.]\n",
      " [5. 5. 5. 5.]\n",
      " [6. 6. 6. 6.]\n",
      " [7. 7. 7. 7.]]\n"
     ]
    }
   ],
   "source": [
    "arr = np.zeros((8, 4))\n",
    "print(arr)\n",
    "for i in range(8):\n",
    "    arr[i] = i\n",
    "print(arr)"
   ]
  },
  {
   "cell_type": "code",
   "execution_count": 170,
   "id": "0908c36b-022e-4efd-8f97-53351fdfd885",
   "metadata": {},
   "outputs": [
    {
     "name": "stdout",
     "output_type": "stream",
     "text": [
      "[[4. 4. 4. 4.]\n",
      " [3. 3. 3. 3.]\n",
      " [0. 0. 0. 0.]\n",
      " [6. 6. 6. 6.]]\n"
     ]
    }
   ],
   "source": [
    "print(arr[[4, 3, 0, 6]])"
   ]
  },
  {
   "cell_type": "code",
   "execution_count": 171,
   "id": "71226a8c-db5d-4167-b8ed-0e89c9d23e31",
   "metadata": {},
   "outputs": [
    {
     "name": "stdout",
     "output_type": "stream",
     "text": [
      "[[5. 5. 5. 5.]\n",
      " [3. 3. 3. 3.]\n",
      " [1. 1. 1. 1.]]\n"
     ]
    }
   ],
   "source": [
    "print(arr[[-3, -5, -7]])"
   ]
  },
  {
   "cell_type": "code",
   "execution_count": 175,
   "id": "ddd9218a-097c-4ab0-964e-e48d9c727940",
   "metadata": {},
   "outputs": [
    {
     "name": "stdout",
     "output_type": "stream",
     "text": [
      "[[ 0  1  2  3]\n",
      " [ 4  5  6  7]\n",
      " [ 8  9 10 11]\n",
      " [12 13 14 15]\n",
      " [16 17 18 19]\n",
      " [20 21 22 23]\n",
      " [24 25 26 27]\n",
      " [28 29 30 31]]\n",
      "\n",
      "[ 4 23 29 10]\n"
     ]
    }
   ],
   "source": [
    "arr = np.arange(32).reshape((8, 4))\n",
    "print(arr)\n",
    "print()\n",
    "print(arr[[1, 5, 7, 2], [0, 3, 1, 2]])"
   ]
  },
  {
   "cell_type": "code",
   "execution_count": 176,
   "id": "e94a2e09-5f4d-4c1d-bc3c-9929dd29a4dc",
   "metadata": {},
   "outputs": [
    {
     "name": "stdout",
     "output_type": "stream",
     "text": [
      "[[ 0  1  2  3]\n",
      " [ 4  5  6  7]\n",
      " [ 8  9 10 11]\n",
      " [12 13 14 15]\n",
      " [16 17 18 19]\n",
      " [20 21 22 23]\n",
      " [24 25 26 27]\n",
      " [28 29 30 31]]\n",
      "\n",
      "[[ 4  7  5  6]\n",
      " [20 23 21 22]\n",
      " [28 31 29 30]\n",
      " [ 8 11  9 10]]\n"
     ]
    }
   ],
   "source": [
    "print(arr)\n",
    "print()\n",
    "print(arr[[1, 5, 7, 2]][:, [0, 3, 1, 2]])"
   ]
  },
  {
   "cell_type": "code",
   "execution_count": 177,
   "id": "222c8db7-c779-459b-a93c-c6d8937cef46",
   "metadata": {},
   "outputs": [
    {
     "name": "stdout",
     "output_type": "stream",
     "text": [
      "[[ 0  1  2  3]\n",
      " [ 4  5  6  7]\n",
      " [ 8  9 10 11]\n",
      " [12 13 14 15]\n",
      " [16 17 18 19]\n",
      " [20 21 22 23]\n",
      " [24 25 26 27]\n",
      " [28 29 30 31]]\n",
      "\n",
      "[ 4 23 29 10]\n"
     ]
    }
   ],
   "source": [
    "print(arr)\n",
    "print()\n",
    "print(arr[[1, 5, 7, 2], [0, 3, 1, 2]])"
   ]
  },
  {
   "cell_type": "code",
   "execution_count": 178,
   "id": "01df9a27-7c52-4f8d-918e-4189027113ea",
   "metadata": {},
   "outputs": [
    {
     "name": "stdout",
     "output_type": "stream",
     "text": [
      "[[ 0  1  2  3]\n",
      " [ 4  5  6  7]\n",
      " [ 8  9 10 11]\n",
      " [12 13 14 15]\n",
      " [16 17 18 19]\n",
      " [20 21 22 23]\n",
      " [24 25 26 27]\n",
      " [28 29 30 31]]\n",
      "==========================================================================================\n",
      "[[ 0  1  2  3]\n",
      " [ 0  5  6  7]\n",
      " [ 8  9  0 11]\n",
      " [12 13 14 15]\n",
      " [16 17 18 19]\n",
      " [20 21 22  0]\n",
      " [24 25 26 27]\n",
      " [28  0 30 31]]\n"
     ]
    }
   ],
   "source": [
    "print(arr)\n",
    "print(\"===\" * 30)\n",
    "arr[[1, 5, 7, 2], [0, 3, 1, 2]] = 0\n",
    "print(arr)"
   ]
  },
  {
   "cell_type": "markdown",
   "id": "04cb6cba-a137-41a8-9077-b58f6d0e9276",
   "metadata": {},
   "source": [
    "# 배열 전치 및 축 교체"
   ]
  },
  {
   "cell_type": "code",
   "execution_count": 180,
   "id": "015ebfbe-271f-4f31-9243-35d658a10bbd",
   "metadata": {},
   "outputs": [
    {
     "name": "stdout",
     "output_type": "stream",
     "text": [
      "[[ 0  1  2  3  4]\n",
      " [ 5  6  7  8  9]\n",
      " [10 11 12 13 14]]\n",
      "[[ 0  5 10]\n",
      " [ 1  6 11]\n",
      " [ 2  7 12]\n",
      " [ 3  8 13]\n",
      " [ 4  9 14]]\n"
     ]
    }
   ],
   "source": [
    "arr = np.arange(15).reshape((3, 5))\n",
    "print(arr)\n",
    "print(arr.T) # 전치 행렬"
   ]
  },
  {
   "cell_type": "code",
   "execution_count": 182,
   "id": "b14db7ee-bd4f-46e2-8246-cf1f4afc2132",
   "metadata": {},
   "outputs": [
    {
     "name": "stdout",
     "output_type": "stream",
     "text": [
      "[[ 0  1  0]\n",
      " [ 1  2 -2]\n",
      " [ 6  3  2]\n",
      " [-1  0 -1]\n",
      " [ 1  0  1]]\n",
      "[[ 0  1  6 -1  1]\n",
      " [ 1  2  3  0  0]\n",
      " [ 0 -2  2 -1  1]]\n",
      "[[39 20 12]\n",
      " [20 14  2]\n",
      " [12  2 10]]\n"
     ]
    }
   ],
   "source": [
    "arr = np.array([[0, 1, 0], [1, 2, -2], [6, 3, 2], [-1, 0, -1], [1, 0, 1]])\n",
    "print(arr)\n",
    "print(arr.T)\n",
    "result = np.dot(arr.T, arr)\n",
    "print(result)"
   ]
  },
  {
   "cell_type": "markdown",
   "id": "eb29abf4-01a8-487c-a4c3-47b5bcce9f20",
   "metadata": {},
   "source": [
    "* [0,0] 위치 (첫 번째 열과 자기 자신)<br />\n",
    "arr[:,0] # array([ 0,  1,  6, -1,  1])<br />\n",
    "dot = 0^2 + 1^2 + 6^2 + (-1)^2 + 1^2<br />\n",
    "    = 0 + 1 + 36 + 1 + 1 = **39<br />\n",
    "* [0,1] 위치 (1열과 2열)<br />\n",
    "arr[:,0] # [ 0,  1,  6, -1,  1]<br />\n",
    "arr[:,1] # [ 1,  2,  3,  0,  0]   <br />\n",
    "dot = (0)(1) + (1)(2) + (6)(3) + (-1)(0) + (1)(0)<br />\n",
    "    = 0 + 2 + 18 + 0 + 0 = **20**<br />\n",
    "* [0,2] 위치 (1열과 3열)<br />\n",
    "arr[:,0] # [ 0,  1,  6, -1,  1]<br />\n",
    "arr[:,2] # [ 0, -2,  2, -1,  1]<br />\n",
    "dot = (0)(0) + (1)(-2) + (6)(2) + (-1)(-1) + (1)(1)<br />\n",
    "    = 0 -2 +12 +1 +1 = **12**<br />\n",
    "* [1,0] 위치 (2열과 자기 자신)<br />\n",
    "arr[:,1] # [ 1,  2,  3,  0,  0]   <br />\n",
    "arr[:,0] # [ 0,  1,  6, -1,  1]<br />\n",
    "dot = (0)(1) + (1)(2) + (6)(3) + (-1)(0) + (1)(0)<br />\n",
    "    = 0 + 2 + 18 + 0 + 0 = **20**<br />\n",
    "* [1,1] 위치 (2열과 자기 자신)<br />\n",
    "arr[:,1] # [1, 2, 3, 0, 0]<br />\n",
    "dot = 1^2 + 2^2 + 3^2 + 0 + 0 = 1 + 4 + 9 = **14**<br />\n",
    "* [1,2] 위치 <br />\n",
    "arr[:,1] # [ 1,  2,  3,  0,  0]   <br />\n",
    "arr[:,2] # [ 0, -2,  2, -1,  1] <br />\n",
    "dot = 1×0 + 2×(-2) + 3×2 + 0×(-1) + 0×1 = 0 -4 +6 = **2**<br />\n",
    "* [2:0]<br />\n",
    "* [2:1]                           <br />                     \n",
    "* [2,2] 위치<br />\n",
    "arr[:,2] # [ 0, -2,  2, -1,  1] <br />\n",
    "dot = 0^2 + (-2)^2 + 2^2 + (-1)^2 + 1^2 = 0 + 4 + 4 + 1 + 1 = **10**<br />\n",
    "col1 = [ 0,  1,  6, -1,  1]   # arr[:, 0] <br />\n",
    "col2 = [ 1,  2,  3,  0,  0]   # arr[:, 1] <br />\n",
    "col3 = [ 0, -2,  2, -1,  1]   # arr[:, 2] <br />\n",
    "np.dot(arr.T, arr) 는 3×3 행렬이고, 그 안의 각 칸은 두 벡터의 내적값이에요. <br />\n",
    "\n",
    "| 위치(i, j) | 계산 내용          | 수식                                            |\n",
    "| -------- | ------------------- | --------------------------------------------- |\n",
    "| (0, 0)   | col1 ⋅ col1 (자기 자신) | ∑ col1ᵢ² = 0²+1²+6²+(-1)²+1² = **39**         |\n",
    "| (0, 1)   | col1 ⋅ col2         | 0×1 + 1×2 + 6×3 + (-1)×0 + 1×0 = **20**       |\n",
    "| (0, 2)   | col1 ⋅ col3         | 0×0 + 1×(-2) + 6×2 + (-1)×(-1) + 1×1 = **12** |\n",
    "| (1, 1)   | col2 ⋅ col2         | 1² + 2² + 3² = **14**                         |\n",
    "| (1, 2)   | col2 ⋅ col3         | 1×0 + 2×(-2) + 3×2 = **2**                    |\n",
    "| (2, 2)   | col3 ⋅ col3         | 0² + (-2)² + 2² + (-1)² + 1² = **10**         |\n"
   ]
  },
  {
   "cell_type": "code",
   "execution_count": 185,
   "id": "a214c978-8f59-4e4f-81cb-1f6a493faa74",
   "metadata": {},
   "outputs": [
    {
     "name": "stdout",
     "output_type": "stream",
     "text": [
      "[[39 20 12]\n",
      " [20 14  2]\n",
      " [12  2 10]]\n"
     ]
    }
   ],
   "source": [
    "# @연산자는 행렬 곱셈을 수행하는 또 다른 방법입니다.\n",
    "result = arr.T @ arr\n",
    "print(result)"
   ]
  },
  {
   "cell_type": "code",
   "execution_count": 186,
   "id": "8df53352-c85d-42aa-81c8-e9c12e99b78b",
   "metadata": {},
   "outputs": [
    {
     "name": "stdout",
     "output_type": "stream",
     "text": [
      "[[ 0  1  0]\n",
      " [ 1  2 -2]\n",
      " [ 6  3  2]\n",
      " [-1  0 -1]\n",
      " [ 1  0  1]]\n",
      "[[ 0  1  6 -1  1]\n",
      " [ 1  2  3  0  0]\n",
      " [ 0 -2  2 -1  1]]\n"
     ]
    }
   ],
   "source": [
    "print(arr)\n",
    "print(arr.swapaxes(0, 1)) # 전치 행렬  , arr.swapaxes(0, 1) == arr.T\n",
    "# arr.swapaxes(0, 1)에서 0과 1은 축(axis) 번호입니다.\n",
    "# axis 0과 axis 1을 서로 바꿈"
   ]
  },
  {
   "cell_type": "code",
   "execution_count": 191,
   "id": "40abb8dc-01ef-446a-b38c-df4d19478f42",
   "metadata": {},
   "outputs": [
    {
     "name": "stdout",
     "output_type": "stream",
     "text": [
      "[4 4 4]\n",
      "[4 4 4]\n"
     ]
    }
   ],
   "source": [
    "#  범용 함수 : 유니버설 함수(UFuncs) , 빠른 연상 함수\n",
    "x =  np.array([1,2,3])\n",
    "y =  np.array([3,2,1])\n",
    "result = x + y\n",
    "print(result)\n",
    "result = np.add(x,y) \n",
    "print(result)"
   ]
  },
  {
   "cell_type": "code",
   "execution_count": 192,
   "id": "08dcd976-6429-43c4-af5b-8eeffe5b0ba7",
   "metadata": {},
   "outputs": [
    {
     "name": "stdout",
     "output_type": "stream",
     "text": [
      "[0.         1.         1.41421356 1.73205081 2.         2.23606798\n",
      " 2.44948974 2.64575131 2.82842712 3.        ]\n",
      "[1.00000000e+00 2.71828183e+00 7.38905610e+00 2.00855369e+01\n",
      " 5.45981500e+01 1.48413159e+02 4.03428793e+02 1.09663316e+03\n",
      " 2.98095799e+03 8.10308393e+03]\n"
     ]
    }
   ],
   "source": [
    "arr = np.arange(10)\n",
    "print(np.sqrt(arr)) # np.sqrt(arr) : 제곱근(square root) , 음수일 경우 nan 또는 complex 경고 발생\n",
    "print(np.exp(arr)) # np.exp(arr) : 자연지수 함수 (e^x) , np.exp(x)는 각 요소 x에 대해 e^x (자연로그 밑 e = 2.71828...)의 거듭제곱을 계산합니다."
   ]
  },
  {
   "cell_type": "code",
   "execution_count": null,
   "id": "b9256ce0-b681-48bb-8117-e2b8ec273434",
   "metadata": {},
   "outputs": [],
   "source": [
    "samples = np.random.standard_normal(size=(4, 4))\n",
    "samples\n",
    "# standard_normal는 평균이 0이고 표준편차가 1이되는 행렬을 만들 때 사용"
   ]
  },
  {
   "cell_type": "code",
   "execution_count": 194,
   "id": "fb2d7555-fb2f-4cc9-91db-59b2454b1f37",
   "metadata": {},
   "outputs": [
    {
     "name": "stdout",
     "output_type": "stream",
     "text": [
      "[ 0.78884434 -1.25666813  0.57585751  1.39897899  1.32229806 -0.29969852\n",
      "  0.90291934 -1.62158273]\n",
      "[-0.15818926  0.44948393 -1.34360107 -0.08168759  1.72473993  2.61815943\n",
      "  0.77736134  0.8286332 ]\n"
     ]
    },
    {
     "data": {
      "text/plain": [
       "array([0.78884434, 0.44948393, 0.57585751, 1.39897899, 1.72473993,\n",
       "       2.61815943, 0.90291934, 0.8286332 ])"
      ]
     },
     "execution_count": 194,
     "metadata": {},
     "output_type": "execute_result"
    }
   ],
   "source": [
    "x = rng.standard_normal(8)\n",
    "y = rng.standard_normal(8)\n",
    "print(x)\n",
    "print(y)\n",
    "np.maximum(x, y)"
   ]
  },
  {
   "cell_type": "code",
   "execution_count": 196,
   "id": "dbe73dc3-3051-416c-b288-03c5a8d8c3e7",
   "metadata": {},
   "outputs": [
    {
     "name": "stdout",
     "output_type": "stream",
     "text": [
      "[ 1.28778884  1.56451459 -0.65405845  6.3499156  -0.46481229 -0.33075445\n",
      " -5.54107234]\n",
      "[ 0.28778884  0.56451459 -0.65405845  0.3499156  -0.46481229 -0.33075445\n",
      " -0.54107234]\n",
      "[ 1.  1. -0.  6. -0. -0. -5.]\n"
     ]
    }
   ],
   "source": [
    "arr = rng.standard_normal(7) * 5\n",
    "print(arr)\n",
    "# math.modf, 부동 소수점 배열의 분수 부분과 정수 부분을 반환합니다.\n",
    "np.modf(arr)\n",
    "remainder, whole_part = np.modf(arr)\n",
    "print(remainder)\n",
    "print(whole_part)"
   ]
  },
  {
   "cell_type": "code",
   "execution_count": 199,
   "id": "36d0f04e-0ba8-44f8-a85b-a73548ad1edc",
   "metadata": {},
   "outputs": [
    {
     "name": "stdout",
     "output_type": "stream",
     "text": [
      "[ 1.28778884  1.56451459 -0.65405845  6.3499156  -0.46481229 -0.33075445\n",
      " -5.54107234]\n",
      "[0. 0. 0. 0. 0. 0. 0.]\n",
      "[ 2.28778884  2.56451459  0.34594155  7.3499156   0.53518771  0.66924555\n",
      " -4.54107234]\n"
     ]
    },
    {
     "data": {
      "text/plain": [
       "array([ 2.28778884,  2.56451459,  0.34594155,  7.3499156 ,  0.53518771,\n",
       "        0.66924555, -4.54107234])"
      ]
     },
     "execution_count": 199,
     "metadata": {},
     "output_type": "execute_result"
    }
   ],
   "source": [
    "print(arr)\n",
    "out = np.zeros_like(arr)\n",
    "print(out) # 0으로 채워진 arr크기와 type이 같은 배열'\n",
    "result = np.add(arr, 1)\n",
    "print(result)\n",
    "np.add(arr, 1, out=out) # arr의 각 요소에 1을 더한 결과를 out 배열에 저장한다."
   ]
  },
  {
   "cell_type": "markdown",
   "id": "688b0f6a-c3de-4b1e-9123-1b9e6f68dd23",
   "metadata": {},
   "source": [
    "# 조건 논리를 배열 연산으로 표현하기"
   ]
  },
  {
   "cell_type": "code",
   "execution_count": 3,
   "id": "fc18d0c2-8aa6-473e-bd2a-5b66788ca831",
   "metadata": {},
   "outputs": [
    {
     "name": "stdout",
     "output_type": "stream",
     "text": [
      "[1.1 1.2 1.3 1.4 1.5]\n",
      "[2.1 2.2 2.3 2.4 2.5]\n",
      "[ True False  True  True False]\n"
     ]
    }
   ],
   "source": [
    "\n",
    "xarr = np.array([1.1, 1.2, 1.3, 1.4, 1.5])\n",
    "print(xarr)\n",
    "yarr = np.array([2.1, 2.2, 2.3, 2.4, 2.5])\n",
    "print(yarr)\n",
    "cond = np.array([True, False, True, True, False])\n",
    "print(cond)"
   ]
  },
  {
   "cell_type": "code",
   "execution_count": 10,
   "id": "f0ce4325-a3a1-4164-ac8b-3d45fb0ff510",
   "metadata": {},
   "outputs": [
    {
     "data": {
      "text/plain": [
       "[1.1, 2.2, 1.3, 1.4, 2.5]"
      ]
     },
     "execution_count": 10,
     "metadata": {},
     "output_type": "execute_result"
    }
   ],
   "source": [
    "result = [float(x if c else y)\n",
    "    for x, y, c in zip(xarr, yarr, cond)]\n",
    "# zip(xarr, yarr, cond)은 세 개의 리스트를 동시에 순회하게 해줍니다.\n",
    "'''\n",
    "result = []\n",
    "for x, y, c in zip(xarr, yarr, cond):\n",
    "    if c:\n",
    "        result.append(float(x))\n",
    "    else:\n",
    "        result.append(float(y))\n",
    "'''\n",
    "result"
   ]
  },
  {
   "cell_type": "code",
   "execution_count": 11,
   "id": "8a38705e-aff2-49a2-a4cd-a0922d9788e5",
   "metadata": {},
   "outputs": [
    {
     "data": {
      "text/plain": [
       "array([1.1, 2.2, 1.3, 1.4, 2.5])"
      ]
     },
     "execution_count": 11,
     "metadata": {},
     "output_type": "execute_result"
    }
   ],
   "source": [
    "result = np.where(cond, xarr, yarr)\n",
    "result"
   ]
  },
  {
   "cell_type": "code",
   "execution_count": 13,
   "id": "7dc07eb1-8be4-4251-825b-12864eb94fa1",
   "metadata": {},
   "outputs": [],
   "source": [
    "# 난수를 생성 시킨다.\n",
    "# 동일한 시드를 사용하면 같은 난수 순서를 얻게 됩니다.\n",
    "rng = np.random.default_rng(seed=12345)\n",
    "print(rng.random(3))  # 0~1 사이 난수 3개\n",
    "print(rng.integers(low=0, high=10, size=5))  # 0~9 사이 정수 5개"
   ]
  },
  {
   "cell_type": "code",
   "execution_count": 14,
   "id": "568490ab-045c-4c05-b6ad-51cf0d481c49",
   "metadata": {},
   "outputs": [
    {
     "name": "stdout",
     "output_type": "stream",
     "text": [
      "[[-1.42382504  1.26372846 -0.87066174 -0.25917323]\n",
      " [-0.07534331 -0.74088465 -1.3677927   0.6488928 ]\n",
      " [ 0.36105811 -1.95286306  2.34740965  0.96849691]\n",
      " [-0.75938718  0.90219827 -0.46695317 -0.06068952]]\n",
      "[[False  True False False]\n",
      " [False False False  True]\n",
      " [ True False  True  True]\n",
      " [False  True False False]]\n"
     ]
    }
   ],
   "source": [
    "# 모든 양수 값을 2로, 모든 음수 값을 -2로 바꾸\n",
    "arr = rng.standard_normal((4, 4))\n",
    "print(arr)\n",
    "print(arr > 0)\n",
    "np.where(arr > 0, 2, -2)"
   ]
  },
  {
   "cell_type": "code",
   "execution_count": 15,
   "id": "395a53a4-4704-4fd9-98e4-38606dc0f345",
   "metadata": {},
   "outputs": [
    {
     "data": {
      "text/plain": [
       "array([[-1.42382504,  2.        , -0.87066174, -0.25917323],\n",
       "       [-0.07534331, -0.74088465, -1.3677927 ,  2.        ],\n",
       "       [ 2.        , -1.95286306,  2.        ,  2.        ],\n",
       "       [-0.75938718,  2.        , -0.46695317, -0.06068952]])"
      ]
     },
     "execution_count": 15,
     "metadata": {},
     "output_type": "execute_result"
    }
   ],
   "source": [
    "np.where(arr > 0, 2, arr)"
   ]
  },
  {
   "cell_type": "markdown",
   "id": "21db35cc-a225-42b3-bda0-7eb72e4092e7",
   "metadata": {},
   "source": [
    "# 수학적 및 통계적 방법"
   ]
  },
  {
   "cell_type": "code",
   "execution_count": 21,
   "id": "c1be3fe6-2c46-4817-83c8-77976c510826",
   "metadata": {},
   "outputs": [
    {
     "name": "stdout",
     "output_type": "stream",
     "text": [
      "[[ 1.62195180e+00 -3.17391946e-01 -8.15814967e-01  3.86579017e-01]\n",
      " [-2.23638926e-01 -7.01690809e-01 -1.79571318e+00  8.18325622e-01]\n",
      " [-5.71032902e-01  7.85525063e-04 -1.06364272e+00  1.30171450e+00]\n",
      " [ 7.47872942e-01  9.80875909e-01 -1.10418688e-01  4.67918531e-01]\n",
      " [ 8.90607150e-01  1.02300937e+00  3.12383389e-01 -6.19046857e-02]]\n",
      "0.14453874667494737\n",
      "0.14453874667494737\n",
      "2.8907749334989474\n"
     ]
    }
   ],
   "source": [
    "arr = rng.standard_normal((5, 4)) # \"평균 0, 표준편차 1인 정규분포에서 난수를 뽑아 5행 4열의 2차원 배열을 생성해 arr에 저장한다.\"\n",
    "print(arr)\n",
    "print(arr.mean())\n",
    "print(np.mean(arr))\n",
    "print(arr.sum())"
   ]
  },
  {
   "cell_type": "code",
   "execution_count": 24,
   "id": "db2df56e-a8da-4664-a359-a2a6a9667d6b",
   "metadata": {},
   "outputs": [
    {
     "name": "stdout",
     "output_type": "stream",
     "text": [
      "[[ 1.62195180e+00 -3.17391946e-01 -8.15814967e-01  3.86579017e-01]\n",
      " [-2.23638926e-01 -7.01690809e-01 -1.79571318e+00  8.18325622e-01]\n",
      " [-5.71032902e-01  7.85525063e-04 -1.06364272e+00  1.30171450e+00]\n",
      " [ 7.47872942e-01  9.80875909e-01 -1.10418688e-01  4.67918531e-01]\n",
      " [ 8.90607150e-01  1.02300937e+00  3.12383389e-01 -6.19046857e-02]]\n",
      "[ 0.21883098 -0.47567932 -0.0830439   0.52156217  0.5410238 ]\n",
      "[ 2.46576006  0.98558805 -3.47320616  2.91263298]\n"
     ]
    }
   ],
   "source": [
    "print(arr)\n",
    "print(arr.mean(axis=1))\n",
    "print(arr.sum(axis=0))"
   ]
  },
  {
   "cell_type": "code",
   "execution_count": 26,
   "id": "6733d7f7-cda3-400b-a491-b4a0bf4f9a91",
   "metadata": {},
   "outputs": [
    {
     "name": "stdout",
     "output_type": "stream",
     "text": [
      "[0 1 2 3 4 5 6 7]\n",
      "[ 0  1  3  6 10 15 21 28]\n"
     ]
    }
   ],
   "source": [
    "arr = np.array([0, 1, 2, 3, 4, 5, 6, 7])\n",
    "print(arr)\n",
    "print(arr.cumsum())"
   ]
  },
  {
   "cell_type": "code",
   "execution_count": 29,
   "id": "dd476812-1b51-403d-acc9-dac01c512519",
   "metadata": {},
   "outputs": [
    {
     "name": "stdout",
     "output_type": "stream",
     "text": [
      "[[0 1 2]\n",
      " [3 4 5]\n",
      " [6 7 8]]\n",
      "[[ 0  1  2]\n",
      " [ 3  5  7]\n",
      " [ 9 12 15]]\n",
      "[[ 0  1  3]\n",
      " [ 3  7 12]\n",
      " [ 6 13 21]]\n"
     ]
    }
   ],
   "source": [
    "arr = np.array([[0, 1, 2], [3, 4, 5], [6, 7, 8]])\n",
    "print(arr)\n",
    "print(arr.cumsum(axis=0))\n",
    "print(arr.cumsum(axis=1))"
   ]
  },
  {
   "cell_type": "markdown",
   "id": "2cf90c0a-5d03-4ae6-a9b7-ee4fc1a62022",
   "metadata": {},
   "source": [
    "# 부울 배열에 대한 메서드"
   ]
  },
  {
   "cell_type": "code",
   "execution_count": 36,
   "id": "156ff27f-5b44-49a6-a2db-e5bb1c13754b",
   "metadata": {},
   "outputs": [
    {
     "name": "stdout",
     "output_type": "stream",
     "text": [
      "[ 1.33140349  1.38554064 -0.0213583  -0.83706473  3.20068942  2.14788244\n",
      " -0.10666477 -0.93015494 -0.42367437  0.28096105  1.13155122  0.96938323\n",
      "  0.4354152  -0.24712573  0.16818521 -0.31062454  0.0709336  -0.1033723\n",
      "  0.52532528 -1.88267705 -0.34567801 -0.2913092  -1.13063834 -0.17272468\n",
      " -1.05354233 -0.66455314 -0.289682   -0.25317177 -0.57378316  1.10347462\n",
      "  0.20116509  0.32235142  0.23309276 -0.66806524 -0.88321901  0.83963969\n",
      " -0.3530779  -1.77113747 -2.1987871   0.22176018 -0.73707721 -0.06758385\n",
      " -0.54725416 -0.40741463 -0.17273762 -1.24740736 -0.01876242  0.98612359\n",
      "  0.69567427 -1.73962463 -1.34163608 -1.33282638 -0.24806882  0.85483479\n",
      "  0.32298434 -1.75364283  0.05488553  0.80741159 -0.44901398  1.90417969\n",
      " -0.6514683   1.17248231  2.35122688 -1.2764236  -0.32368662  0.5746962\n",
      "  3.21141765 -1.78846554  0.56605023  0.28479635 -0.42237613 -0.83485244\n",
      " -0.52591618 -0.30305367 -1.2698595   1.5754851  -1.1084501  -0.42751936\n",
      " -0.66148108 -0.41325393  0.09297793 -0.75759707 -0.23612991  1.72446043\n",
      "  1.05620035 -0.288029    0.9071776  -0.76849407  0.22593124 -1.42854248\n",
      " -1.14411867 -0.86655639  1.23753573  0.23069137  0.54776303  0.15165293\n",
      "  0.36690004  0.41947892  0.76532119  0.16125668]\n",
      "[ True  True False False  True  True False False False  True  True  True\n",
      "  True False  True False  True False  True False False False False False\n",
      " False False False False False  True  True  True  True False False  True\n",
      " False False False  True False False False False False False False  True\n",
      "  True False False False False  True  True False  True  True False  True\n",
      " False  True  True False False  True  True False  True  True False False\n",
      " False False False  True False False False False  True False False  True\n",
      "  True False  True False  True False False False  True  True  True  True\n",
      "  True  True  True  True]\n",
      "44\n",
      "[False False  True  True False False  True  True  True False False False\n",
      " False  True False  True False  True False  True  True  True  True  True\n",
      "  True  True  True  True  True False False False False  True  True False\n",
      "  True  True  True False  True  True  True  True  True  True  True False\n",
      " False  True  True  True  True False False  True False False  True False\n",
      "  True False False  True  True False False  True False False  True  True\n",
      "  True  True  True False  True  True  True  True False  True  True False\n",
      " False  True False  True False  True  True  True False False False False\n",
      " False False False False]\n",
      "56\n"
     ]
    }
   ],
   "source": [
    "arr = rng.standard_normal(100)\n",
    "print(arr)\n",
    "print(arr > 0)\n",
    "print((arr > 0).sum())\n",
    "print(arr <= 0)\n",
    "print((arr <= 0).sum())"
   ]
  },
  {
   "cell_type": "code",
   "execution_count": 37,
   "id": "11ce7748-2dc9-4e3e-b13e-7781cb904939",
   "metadata": {},
   "outputs": [
    {
     "name": "stdout",
     "output_type": "stream",
     "text": [
      "True\n",
      "False\n"
     ]
    }
   ],
   "source": [
    "bools = np.array([False, False, True, False])\n",
    "print(bools.any()) # True가 하나 이상인자\n",
    "print(bools.all()) # 모두 True인지"
   ]
  },
  {
   "cell_type": "markdown",
   "id": "e571dda4-9663-438b-8b32-cc68b6a4b5e2",
   "metadata": {},
   "source": [
    "# 정렬"
   ]
  },
  {
   "cell_type": "code",
   "execution_count": 38,
   "id": "3e9ff781-e769-47ea-bd35-86ea9847441c",
   "metadata": {},
   "outputs": [
    {
     "name": "stdout",
     "output_type": "stream",
     "text": [
      "[-0.91603482 -0.79091899  1.21417311  1.41180344  0.55936443 -1.64489871]\n",
      "[-1.64489871 -0.91603482 -0.79091899  0.55936443  1.21417311  1.41180344]\n"
     ]
    }
   ],
   "source": [
    "arr = rng.standard_normal(6)\n",
    "print(arr)\n",
    "arr.sort()\n",
    "print(arr)"
   ]
  },
  {
   "cell_type": "code",
   "execution_count": 39,
   "id": "d11e250f-f383-47cf-960b-1acdc251ce26",
   "metadata": {},
   "outputs": [
    {
     "name": "stdout",
     "output_type": "stream",
     "text": [
      "[[ 1.57517058  0.3229356  -0.074522  ]\n",
      " [ 0.01965488 -0.37268364  1.75834442]\n",
      " [ 1.68263067 -1.06481789 -0.18979611]\n",
      " [ 0.30340344  1.27573152 -2.42960165]\n",
      " [ 0.93061002  1.6678386  -0.33409003]]\n",
      "[[ 0.01965488 -1.06481789 -2.42960165]\n",
      " [ 0.30340344 -0.37268364 -0.33409003]\n",
      " [ 0.93061002  0.3229356  -0.18979611]\n",
      " [ 1.57517058  1.27573152 -0.074522  ]\n",
      " [ 1.68263067  1.6678386   1.75834442]]\n",
      "[[-2.42960165 -1.06481789  0.01965488]\n",
      " [-0.37268364 -0.33409003  0.30340344]\n",
      " [-0.18979611  0.3229356   0.93061002]\n",
      " [-0.074522    1.27573152  1.57517058]\n",
      " [ 1.6678386   1.68263067  1.75834442]]\n"
     ]
    }
   ],
   "source": [
    "arr = rng.standard_normal((5, 3))\n",
    "print(arr)\n",
    "arr.sort(axis=0)\n",
    "print(arr)\n",
    "arr.sort(axis=1)\n",
    "print(arr)"
   ]
  },
  {
   "cell_type": "code",
   "execution_count": 40,
   "id": "0b683a91-6838-451c-be1e-b048c074a7cb",
   "metadata": {},
   "outputs": [
    {
     "name": "stdout",
     "output_type": "stream",
     "text": [
      "[  5 -10   7   1   0  -3]\n",
      "[-10  -3   0   1   5   7]\n"
     ]
    }
   ],
   "source": [
    "arr2 = np.array([5, -10, 7, 1, 0, -3])\n",
    "sorted_arr2 = np.sort(arr2)\n",
    "print(arr2)\n",
    "print(sorted_arr2)"
   ]
  },
  {
   "cell_type": "markdown",
   "id": "43eee1e4-b528-4666-a286-4cb7c0b39f5e",
   "metadata": {},
   "source": [
    "# 고유 및 기타 집합 논리"
   ]
  },
  {
   "cell_type": "code",
   "execution_count": 41,
   "id": "09eba725-c523-4c44-ac98-e1d31d2f43b4",
   "metadata": {},
   "outputs": [
    {
     "name": "stdout",
     "output_type": "stream",
     "text": [
      "['Bob' 'Joe' 'Will']\n",
      "[1 2 3 4]\n"
     ]
    }
   ],
   "source": [
    "# 중복값 재\n",
    "names = np.array([\"Bob\", \"Will\", \"Joe\", \"Bob\", \"Will\", \"Joe\", \"Joe\"])\n",
    "print(np.unique(names))\n",
    "\n",
    "ints = np.array([3, 3, 3, 2, 2, 1, 1, 4, 4])\n",
    "print(np.unique(ints))"
   ]
  },
  {
   "cell_type": "code",
   "execution_count": 48,
   "id": "79b11dcf-9b64-4c49-9b98-9396998e065b",
   "metadata": {},
   "outputs": [
    {
     "name": "stdout",
     "output_type": "stream",
     "text": [
      "['Bob', 'Joe', 'Will']\n"
     ]
    }
   ],
   "source": [
    "unique_sorted_names = list(map(str, np.unique(names)))\n",
    "print(unique_sorted_names)"
   ]
  },
  {
   "cell_type": "code",
   "execution_count": 50,
   "id": "1640ffb2-735e-4868-956a-4e6fc696638c",
   "metadata": {},
   "outputs": [
    {
     "data": {
      "text/plain": [
       "array([ True, False, False,  True,  True, False,  True])"
      ]
     },
     "execution_count": 50,
     "metadata": {},
     "output_type": "execute_result"
    }
   ],
   "source": [
    "values = np.array([6, 0, 0, 3, 2, 5, 6])\n",
    "np.isin(values, [2, 3, 6]) # 팬시 index를 출력"
   ]
  },
  {
   "cell_type": "markdown",
   "id": "b1e45cb9-9d11-4f40-ab89-4f036eca4720",
   "metadata": {},
   "source": [
    "# 배열을 사용한 파일 입력 및 출력"
   ]
  },
  {
   "cell_type": "code",
   "execution_count": 51,
   "id": "8c748693-dcb3-4172-a503-584ee27c630f",
   "metadata": {},
   "outputs": [],
   "source": [
    "arr = np.arange(10)\n",
    "np.save(\"some_array\", arr)"
   ]
  },
  {
   "cell_type": "code",
   "execution_count": 52,
   "id": "b427175d-8c56-4efb-8125-72f10bf7e88c",
   "metadata": {},
   "outputs": [
    {
     "data": {
      "text/plain": [
       "array([0, 1, 2, 3, 4, 5, 6, 7, 8, 9])"
      ]
     },
     "execution_count": 52,
     "metadata": {},
     "output_type": "execute_result"
    }
   ],
   "source": [
    "result = np.load(\"some_array.npy\")\n",
    "result"
   ]
  },
  {
   "cell_type": "code",
   "execution_count": 55,
   "id": "b4512b7e-bcd1-4be0-9946-bd7bbb995eeb",
   "metadata": {},
   "outputs": [
    {
     "name": "stdout",
     "output_type": "stream",
     "text": [
      "[0 1 2 3 4 5 6 7 8 9]\n",
      "[0 1 2 3 4 5 6 7 8 9]\n"
     ]
    }
   ],
   "source": [
    "np.savez(\"array_archive.npz\", a=arr, b=arr) # a=arr, b=arr이기 때문에 같은 배열이 두 번 저장됩니다.\n",
    "arch = np.load(\"array_archive.npz\")\n",
    "print(arch[\"a\"])  # 저장된 'a' 배열\n",
    "print(arch[\"b\"])  # 저장된 'b' 배열"
   ]
  },
  {
   "cell_type": "code",
   "execution_count": null,
   "id": "457528c2-1f54-43c3-80be-762df139ce14",
   "metadata": {},
   "outputs": [],
   "source": []
  },
  {
   "cell_type": "code",
   "execution_count": null,
   "id": "c9595d25-049d-4b82-8782-440bce61f56d",
   "metadata": {},
   "outputs": [],
   "source": []
  },
  {
   "cell_type": "code",
   "execution_count": null,
   "id": "70562bf3-f955-4098-a943-e0ac36c10e3d",
   "metadata": {},
   "outputs": [],
   "source": []
  }
 ],
 "metadata": {
  "kernelspec": {
   "display_name": "Python 3 (ipykernel)",
   "language": "python",
   "name": "python3"
  },
  "language_info": {
   "codemirror_mode": {
    "name": "ipython",
    "version": 3
   },
   "file_extension": ".py",
   "mimetype": "text/x-python",
   "name": "python",
   "nbconvert_exporter": "python",
   "pygments_lexer": "ipython3",
   "version": "3.13.5"
  }
 },
 "nbformat": 4,
 "nbformat_minor": 5
}
